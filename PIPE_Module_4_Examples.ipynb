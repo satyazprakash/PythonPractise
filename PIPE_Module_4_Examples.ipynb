{
  "nbformat": 4,
  "nbformat_minor": 0,
  "metadata": {
    "colab": {
      "provenance": [],
      "authorship_tag": "ABX9TyMSM/sAR6XM363ikb8x7sL+",
      "include_colab_link": true
    },
    "kernelspec": {
      "name": "python3",
      "display_name": "Python 3"
    },
    "language_info": {
      "name": "python"
    }
  },
  "cells": [
    {
      "cell_type": "markdown",
      "metadata": {
        "id": "view-in-github",
        "colab_type": "text"
      },
      "source": [
        "<a href=\"https://colab.research.google.com/github/satyazprakash/PythonPractise/blob/main/PIPE_Module_4_Examples.ipynb\" target=\"_parent\"><img src=\"https://colab.research.google.com/assets/colab-badge.svg\" alt=\"Open In Colab\"/></a>"
      ]
    },
    {
      "cell_type": "markdown",
      "source": [
        "# Functions"
      ],
      "metadata": {
        "id": "_JYElwvBkfA0"
      }
    },
    {
      "cell_type": "code",
      "source": [
        "#\n",
        "# Repeated actions:\n",
        "#\n",
        "\n",
        "print(\"Enter a value: \")\n",
        "a = int(input())\n",
        "\n",
        "print(\"Enter a value: \")\n",
        "b = int(input())\n",
        "\n",
        "print(\"Enter a value: \")\n",
        "c = int(input())\n",
        "\n",
        "\n"
      ],
      "metadata": {
        "colab": {
          "base_uri": "https://localhost:8080/"
        },
        "id": "9m_pCrSakyWh",
        "outputId": "6d045c58-6ae2-47b5-9066-8427a778222b"
      },
      "execution_count": 1,
      "outputs": [
        {
          "name": "stdout",
          "output_type": "stream",
          "text": [
            "Enter a value: \n",
            "1\n",
            "Enter a value: \n",
            "2\n",
            "Enter a value: \n",
            "3\n"
          ]
        }
      ]
    },
    {
      "cell_type": "markdown",
      "source": [
        "# This is what the simplest function definition looks like:\n",
        "\n",
        "def function_name():\n",
        "    function_body\n",
        "\n",
        "It always starts with the keyword def (for define)\n",
        "next after def goes the name of the function (the rules for naming functions are exactly the same as for naming variables)\n",
        "after the function name, there's a place for a pair of parentheses (they contain nothing here, but that will change soon)\n",
        "the line has to be ended with a colon;\n",
        "the line directly after def begins the function body ‒ a couple (at least one) of necessarily nested instructions, which will be executed every time the function is invoked; note: the function ends where the nesting ends, so you have to be careful.\n"
      ],
      "metadata": {
        "id": "R8tYypI8shwf"
      }
    },
    {
      "cell_type": "code",
      "source": [
        "#\n",
        "def message():\n",
        "  print(\"Enter a Value\")\n"
      ],
      "metadata": {
        "id": "KkFnZPpdswDX"
      },
      "execution_count": 2,
      "outputs": []
    },
    {
      "cell_type": "code",
      "source": [
        "def message():\n",
        "    print(\"Enter a value: \")\n",
        "\n",
        "print(\"We start here.\")\n",
        "print(\"We end here.\")"
      ],
      "metadata": {
        "colab": {
          "base_uri": "https://localhost:8080/"
        },
        "id": "KLbzmx0ls_Tn",
        "outputId": "4b990175-caf2-4202-8aa1-6c8f8fed3269"
      },
      "execution_count": 3,
      "outputs": [
        {
          "output_type": "stream",
          "name": "stdout",
          "text": [
            "We start here.\n",
            "We end here.\n"
          ]
        }
      ]
    },
    {
      "cell_type": "code",
      "source": [
        "# We've modified the code now ‒ we've inserted the function's invocation between the start and end messages:\n",
        "\n",
        "def message():\n",
        "    print(\"Enter a value: \")\n",
        "\n",
        "print(\"We start here.\")\n",
        "message()\n",
        "print(\"We end here.\")\n",
        "\n"
      ],
      "metadata": {
        "colab": {
          "base_uri": "https://localhost:8080/"
        },
        "id": "mDStHlXetCdo",
        "outputId": "491745e9-9c8f-4693-81b2-561a3cdae2e4"
      },
      "execution_count": 4,
      "outputs": [
        {
          "output_type": "stream",
          "name": "stdout",
          "text": [
            "We start here.\n",
            "Enter a value: \n",
            "We end here.\n"
          ]
        }
      ]
    },
    {
      "cell_type": "markdown",
      "source": [
        "# There are two, very important, catches. Here's the first of them:\n",
        "\n",
        "You mustn't invoke a function which is not known at the moment of invocation.\n",
        "\n",
        "Remember - Python reads your code from top to bottom. It's not going to look ahead in order to find a function you forgot to put in the right place (\"right\" means \"before invocation\".)"
      ],
      "metadata": {
        "id": "uJns7fkduNPE"
      }
    },
    {
      "cell_type": "code",
      "source": [
        "# Below code will give error\n",
        "print(\"We start here.\")\n",
        "message1()\n",
        "print(\"We end here.\")\n",
        "\n",
        "\n",
        "def message1():\n",
        "    print(\"Enter a value: \")"
      ],
      "metadata": {
        "colab": {
          "base_uri": "https://localhost:8080/",
          "height": 237
        },
        "id": "5hfC4qA5uO6K",
        "outputId": "fb51a1c8-b08e-4e8f-b797-92e41bcbb83a"
      },
      "execution_count": 6,
      "outputs": [
        {
          "output_type": "stream",
          "name": "stdout",
          "text": [
            "We start here.\n"
          ]
        },
        {
          "output_type": "error",
          "ename": "NameError",
          "evalue": "name 'message1' is not defined",
          "traceback": [
            "\u001b[0;31m---------------------------------------------------------------------------\u001b[0m",
            "\u001b[0;31mNameError\u001b[0m                                 Traceback (most recent call last)",
            "\u001b[0;32m/tmp/ipython-input-1427151683.py\u001b[0m in \u001b[0;36m<cell line: 0>\u001b[0;34m()\u001b[0m\n\u001b[1;32m      1\u001b[0m \u001b[0;31m# Below code will give error\u001b[0m\u001b[0;34m\u001b[0m\u001b[0;34m\u001b[0m\u001b[0m\n\u001b[1;32m      2\u001b[0m \u001b[0mprint\u001b[0m\u001b[0;34m(\u001b[0m\u001b[0;34m\"We start here.\"\u001b[0m\u001b[0;34m)\u001b[0m\u001b[0;34m\u001b[0m\u001b[0;34m\u001b[0m\u001b[0m\n\u001b[0;32m----> 3\u001b[0;31m \u001b[0mmessage1\u001b[0m\u001b[0;34m(\u001b[0m\u001b[0;34m)\u001b[0m\u001b[0;34m\u001b[0m\u001b[0;34m\u001b[0m\u001b[0m\n\u001b[0m\u001b[1;32m      4\u001b[0m \u001b[0mprint\u001b[0m\u001b[0;34m(\u001b[0m\u001b[0;34m\"We end here.\"\u001b[0m\u001b[0;34m)\u001b[0m\u001b[0;34m\u001b[0m\u001b[0;34m\u001b[0m\u001b[0m\n\u001b[1;32m      5\u001b[0m \u001b[0;34m\u001b[0m\u001b[0m\n",
            "\u001b[0;31mNameError\u001b[0m: name 'message1' is not defined"
          ]
        }
      ]
    },
    {
      "cell_type": "markdown",
      "source": [
        "# The second catch sounds a little simpler:\n",
        "\n",
        "You mustn't have a function and a variable of the same name."
      ],
      "metadata": {
        "id": "q2V53Fi5ubPa"
      }
    },
    {
      "cell_type": "code",
      "source": [
        "def message():\n",
        "    print(\"Enter a value: \")\n",
        "\n",
        "message = 1 # Assigning a value to the name message causes Python to forget its previous role. The function named message becomes unavailable.\n"
      ],
      "metadata": {
        "id": "acml5J0hujrH"
      },
      "execution_count": 8,
      "outputs": []
    },
    {
      "cell_type": "code",
      "source": [
        "# Fortunately, you're free to mix your code with functions ‒ you're not obliged to put all your functions at the top of your source\n",
        "# Look at the snippet:\n",
        "\n",
        "print(\"We start here.\")\n",
        "\n",
        "def message():\n",
        "    print(\"Enter a value: \")\n",
        "\n",
        "message()\n",
        "\n",
        "print(\"We end here.\")"
      ],
      "metadata": {
        "colab": {
          "base_uri": "https://localhost:8080/"
        },
        "id": "bfr47fnIu1Dk",
        "outputId": "8dc7c2fe-6d37-44c1-92f9-112a1bd7b43a"
      },
      "execution_count": 9,
      "outputs": [
        {
          "output_type": "stream",
          "name": "stdout",
          "text": [
            "We start here.\n",
            "Enter a value: \n",
            "We end here.\n"
          ]
        }
      ]
    },
    {
      "cell_type": "code",
      "source": [
        "#Let's return to our primary example, and employ the function for the right job, like here:\n",
        "def message():\n",
        "  print(\"Enter a value: \")\n",
        "\n",
        "message()\n",
        "a = int(input())\n",
        "message()\n",
        "b = int(input())\n",
        "message()\n",
        "c=int(input())"
      ],
      "metadata": {
        "colab": {
          "base_uri": "https://localhost:8080/"
        },
        "id": "1VqEN6a4vVpM",
        "outputId": "512ea526-bbe3-4f89-f86e-886961b6cb6c"
      },
      "execution_count": 10,
      "outputs": [
        {
          "name": "stdout",
          "output_type": "stream",
          "text": [
            "Enter a value: \n",
            "1\n",
            "Enter a value: \n",
            "2\n",
            "Enter a value: \n",
            "2\n"
          ]
        }
      ]
    },
    {
      "cell_type": "markdown",
      "source": [
        "1. A function is a block of code that performs a specific task when the function is called (invoked). You can use functions to make your code reusable, better organized, and more readable. Functions can have parameters and return values.\n",
        "\n",
        "2. There are at least four basic types of functions in Python:\n",
        "\n",
        "built-in functions which are an integral part of Python (such as the print() function). You can see a complete list of built-in Python functions at https://docs.python.org/3/library/functions.html.\n",
        "the ones that come from pre-installed modules (you'll learn about them in the Python Essentials 2 course)\n",
        "user-defined functions which are written by users for users ‒ you can write your own functions and use them freely in your code,\n",
        "the lambda functions (you'll learn about them in the Python Essentials 2 course.)\n",
        "3. You can define your own function using the def keyword and the following syntax:\n",
        "\n",
        "def your_function(optional parameters):\n",
        "    # the body of the function"
      ],
      "metadata": {
        "id": "a5ny56hEwKPb"
      }
    },
    {
      "cell_type": "code",
      "source": [],
      "metadata": {
        "id": "ZF10O9SUwMz6"
      },
      "execution_count": null,
      "outputs": []
    }
  ]
}