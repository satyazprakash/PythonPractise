{
  "nbformat": 4,
  "nbformat_minor": 0,
  "metadata": {
    "colab": {
      "provenance": [],
      "authorship_tag": "ABX9TyPTlVF5H7DePugVuy2r1YvP",
      "include_colab_link": true
    },
    "kernelspec": {
      "name": "python3",
      "display_name": "Python 3"
    },
    "language_info": {
      "name": "python"
    }
  },
  "cells": [
    {
      "cell_type": "markdown",
      "metadata": {
        "id": "view-in-github",
        "colab_type": "text"
      },
      "source": [
        "<a href=\"https://colab.research.google.com/github/satyazprakash/PythonPractise/blob/main/PIPE_Module_4_Examples.ipynb\" target=\"_parent\"><img src=\"https://colab.research.google.com/assets/colab-badge.svg\" alt=\"Open In Colab\"/></a>"
      ]
    },
    {
      "cell_type": "markdown",
      "source": [
        "# Functions"
      ],
      "metadata": {
        "id": "_JYElwvBkfA0"
      }
    },
    {
      "cell_type": "code",
      "source": [
        "#\n",
        "# Repeated actions:\n",
        "#\n",
        "\n",
        "print(\"Enter a value: \")\n",
        "a = int(input())\n",
        "\n",
        "print(\"Enter a value: \")\n",
        "b = int(input())\n",
        "\n",
        "print(\"Enter a value: \")\n",
        "c = int(input())\n",
        "\n",
        "\n"
      ],
      "metadata": {
        "colab": {
          "base_uri": "https://localhost:8080/"
        },
        "id": "9m_pCrSakyWh",
        "outputId": "6d045c58-6ae2-47b5-9066-8427a778222b"
      },
      "execution_count": null,
      "outputs": [
        {
          "name": "stdout",
          "output_type": "stream",
          "text": [
            "Enter a value: \n",
            "1\n",
            "Enter a value: \n",
            "2\n",
            "Enter a value: \n",
            "3\n"
          ]
        }
      ]
    },
    {
      "cell_type": "markdown",
      "source": [
        "# This is what the simplest function definition looks like:\n",
        "\n",
        "def function_name():\n",
        "    function_body\n",
        "\n",
        "It always starts with the keyword def (for define)\n",
        "next after def goes the name of the function (the rules for naming functions are exactly the same as for naming variables)\n",
        "after the function name, there's a place for a pair of parentheses (they contain nothing here, but that will change soon)\n",
        "the line has to be ended with a colon;\n",
        "the line directly after def begins the function body ‒ a couple (at least one) of necessarily nested instructions, which will be executed every time the function is invoked; note: the function ends where the nesting ends, so you have to be careful.\n"
      ],
      "metadata": {
        "id": "R8tYypI8shwf"
      }
    },
    {
      "cell_type": "code",
      "source": [
        "#\n",
        "def message():\n",
        "  print(\"Enter a Value\")\n"
      ],
      "metadata": {
        "id": "KkFnZPpdswDX"
      },
      "execution_count": null,
      "outputs": []
    },
    {
      "cell_type": "code",
      "source": [
        "def message():\n",
        "    print(\"Enter a value: \")\n",
        "\n",
        "print(\"We start here.\")\n",
        "print(\"We end here.\")"
      ],
      "metadata": {
        "colab": {
          "base_uri": "https://localhost:8080/"
        },
        "id": "KLbzmx0ls_Tn",
        "outputId": "4b990175-caf2-4202-8aa1-6c8f8fed3269"
      },
      "execution_count": null,
      "outputs": [
        {
          "output_type": "stream",
          "name": "stdout",
          "text": [
            "We start here.\n",
            "We end here.\n"
          ]
        }
      ]
    },
    {
      "cell_type": "code",
      "source": [
        "# We've modified the code now ‒ we've inserted the function's invocation between the start and end messages:\n",
        "\n",
        "def message():\n",
        "    print(\"Enter a value: \")\n",
        "\n",
        "print(\"We start here.\")\n",
        "message()\n",
        "print(\"We end here.\")\n",
        "\n"
      ],
      "metadata": {
        "colab": {
          "base_uri": "https://localhost:8080/"
        },
        "id": "mDStHlXetCdo",
        "outputId": "491745e9-9c8f-4693-81b2-561a3cdae2e4"
      },
      "execution_count": null,
      "outputs": [
        {
          "output_type": "stream",
          "name": "stdout",
          "text": [
            "We start here.\n",
            "Enter a value: \n",
            "We end here.\n"
          ]
        }
      ]
    },
    {
      "cell_type": "markdown",
      "source": [
        "# There are two, very important, catches. Here's the first of them:\n",
        "\n",
        "You mustn't invoke a function which is not known at the moment of invocation.\n",
        "\n",
        "Remember - Python reads your code from top to bottom. It's not going to look ahead in order to find a function you forgot to put in the right place (\"right\" means \"before invocation\".)"
      ],
      "metadata": {
        "id": "uJns7fkduNPE"
      }
    },
    {
      "cell_type": "code",
      "source": [
        "# Below code will give error\n",
        "print(\"We start here.\")\n",
        "message1()\n",
        "print(\"We end here.\")\n",
        "\n",
        "\n",
        "def message1():\n",
        "    print(\"Enter a value: \")"
      ],
      "metadata": {
        "colab": {
          "base_uri": "https://localhost:8080/",
          "height": 237
        },
        "id": "5hfC4qA5uO6K",
        "outputId": "fb51a1c8-b08e-4e8f-b797-92e41bcbb83a"
      },
      "execution_count": null,
      "outputs": [
        {
          "output_type": "stream",
          "name": "stdout",
          "text": [
            "We start here.\n"
          ]
        },
        {
          "output_type": "error",
          "ename": "NameError",
          "evalue": "name 'message1' is not defined",
          "traceback": [
            "\u001b[0;31m---------------------------------------------------------------------------\u001b[0m",
            "\u001b[0;31mNameError\u001b[0m                                 Traceback (most recent call last)",
            "\u001b[0;32m/tmp/ipython-input-1427151683.py\u001b[0m in \u001b[0;36m<cell line: 0>\u001b[0;34m()\u001b[0m\n\u001b[1;32m      1\u001b[0m \u001b[0;31m# Below code will give error\u001b[0m\u001b[0;34m\u001b[0m\u001b[0;34m\u001b[0m\u001b[0m\n\u001b[1;32m      2\u001b[0m \u001b[0mprint\u001b[0m\u001b[0;34m(\u001b[0m\u001b[0;34m\"We start here.\"\u001b[0m\u001b[0;34m)\u001b[0m\u001b[0;34m\u001b[0m\u001b[0;34m\u001b[0m\u001b[0m\n\u001b[0;32m----> 3\u001b[0;31m \u001b[0mmessage1\u001b[0m\u001b[0;34m(\u001b[0m\u001b[0;34m)\u001b[0m\u001b[0;34m\u001b[0m\u001b[0;34m\u001b[0m\u001b[0m\n\u001b[0m\u001b[1;32m      4\u001b[0m \u001b[0mprint\u001b[0m\u001b[0;34m(\u001b[0m\u001b[0;34m\"We end here.\"\u001b[0m\u001b[0;34m)\u001b[0m\u001b[0;34m\u001b[0m\u001b[0;34m\u001b[0m\u001b[0m\n\u001b[1;32m      5\u001b[0m \u001b[0;34m\u001b[0m\u001b[0m\n",
            "\u001b[0;31mNameError\u001b[0m: name 'message1' is not defined"
          ]
        }
      ]
    },
    {
      "cell_type": "markdown",
      "source": [
        "# The second catch sounds a little simpler:\n",
        "\n",
        "You mustn't have a function and a variable of the same name."
      ],
      "metadata": {
        "id": "q2V53Fi5ubPa"
      }
    },
    {
      "cell_type": "code",
      "source": [
        "def message():\n",
        "    print(\"Enter a value: \")\n",
        "\n",
        "message = 1 # Assigning a value to the name message causes Python to forget its previous role. The function named message becomes unavailable.\n"
      ],
      "metadata": {
        "id": "acml5J0hujrH"
      },
      "execution_count": null,
      "outputs": []
    },
    {
      "cell_type": "code",
      "source": [
        "# Fortunately, you're free to mix your code with functions ‒ you're not obliged to put all your functions at the top of your source\n",
        "# Look at the snippet:\n",
        "\n",
        "print(\"We start here.\")\n",
        "\n",
        "def message():\n",
        "    print(\"Enter a value: \")\n",
        "\n",
        "message()\n",
        "\n",
        "print(\"We end here.\")"
      ],
      "metadata": {
        "colab": {
          "base_uri": "https://localhost:8080/"
        },
        "id": "bfr47fnIu1Dk",
        "outputId": "8dc7c2fe-6d37-44c1-92f9-112a1bd7b43a"
      },
      "execution_count": null,
      "outputs": [
        {
          "output_type": "stream",
          "name": "stdout",
          "text": [
            "We start here.\n",
            "Enter a value: \n",
            "We end here.\n"
          ]
        }
      ]
    },
    {
      "cell_type": "code",
      "source": [
        "#Let's return to our primary example, and employ the function for the right job, like here:\n",
        "def message():\n",
        "  print(\"Enter a value: \")\n",
        "\n",
        "message()\n",
        "a = int(input())\n",
        "message()\n",
        "b = int(input())\n",
        "message()\n",
        "c=int(input())"
      ],
      "metadata": {
        "colab": {
          "base_uri": "https://localhost:8080/"
        },
        "id": "1VqEN6a4vVpM",
        "outputId": "512ea526-bbe3-4f89-f86e-886961b6cb6c"
      },
      "execution_count": null,
      "outputs": [
        {
          "name": "stdout",
          "output_type": "stream",
          "text": [
            "Enter a value: \n",
            "1\n",
            "Enter a value: \n",
            "2\n",
            "Enter a value: \n",
            "2\n"
          ]
        }
      ]
    },
    {
      "cell_type": "markdown",
      "source": [
        "1. A function is a block of code that performs a specific task when the function is called (invoked). You can use functions to make your code reusable, better organized, and more readable. Functions can have parameters and return values.\n",
        "\n",
        "2. There are at least four basic types of functions in Python:\n",
        "\n",
        "built-in functions which are an integral part of Python (such as the print() function). You can see a complete list of built-in Python functions at https://docs.python.org/3/library/functions.html.\n",
        "the ones that come from pre-installed modules (you'll learn about them in the Python Essentials 2 course)\n",
        "user-defined functions which are written by users for users ‒ you can write your own functions and use them freely in your code,\n",
        "the lambda functions (you'll learn about them in the Python Essentials 2 course.)\n",
        "3. You can define your own function using the def keyword and the following syntax:\n",
        "\n",
        "def your_function(optional parameters):\n",
        "    # the body of the function"
      ],
      "metadata": {
        "id": "a5ny56hEwKPb"
      }
    },
    {
      "cell_type": "code",
      "source": [
        "# You can define a function which doesn't take any arguments, e.g.:\n",
        "def message(): # defining a function\n",
        "  print(\"Hello\") # body of the function\n",
        "\n",
        "message() # calling the function"
      ],
      "metadata": {
        "colab": {
          "base_uri": "https://localhost:8080/"
        },
        "id": "ZF10O9SUwMz6",
        "outputId": "15ef070c-504e-4efe-d7a4-76720d220013"
      },
      "execution_count": null,
      "outputs": [
        {
          "output_type": "stream",
          "name": "stdout",
          "text": [
            "Hello\n"
          ]
        }
      ]
    },
    {
      "cell_type": "code",
      "source": [
        "# You can define a function which takes arguments, too, just like the one-parameter function below:\n",
        "\n",
        "def hello(name):  # defining a function\n",
        "  print(\"Hello\", name) # body of the function\n",
        "\n",
        "name = input(\"Enter your name\")\n",
        "\n",
        "hello(name) # calling the function\n",
        "\n",
        "\n"
      ],
      "metadata": {
        "colab": {
          "base_uri": "https://localhost:8080/"
        },
        "id": "7uBe-BYMxAr5",
        "outputId": "66578a6c-8d4a-4c70-f0d1-07a629611cce"
      },
      "execution_count": null,
      "outputs": [
        {
          "output_type": "stream",
          "name": "stdout",
          "text": [
            "Enter your namesatya\n",
            "Hello satya\n"
          ]
        }
      ]
    },
    {
      "cell_type": "markdown",
      "source": [
        "# 4.2.1 Parameterized functions\n",
        "The function's full power reveals itself when it can be equipped with an interface that is able to accept data provided by the invoker. Such data can modify the function's behavior, making it more flexible and adaptable to changing conditions.\n",
        "\n",
        "A parameter is actually a variable, but there are two important factors that make parameters different and special:\n",
        "\n",
        "parameters exist only inside functions in which they have been defined, and the only place where the parameter can be defined is a space between a pair of parentheses in the def statement;\n",
        "assigning a value to the parameter is done at the time of the function's invocation, by specifying the corresponding argument.\n",
        "def function(parameter):\n",
        "    ###\n",
        "\n",
        "Don't forget:\n",
        "\n",
        "##parameters live inside functions (this is their natural environment)\n",
        "##arguments exist outside functions, and are carriers of values passed to corresponding parameters."
      ],
      "metadata": {
        "id": "9Wqt5P70zuIv"
      }
    },
    {
      "cell_type": "code",
      "source": [
        "def message(number):\n",
        "    print(\"Enter a number:\", number)\n",
        "\n",
        "message(1)\n"
      ],
      "metadata": {
        "id": "YlM3YTCIz2ER",
        "colab": {
          "base_uri": "https://localhost:8080/"
        },
        "outputId": "ce4f1c79-f816-4cfd-947c-14e758766095"
      },
      "execution_count": 1,
      "outputs": [
        {
          "output_type": "stream",
          "name": "stdout",
          "text": [
            "Enter a number: 1\n"
          ]
        }
      ]
    },
    {
      "cell_type": "code",
      "source": [
        "def message(number):\n",
        "    print(\"Enter a number:\", number)\n",
        "\n",
        "number = 1234\n",
        "message(1)\n",
        "print(number)"
      ],
      "metadata": {
        "colab": {
          "base_uri": "https://localhost:8080/"
        },
        "id": "OqbQid2aBdyy",
        "outputId": "25c00495-9f3d-496c-dffb-2341e76642ef"
      },
      "execution_count": 2,
      "outputs": [
        {
          "output_type": "stream",
          "name": "stdout",
          "text": [
            "Enter a number: 1\n",
            "1234\n"
          ]
        }
      ]
    },
    {
      "cell_type": "code",
      "source": [
        "def message(what, number):\n",
        "    print(\"Enter\", what, \"number\", number)\n",
        "\n",
        "message(\"telephone\", 11)\n",
        "message(\"price\", 5)\n",
        "message(\"number\", \"number\")"
      ],
      "metadata": {
        "colab": {
          "base_uri": "https://localhost:8080/"
        },
        "id": "Qqheba-gBvXP",
        "outputId": "87f2cc86-27e3-4eaf-833c-bd19dafac1c9"
      },
      "execution_count": 3,
      "outputs": [
        {
          "output_type": "stream",
          "name": "stdout",
          "text": [
            "Enter telephone number 11\n",
            "Enter price number 5\n",
            "Enter number number number\n"
          ]
        }
      ]
    },
    {
      "cell_type": "markdown",
      "source": [
        "# 4.2.2 Positional parameter passing\n",
        "A technique which assigns the ith (first, second, and so on) argument to the ith (first, second, and so on) function parameter is called positional parameter passing,\n",
        "while arguments passed in this way are named positional arguments.\n"
      ],
      "metadata": {
        "id": "Ls2cUyVsB6Ji"
      }
    },
    {
      "cell_type": "code",
      "source": [
        "def my_function(a,b,c):\n",
        "  print(a, b, c)\n",
        "\n",
        "\n",
        "my_function (1,2,3)"
      ],
      "metadata": {
        "colab": {
          "base_uri": "https://localhost:8080/"
        },
        "id": "n28gMlOfGqoB",
        "outputId": "8c0b79e8-ee8a-4b52-ff79-541ba9620f40"
      },
      "execution_count": 4,
      "outputs": [
        {
          "output_type": "stream",
          "name": "stdout",
          "text": [
            "1 2 3\n"
          ]
        }
      ]
    },
    {
      "cell_type": "code",
      "source": [
        "def introduction(first_name, last_name):\n",
        "  print(\"Hello, my name is \", first_name, last_name)\n",
        "\n",
        "introduction(\"Luke\", \"Skywalker\")\n",
        "introduction(\"Jesse\", \"Quick\")\n",
        "introduction(\"Clark\", \"Kent\")\n"
      ],
      "metadata": {
        "colab": {
          "base_uri": "https://localhost:8080/"
        },
        "id": "a_ACGDHCG_gb",
        "outputId": "9b3b1397-df08-497d-f3ed-24d293ed9576"
      },
      "execution_count": 6,
      "outputs": [
        {
          "output_type": "stream",
          "name": "stdout",
          "text": [
            "Hello, my name is  Luke Skywalker\n",
            "Hello, my name is  Jesse Quick\n",
            "Hello, my name is  Clark Kent\n"
          ]
        }
      ]
    },
    {
      "cell_type": "code",
      "source": [
        "\n",
        "def introduction(first_name, last_name):\n",
        "    print(\"Hello, my name is\", first_name, last_name)\n",
        "\n",
        "introduction(\"Skywalker\", \"Luke\")\n",
        "introduction(\"Quick\", \"Jesse\")\n",
        "introduction(\"Kent\", \"Clark\")"
      ],
      "metadata": {
        "colab": {
          "base_uri": "https://localhost:8080/"
        },
        "id": "nPH066C9HU3O",
        "outputId": "231baa01-97f5-45f7-b82b-cde93fc2288d"
      },
      "execution_count": 7,
      "outputs": [
        {
          "output_type": "stream",
          "name": "stdout",
          "text": [
            "Hello, my name is Skywalker Luke\n",
            "Hello, my name is Quick Jesse\n",
            "Hello, my name is Kent Clark\n"
          ]
        }
      ]
    },
    {
      "cell_type": "markdown",
      "source": [
        "# 4.2.3 Keyword argument passing\n",
        "Python offers another convention for passing arguments, where the meaning of the argument is dictated by its name,\n",
        " not by its position ‒ it's called keyword argument passing.\n"
      ],
      "metadata": {
        "id": "TPBxlxTFHYEM"
      }
    },
    {
      "cell_type": "code",
      "source": [
        "def intruduction(first_name, last_name):\n",
        "  print(\"Hello, my name is \", first_name, last_name)\n",
        "\n",
        "introduction(first_name =\"James\", last_name = \"Bond\")\n",
        "introduction(last_name = \"Skywalker\", first_name = \"Luke\")\n"
      ],
      "metadata": {
        "colab": {
          "base_uri": "https://localhost:8080/"
        },
        "id": "6FdUZ5V9Hgda",
        "outputId": "f918026f-7d67-4e20-8e72-2ecb3f4222fd"
      },
      "execution_count": 8,
      "outputs": [
        {
          "output_type": "stream",
          "name": "stdout",
          "text": [
            "Hello, my name is James Bond\n",
            "Hello, my name is Luke Skywalker\n"
          ]
        }
      ]
    },
    {
      "cell_type": "code",
      "source": [
        "# Of course, you mustn't use a non-existent parameter name.\n",
        "# The following snippet will cause a runtime error:\n",
        "\n",
        "def introduction(first_name, last_name):\n",
        "    print(\"Hello, my name is\", first_name, last_name)\n",
        "\n",
        "introduction(surname=\"Skywalker\", first_name=\"Luke\")"
      ],
      "metadata": {
        "colab": {
          "base_uri": "https://localhost:8080/",
          "height": 182
        },
        "id": "AvCfxrkkIcPs",
        "outputId": "2d2b4f59-549e-4fc1-d6d0-2518a0c54666"
      },
      "execution_count": 9,
      "outputs": [
        {
          "output_type": "error",
          "ename": "TypeError",
          "evalue": "introduction() got an unexpected keyword argument 'surname'",
          "traceback": [
            "\u001b[0;31m---------------------------------------------------------------------------\u001b[0m",
            "\u001b[0;31mTypeError\u001b[0m                                 Traceback (most recent call last)",
            "\u001b[0;32m/tmp/ipython-input-3966114547.py\u001b[0m in \u001b[0;36m<cell line: 0>\u001b[0;34m()\u001b[0m\n\u001b[1;32m      5\u001b[0m     \u001b[0mprint\u001b[0m\u001b[0;34m(\u001b[0m\u001b[0;34m\"Hello, my name is\"\u001b[0m\u001b[0;34m,\u001b[0m \u001b[0mfirst_name\u001b[0m\u001b[0;34m,\u001b[0m \u001b[0mlast_name\u001b[0m\u001b[0;34m)\u001b[0m\u001b[0;34m\u001b[0m\u001b[0;34m\u001b[0m\u001b[0m\n\u001b[1;32m      6\u001b[0m \u001b[0;34m\u001b[0m\u001b[0m\n\u001b[0;32m----> 7\u001b[0;31m \u001b[0mintroduction\u001b[0m\u001b[0;34m(\u001b[0m\u001b[0msurname\u001b[0m\u001b[0;34m=\u001b[0m\u001b[0;34m\"Skywalker\"\u001b[0m\u001b[0;34m,\u001b[0m \u001b[0mfirst_name\u001b[0m\u001b[0;34m=\u001b[0m\u001b[0;34m\"Luke\"\u001b[0m\u001b[0;34m)\u001b[0m\u001b[0;34m\u001b[0m\u001b[0;34m\u001b[0m\u001b[0m\n\u001b[0m",
            "\u001b[0;31mTypeError\u001b[0m: introduction() got an unexpected keyword argument 'surname'"
          ]
        }
      ]
    },
    {
      "cell_type": "markdown",
      "source": [
        "# 4.2.4 Mixing positional and keyword arguments\n",
        "You can mix both styles if you want ‒ there is only one unbreakable rule: you have to put positional arguments before keyword arguments."
      ],
      "metadata": {
        "id": "oWifZFTiIo_D"
      }
    },
    {
      "cell_type": "code",
      "source": [
        "#\n",
        "\n",
        "def adding(a, b, c):\n",
        "    print(a, \"+\", b, \"+\", c, \"=\", a + b + c)\n",
        "\n",
        "adding(1, 2, 3)\n",
        "\n",
        "# Of course, you can replace such an invocation with a purely keyword variant, like this:\n",
        "\n",
        "adding(c = 3, a = 1, b = 2)\n",
        "\n",
        "# Let's try to mix both styles now. Look at the function invocation below:\n",
        "\n",
        "adding(1, c = 3, b = 2)\n",
        "\n",
        "\n",
        "# Be careful, and beware of mistakes. If you try to pass more than one value to one argument, all you'll get is a runtime error.\n",
        "# Look at the invocation below - it seems that we've tried to set a twice:\n",
        "adding(3, a = 1, b = 2)\n",
        "\n",
        "# Look at the snipet below. A code like this is fully correct, but it doesn't make much sense:\n",
        "adding(4, 3, c = 2)\n"
      ],
      "metadata": {
        "colab": {
          "base_uri": "https://localhost:8080/",
          "height": 273
        },
        "id": "zpNhDn6FIs6o",
        "outputId": "b33e1e41-0b0e-41c0-e509-aa4e587a8ed0"
      },
      "execution_count": 18,
      "outputs": [
        {
          "output_type": "stream",
          "name": "stdout",
          "text": [
            "1 + 2 + 3 = 6\n",
            "1 + 2 + 3 = 6\n",
            "1 + 2 + 3 = 6\n"
          ]
        },
        {
          "output_type": "error",
          "ename": "TypeError",
          "evalue": "adding() got multiple values for argument 'a'",
          "traceback": [
            "\u001b[0;31m---------------------------------------------------------------------------\u001b[0m",
            "\u001b[0;31mTypeError\u001b[0m                                 Traceback (most recent call last)",
            "\u001b[0;32m/tmp/ipython-input-3263465334.py\u001b[0m in \u001b[0;36m<cell line: 0>\u001b[0;34m()\u001b[0m\n\u001b[1;32m     17\u001b[0m \u001b[0;31m# Be careful, and beware of mistakes. If you try to pass more than one value to one argument, all you'll get is a runtime error.\u001b[0m\u001b[0;34m\u001b[0m\u001b[0;34m\u001b[0m\u001b[0m\n\u001b[1;32m     18\u001b[0m \u001b[0;31m# Look at the invocation below - it seems that we've tried to set a twice:\u001b[0m\u001b[0;34m\u001b[0m\u001b[0;34m\u001b[0m\u001b[0m\n\u001b[0;32m---> 19\u001b[0;31m \u001b[0madding\u001b[0m\u001b[0;34m(\u001b[0m\u001b[0;36m3\u001b[0m\u001b[0;34m,\u001b[0m \u001b[0ma\u001b[0m \u001b[0;34m=\u001b[0m \u001b[0;36m1\u001b[0m\u001b[0;34m,\u001b[0m \u001b[0mb\u001b[0m \u001b[0;34m=\u001b[0m \u001b[0;36m2\u001b[0m\u001b[0;34m)\u001b[0m\u001b[0;34m\u001b[0m\u001b[0;34m\u001b[0m\u001b[0m\n\u001b[0m\u001b[1;32m     20\u001b[0m \u001b[0;34m\u001b[0m\u001b[0m\n\u001b[1;32m     21\u001b[0m \u001b[0;31m# Look at the snipet below. A code like this is fully correct, but it doesn't make much sense:\u001b[0m\u001b[0;34m\u001b[0m\u001b[0;34m\u001b[0m\u001b[0m\n",
            "\u001b[0;31mTypeError\u001b[0m: adding() got multiple values for argument 'a'"
          ]
        }
      ]
    },
    {
      "cell_type": "markdown",
      "source": [
        "# 4.2.5 Parametrized functions – more details\n",
        "It happens at times that a particular parameter's values are in use more often than others. Such arguments may have their default (predefined) values taken into consideration when their corresponding arguments have been omitted.\n",
        "\n",
        "\n",
        "They say that the most popular English last name is Smith. Let's try to take this into account.\n"
      ],
      "metadata": {
        "id": "mCUXzvi9LR5R"
      }
    },
    {
      "cell_type": "code",
      "source": [
        "# The default parameter's value is set using clear and pictorial syntax:\n",
        "# You only have to extend the parameter's name with the = sign, followed by the default value.\n",
        "\n",
        "def introduction(first_name, last_name =\"Smith\"):\n",
        "  print(\"Hello, my name is \" , first_name, last_name)\n",
        "\n",
        "#Let's invoke the function as usual:\n",
        "introduction(\"James\", \"Doe\")\n",
        "\n",
        "#\n",
        "introduction(\"Henry\")\n",
        "introduction(first_name=\"William\")\n",
        ""
      ],
      "metadata": {
        "colab": {
          "base_uri": "https://localhost:8080/"
        },
        "id": "ZWwAVbH-LYeW",
        "outputId": "4501d3f9-f976-46e5-cd0a-79ac7e186da9"
      },
      "execution_count": 22,
      "outputs": [
        {
          "output_type": "stream",
          "name": "stdout",
          "text": [
            "Hello, my name is  James Doe\n",
            "Hello, my name is  Henry Smith\n",
            "Hello, my name is  William Smith\n"
          ]
        }
      ]
    },
    {
      "cell_type": "code",
      "source": [
        "# You can go further if it's useful. Both parameters have their default values now, look at the code below:\n",
        "\n",
        "def introduction(first_name=\"John\", last_name=\"Smith\"):\n",
        "    print(\"Hello, my name is\", first_name, last_name)\n",
        "\n",
        "# This makes the following invocation absolutely valid:\n",
        "\n",
        "introduction()\n",
        "\n",
        "# If you use one keyword argument, the remaining one will take the default value:\n",
        "\n",
        "introduction(last_name=\"Hopkins\")"
      ],
      "metadata": {
        "colab": {
          "base_uri": "https://localhost:8080/"
        },
        "id": "g-5KkJhLMM-y",
        "outputId": "96868f4e-134b-42e9-a49c-411a973d7e41"
      },
      "execution_count": 25,
      "outputs": [
        {
          "output_type": "stream",
          "name": "stdout",
          "text": [
            "Hello, my name is John Smith\n",
            "Hello, my name is John Hopkins\n"
          ]
        }
      ]
    },
    {
      "cell_type": "code",
      "source": [
        "def hi(name):\n",
        "    print(\"Hi,\", name)\n",
        "\n",
        "hi(\"Greg\")"
      ],
      "metadata": {
        "colab": {
          "base_uri": "https://localhost:8080/"
        },
        "id": "-sI04ZvLMkus",
        "outputId": "649ac0e0-2a3b-43a5-de63-47303eaa1c15"
      },
      "execution_count": 26,
      "outputs": [
        {
          "output_type": "stream",
          "name": "stdout",
          "text": [
            "Hi, Greg\n"
          ]
        }
      ]
    },
    {
      "cell_type": "code",
      "source": [
        "def hi_all(name_1, name_2):\n",
        "    print(\"Hi,\", name_2)\n",
        "    print(\"Hi,\", name_1)\n",
        "\n",
        "hi_all(\"Sebastian\", \"Konrad\")"
      ],
      "metadata": {
        "colab": {
          "base_uri": "https://localhost:8080/"
        },
        "id": "AD-8GL07MmLd",
        "outputId": "18911461-73d6-4835-e36d-3a03bcdfde56"
      },
      "execution_count": 28,
      "outputs": [
        {
          "output_type": "stream",
          "name": "stdout",
          "text": [
            "Hi, Konrad\n",
            "Hi, Sebastian\n"
          ]
        }
      ]
    },
    {
      "cell_type": "code",
      "source": [
        "# An example of a three-parameter function:\n",
        "\n",
        "def address11(street, city, postal_code):\n",
        "    print(\"Your address is:\", street, \"St.,\", city, postal_code)\n",
        "\n",
        "s = input(\"Street: \")\n",
        "p_c = input(\"Postal Code: \")\n",
        "c = input(\"City: \")\n",
        "address(s, c, p_c)"
      ],
      "metadata": {
        "colab": {
          "base_uri": "https://localhost:8080/"
        },
        "id": "Z-0K6BQGMvZL",
        "outputId": "b0e2de9d-ded0-4d8b-a828-cd3499501dce"
      },
      "execution_count": 30,
      "outputs": [
        {
          "output_type": "stream",
          "name": "stdout",
          "text": [
            "Street: 1\n",
            "Postal Code: \n",
            "City: \n",
            "Your address is: 1 St.,  \n"
          ]
        }
      ]
    },
    {
      "cell_type": "markdown",
      "source": [
        "2. You can pass arguments to a function using the following techniques:\n",
        "\n",
        "positional argument passing in which the order of arguments passed matters (Ex. 1)\n",
        "keyword (named) argument passing in which the order of arguments passed doesn't matter (Ex. 2)\n",
        "a mix of positional and keyword argument passing (Ex. 3.)"
      ],
      "metadata": {
        "id": "eoTxvKlAM7C6"
      }
    },
    {
      "cell_type": "code",
      "source": [
        "#Ex. 1\n",
        "def subtra(a, b):\n",
        "    print(a - b)\n",
        "\n",
        "subtra(5, 2) # outputs: 3\n",
        "subtra(2, 5) # outputs: -3\n",
        "\n",
        "\n",
        "#Ex. 2\n",
        "def subtra(a, b):\n",
        "    print(a - b)\n",
        "\n",
        "subtra(a=5, b=2) # outputs: 3\n",
        "subtra(b=2, a=5) # outputs: 3\n",
        "\n",
        "#Ex. 3\n",
        "def subtra(a, b):\n",
        "    print(a - b)\n",
        "\n",
        "subtra(5, b=2) # outputs: 3\n",
        "subtra(5, 2) # outputs: 3\n",
        ""
      ],
      "metadata": {
        "colab": {
          "base_uri": "https://localhost:8080/"
        },
        "id": "I7eePnBCNI0K",
        "outputId": "4c1fde87-7dad-4712-c63e-a37f68ef53cc"
      },
      "execution_count": 33,
      "outputs": [
        {
          "output_type": "stream",
          "name": "stdout",
          "text": [
            "3\n",
            "-3\n",
            "3\n",
            "3\n",
            "3\n",
            "3\n"
          ]
        }
      ]
    },
    {
      "cell_type": "code",
      "source": [
        "#\n",
        "\n",
        "def name(first_name, last_name=\"Smith\"):\n",
        "    print(first_name, last_name)\n",
        "\n",
        "name(\"Andy\") # outputs: Andy Smith\n",
        "name(\"Betty\", \"Johnson\") # outputs: Betty Johnson (the keyword argument replaced by \"Johnson\")\n",
        "\n",
        ""
      ],
      "metadata": {
        "colab": {
          "base_uri": "https://localhost:8080/"
        },
        "id": "y_GkEvbrNX7J",
        "outputId": "12ad2cab-604e-4b5d-9bd5-cb62d8f9c80a"
      },
      "execution_count": 34,
      "outputs": [
        {
          "output_type": "stream",
          "name": "stdout",
          "text": [
            "Andy Smith\n",
            "Betty Johnson\n"
          ]
        }
      ]
    },
    {
      "cell_type": "markdown",
      "source": [
        "\n",
        "# 4.3.1 Effects and results: the return instruction\n"
      ],
      "metadata": {
        "id": "bmGhSSGrOAGf"
      }
    },
    {
      "cell_type": "code",
      "source": [
        "# return without an expression\n",
        "\n",
        "def happy_new_year(wishes = True):\n",
        "    print(\"Three...\")\n",
        "    print(\"Two...\")\n",
        "    print(\"One...\")\n",
        "    if not wishes:\n",
        "        return\n",
        "\n",
        "    print(\"Happy New Year!\")\n",
        "\n",
        "happy_new_year()\n",
        "\n",
        "# Providing False as an argument:\n",
        "\n",
        "happy_new_year(False)"
      ],
      "metadata": {
        "colab": {
          "base_uri": "https://localhost:8080/"
        },
        "id": "47Rfm85nizzI",
        "outputId": "6630c415-f635-4777-cd1d-2122396e4d66"
      },
      "execution_count": 37,
      "outputs": [
        {
          "output_type": "stream",
          "name": "stdout",
          "text": [
            "Three...\n",
            "Two...\n",
            "One...\n",
            "Happy New Year!\n",
            "Three...\n",
            "Two...\n",
            "One...\n"
          ]
        }
      ]
    },
    {
      "cell_type": "code",
      "source": [
        "# return with an expression\n",
        "# The second return variant is extended with an expression:\n",
        "\n",
        "# There are two consequences of using it:\n",
        "# it causes the immediate termination of the function's execution (nothing new compared to the first variant)\n",
        "# moreover, the function will evaluate the expression's value and will return it (hence the name once again) as the function's result.\n",
        "\n",
        "def function():\n",
        "    return expression\n",
        "\n",
        "\n",
        "def boring_function():\n",
        "    return 123\n",
        "\n",
        "x = boring_function()\n",
        "\n",
        "print(\"The boring_function has returned its result. It's:\", x)"
      ],
      "metadata": {
        "colab": {
          "base_uri": "https://localhost:8080/"
        },
        "id": "rDZ7B7eDjWqo",
        "outputId": "27fe691a-ead1-4dfe-cd00-91cb46e6718c"
      },
      "execution_count": 39,
      "outputs": [
        {
          "output_type": "stream",
          "name": "stdout",
          "text": [
            "The boring_function has returned its result. It's: 123\n"
          ]
        }
      ]
    },
    {
      "cell_type": "markdown",
      "source": [
        "def boring_function():\n",
        "  print(\"Boredome Mode ' ON. \")\n",
        "  return 123\n",
        "\n",
        "print(\"This lesson is interesting !\")\n",
        "boring_function()\n",
        "print(\"This Lesson is boring... \")\n",
        "\n"
      ],
      "metadata": {
        "id": "bfJPxLRJkmPO"
      }
    },
    {
      "cell_type": "markdown",
      "source": [
        "# 4.3.2 A few words about None\n",
        "\n",
        "Let us introduce you to a very curious value (a none value) named None.\n",
        "\n",
        "Its data doesn't represent any reasonable value ‒ actually, it's not a value at all; hence, it mustn't take part in any expressions.\n",
        "\n",
        "\n",
        "There are only two kinds of circumstances when None can be safely used:\n",
        "\n",
        "when you assign it to a variable (or return it as a function's result)\n",
        "when you compare it with a variable to diagnose its internal state."
      ],
      "metadata": {
        "id": "9EvobxRJlec5"
      }
    },
    {
      "cell_type": "code",
      "source": [
        "# For example, a snippet like this:\n",
        "\n",
        "print(None + 2)\n"
      ],
      "metadata": {
        "colab": {
          "base_uri": "https://localhost:8080/",
          "height": 182
        },
        "id": "bsRruNlrlvFO",
        "outputId": "c0050cfd-5e3a-4776-a272-028621e51c18"
      },
      "execution_count": 41,
      "outputs": [
        {
          "output_type": "error",
          "ename": "TypeError",
          "evalue": "unsupported operand type(s) for +: 'NoneType' and 'int'",
          "traceback": [
            "\u001b[0;31m---------------------------------------------------------------------------\u001b[0m",
            "\u001b[0;31mTypeError\u001b[0m                                 Traceback (most recent call last)",
            "\u001b[0;32m/tmp/ipython-input-1317979856.py\u001b[0m in \u001b[0;36m<cell line: 0>\u001b[0;34m()\u001b[0m\n\u001b[1;32m      1\u001b[0m \u001b[0;31m# For example, a snippet like this:\u001b[0m\u001b[0;34m\u001b[0m\u001b[0;34m\u001b[0m\u001b[0m\n\u001b[1;32m      2\u001b[0m \u001b[0;34m\u001b[0m\u001b[0m\n\u001b[0;32m----> 3\u001b[0;31m \u001b[0mprint\u001b[0m\u001b[0;34m(\u001b[0m\u001b[0;32mNone\u001b[0m \u001b[0;34m+\u001b[0m \u001b[0;36m2\u001b[0m\u001b[0;34m)\u001b[0m\u001b[0;34m\u001b[0m\u001b[0;34m\u001b[0m\u001b[0m\n\u001b[0m",
            "\u001b[0;31mTypeError\u001b[0m: unsupported operand type(s) for +: 'NoneType' and 'int'"
          ]
        }
      ]
    },
    {
      "cell_type": "code",
      "source": [
        "# Just like here:\n",
        "\n",
        "value = None\n",
        "if value is None:\n",
        "    print(\"Sorry, you don't carry any value\")\n",
        "\n",
        "\n",
        "# Don't forget this: if a function doesn't return a certain value using a return expression clause, it is assumed that it implicitly returns None.\n",
        "\n",
        "def strange_function(n):\n",
        "  if(n % 2 == 0):\n",
        "    return True\n",
        "\n",
        "print(strange_function(2))\n",
        "print(strange_function(1))"
      ],
      "metadata": {
        "colab": {
          "base_uri": "https://localhost:8080/"
        },
        "id": "b6H6-ydQnLV4",
        "outputId": "2c8552e3-fc71-433e-a839-611ad2eaea6a"
      },
      "execution_count": 43,
      "outputs": [
        {
          "output_type": "stream",
          "name": "stdout",
          "text": [
            "Sorry, you don't carry any value\n",
            "True\n",
            "None\n"
          ]
        }
      ]
    },
    {
      "cell_type": "code",
      "source": [
        "# 4.3.3 Effects and results: lists and functions\n",
        "\n",
        "# The first is: may a list be sent to a function as an argument?\n",
        "\n",
        "# So, if you pass a list to a function, the function has to handle it like a list.\n",
        "# A function like this one here:\n",
        "\n",
        "def list_sum(lst):\n",
        "    s = 0\n",
        "\n",
        "    for elem in lst:\n",
        "        s = s + elem\n",
        "\n",
        "    return s\n",
        "\n",
        "# Invoked:\n",
        "\n",
        "print(list_sum([5, 4, 3]))\n",
        "\n",
        "# but you should expect problems if you invoke it in this risky way:\n",
        "\n",
        "print(list_sum(5))\n"
      ],
      "metadata": {
        "colab": {
          "base_uri": "https://localhost:8080/",
          "height": 327
        },
        "id": "URtP0q4kn1br",
        "outputId": "d4d5310f-5101-435f-9ecc-ad37c3585fb5"
      },
      "execution_count": 46,
      "outputs": [
        {
          "output_type": "stream",
          "name": "stdout",
          "text": [
            "12\n"
          ]
        },
        {
          "output_type": "error",
          "ename": "TypeError",
          "evalue": "'int' object is not iterable",
          "traceback": [
            "\u001b[0;31m---------------------------------------------------------------------------\u001b[0m",
            "\u001b[0;31mTypeError\u001b[0m                                 Traceback (most recent call last)",
            "\u001b[0;32m/tmp/ipython-input-71386113.py\u001b[0m in \u001b[0;36m<cell line: 0>\u001b[0;34m()\u001b[0m\n\u001b[1;32m     20\u001b[0m \u001b[0;31m# but you should expect problems if you invoke it in this risky way:\u001b[0m\u001b[0;34m\u001b[0m\u001b[0;34m\u001b[0m\u001b[0m\n\u001b[1;32m     21\u001b[0m \u001b[0;34m\u001b[0m\u001b[0m\n\u001b[0;32m---> 22\u001b[0;31m \u001b[0mprint\u001b[0m\u001b[0;34m(\u001b[0m\u001b[0mlist_sum\u001b[0m\u001b[0;34m(\u001b[0m\u001b[0;36m5\u001b[0m\u001b[0;34m)\u001b[0m\u001b[0;34m)\u001b[0m\u001b[0;34m\u001b[0m\u001b[0;34m\u001b[0m\u001b[0m\n\u001b[0m",
            "\u001b[0;32m/tmp/ipython-input-71386113.py\u001b[0m in \u001b[0;36mlist_sum\u001b[0;34m(lst)\u001b[0m\n\u001b[1;32m      9\u001b[0m     \u001b[0ms\u001b[0m \u001b[0;34m=\u001b[0m \u001b[0;36m0\u001b[0m\u001b[0;34m\u001b[0m\u001b[0;34m\u001b[0m\u001b[0m\n\u001b[1;32m     10\u001b[0m \u001b[0;34m\u001b[0m\u001b[0m\n\u001b[0;32m---> 11\u001b[0;31m     \u001b[0;32mfor\u001b[0m \u001b[0melem\u001b[0m \u001b[0;32min\u001b[0m \u001b[0mlst\u001b[0m\u001b[0;34m:\u001b[0m\u001b[0;34m\u001b[0m\u001b[0;34m\u001b[0m\u001b[0m\n\u001b[0m\u001b[1;32m     12\u001b[0m         \u001b[0ms\u001b[0m \u001b[0;34m=\u001b[0m \u001b[0ms\u001b[0m \u001b[0;34m+\u001b[0m \u001b[0melem\u001b[0m\u001b[0;34m\u001b[0m\u001b[0;34m\u001b[0m\u001b[0m\n\u001b[1;32m     13\u001b[0m \u001b[0;34m\u001b[0m\u001b[0m\n",
            "\u001b[0;31mTypeError\u001b[0m: 'int' object is not iterable"
          ]
        }
      ]
    },
    {
      "cell_type": "code",
      "source": [
        "# The second question is: may a list be a function result?\n",
        "\n",
        "# Yes, of course! Any entity recognizable by Python can be a function result.\n",
        "\n",
        "def strange_list_func(n):\n",
        "  strange_list = []\n",
        "\n",
        "  for i in range(0, n):\n",
        "    strange_list.insert(0,i)\n",
        "\n",
        "  return strange_list\n",
        "\n",
        "print(strange_list_func(5))\n",
        "print(strange_list_func(10))\n"
      ],
      "metadata": {
        "colab": {
          "base_uri": "https://localhost:8080/"
        },
        "id": "UYj6BY6UomPE",
        "outputId": "b9fe7a3c-3461-4a52-b040-269307e0f44c"
      },
      "execution_count": 48,
      "outputs": [
        {
          "output_type": "stream",
          "name": "stdout",
          "text": [
            "[4, 3, 2, 1, 0]\n",
            "[9, 8, 7, 6, 5, 4, 3, 2, 1, 0]\n"
          ]
        }
      ]
    },
    {
      "cell_type": "code",
      "source": [
        "# 4.3.4   LAB   A leap year: writing your own functions\n",
        "# Your task is to write and test a function which takes one argument (a year) and returns True if the year is a leap year, or False otherwise.\n",
        "\n",
        "def is_year_leap(year):\n",
        "    #\n",
        "     if year % 4 == 0:\n",
        "      return True\n",
        "     else:\n",
        "      return False\n",
        "    #\n",
        "\n",
        "test_data = [1900, 2000, 2016, 1987]\n",
        "test_results = [False, True, True, False]\n",
        "\n",
        "for i in range(len(test_data)):\n",
        "    yr = test_data[i]\n",
        "    print(yr,\"->\",end=\"\")\n",
        "    result = is_year_leap(yr)\n",
        "    if result == test_results[i]:\n",
        "        print(\"OK\")\n",
        "    else:\n",
        "        print(\"Failed\")\n"
      ],
      "metadata": {
        "colab": {
          "base_uri": "https://localhost:8080/"
        },
        "id": "QklrIaz5prVA",
        "outputId": "9460f6dd-3ab8-4ae5-c725-8af3579b4847"
      },
      "execution_count": 51,
      "outputs": [
        {
          "output_type": "stream",
          "name": "stdout",
          "text": [
            "1900 ->Failed\n",
            "2000 ->OK\n",
            "2016 ->OK\n",
            "1987 ->OK\n"
          ]
        }
      ]
    },
    {
      "cell_type": "markdown",
      "source": [
        "# 4.3.5   LAB   How many days: writing and using your own functions\n",
        "Your task is to write and test a function which takes two arguments (a year and a month) and\n",
        "returns the number of days for the given year-month pair (while only\n",
        "February is sensitive to the year value, your function should be universal).\n"
      ],
      "metadata": {
        "id": "f411CRYisCZe"
      }
    },
    {
      "cell_type": "code",
      "source": [
        "def is_year_leap(year):\n",
        "    #\n",
        "    if year % 4 != 0:\n",
        "        return False\n",
        "    elif year % 100 != 0:\n",
        "        return True\n",
        "    elif year % 400 != 0:\n",
        "        return False\n",
        "    else:\n",
        "        return True\n",
        "    #\n",
        "\n",
        "def days_in_month(year, month):\n",
        "    # Leap Calculation\n",
        "    if is_year_leap(year) == True:\n",
        "       if month in ( 1, 3, 5, 7, 8, 10, 12):\n",
        "        print(\"The no of days for the Year month Combination is \", 31)\n",
        "        return 31\n",
        "       if month in (4, 6, 9, 11):\n",
        "        print(\"The no of days for the Year month Combination is \", 30)\n",
        "        return 30\n",
        "       else:\n",
        "        print(\"The no of days for the Year month Combination is \", 29)\n",
        "        return 29\n",
        "    # Non Leap Calculation\n",
        "    else:\n",
        "       if month in ( 1, 3, 5, 7, 8, 10, 12):\n",
        "        print(\"The no of days for the Year month Combination is \", 31)\n",
        "        return 31\n",
        "       if month in (4, 6, 9, 11):\n",
        "        print(\"The no of days for the Year month Combination is \", 30)\n",
        "        return 30\n",
        "       else:\n",
        "        print(\"The no of days for the Year month Combination is \", 28)\n",
        "        return 28\n",
        "\n",
        "test_years = [1900, 2000, 2016, 1987]\n",
        "test_months = [2, 2, 1, 11]\n",
        "test_results = [28, 29, 31, 30]\n",
        "for i in range(len(test_years)):\n",
        "    yr = test_years[i]\n",
        "    mo = test_months[i]\n",
        "    print(yr, mo, \"->\", end=\"\")\n",
        "    result = days_in_month(yr, mo)\n",
        "    if result == test_results[i]:\n",
        "        print(\"OK\")\n",
        "    else:\n",
        "        print(\"Failed\")\n"
      ],
      "metadata": {
        "colab": {
          "base_uri": "https://localhost:8080/"
        },
        "id": "TdAvgOJesIJn",
        "outputId": "fd7d74ca-c95a-41c8-de31-dcf3f6c13d8d"
      },
      "execution_count": 57,
      "outputs": [
        {
          "output_type": "stream",
          "name": "stdout",
          "text": [
            "1900 2 ->The no of days for the Year month Combination is  28\n",
            "OK\n",
            "2000 2 ->The no of days for the Year month Combination is  29\n",
            "OK\n",
            "2016 1 ->The no of days for the Year month Combination is  31\n",
            "OK\n",
            "1987 11 ->The no of days for the Year month Combination is  30\n",
            "OK\n"
          ]
        }
      ]
    },
    {
      "cell_type": "markdown",
      "source": [
        "# 4.3.6   LAB   Day of the year: writing and using your own functions\n",
        "Your task is to write and test a function which takes three arguments (a year, a month, and a day of the month)\n",
        "and returns the corresponding day of the year, or returns None if any of the arguments is invalid.\n"
      ],
      "metadata": {
        "id": "aRPt_pFgw9sv"
      }
    },
    {
      "cell_type": "code",
      "source": [
        "## Need to complete this :  4.3.7   LAB   Prime numbers ‒ how to find them\n",
        "\n",
        "def is_year_leap(year):\n",
        "    #\n",
        "    if year % 4 != 0:\n",
        "        return False\n",
        "    elif year % 100 != 0:\n",
        "        return True\n",
        "    elif year % 400 != 0:\n",
        "        return False\n",
        "    else:\n",
        "        return True\n",
        "    #\n",
        "\n",
        "def days_in_month(year, month):\n",
        "    #\n",
        "    # Leap Calculation\n",
        "    if is_year_leap(year) == True:\n",
        "       if month in ( 1, 3, 5, 7, 8, 10, 12):\n",
        "        print(\"The no of days for the Year month Combination is \", 31)\n",
        "        return 31\n",
        "       if month in (4, 6, 9, 11):\n",
        "        print(\"The no of days for the Year month Combination is \", 30)\n",
        "        return 30\n",
        "       else:\n",
        "        print(\"The no of days for the Year month Combination is \", 29)\n",
        "        return 29\n",
        "    # Non Leap Calculation\n",
        "    else:\n",
        "       if month in ( 1, 3, 5, 7, 8, 10, 12):\n",
        "        print(\"The no of days for the Year month Combination is \", 31)\n",
        "        return 31\n",
        "       if month in (4, 6, 9, 11):\n",
        "        print(\"The no of days for the Year month Combination is \", 30)\n",
        "        return 30\n",
        "       else:\n",
        "        print(\"The no of days for the Year month Combination is \", 28)\n",
        "        return 28\n",
        "    #\n",
        "\n",
        "def day_of_year(year, month, day):\n",
        "    days = 0\n",
        "    for m in range(1, month):\n",
        "        # ...\n",
        "        # if statement\n",
        "            # ...\n",
        "        days = days + md\n",
        "    md = days_in_month(year, month)\n",
        "\n",
        "    if day >= 1 and day <= md:\n",
        "        # ...\n",
        "    else:\n",
        "        # ...\n",
        "\n",
        "print(day_of_year(2000, 12, 31))\n"
      ],
      "metadata": {
        "id": "ZkwJ6VW5xM6c"
      },
      "execution_count": null,
      "outputs": []
    },
    {
      "cell_type": "markdown",
      "source": [
        "# 4.3.7   LAB   Prime numbers ‒ how to find them\n",
        "A natural number is prime if it is greater than 1 and has no divisors other than 1 and itself.\n",
        "Your task is to write a function checking whether a number is prime or not.\n",
        "\n",
        "The function:\n",
        "\n",
        "is called is_prime;\n",
        "takes one argument (the value to check)\n",
        "returns True if the argument is a prime number, and False otherwise.\n"
      ],
      "metadata": {
        "id": "lRDaLhZj6qta"
      }
    },
    {
      "cell_type": "code",
      "source": [
        "#\n",
        "def is_prime(num):\n",
        "  if num == 0 or num ==1 :\n",
        "    print(\"The number is NOT a Prime Number : \", num)\n",
        "    return False\n",
        "  else:\n",
        "    prime_flagcheck = True\n",
        "    i = 2\n",
        "    while i <= (num//2) :\n",
        "      if (num //2) / i == 0:\n",
        "        print(\"Print Statement of num//i \", i, num)\n",
        "        return False\n",
        "      if (num //2 )/ i != 0 and (num//2) == i :\n",
        "        print(\"Print Statement of second if in while \", i, num)\n",
        "        return True\n",
        "      i = i + 1\n",
        "\n",
        "print(is_prime(10))\n"
      ],
      "metadata": {
        "colab": {
          "base_uri": "https://localhost:8080/"
        },
        "id": "3vOgUqCa6-E2",
        "outputId": "dd66a81e-584b-49d1-96a7-2a48c439af4e"
      },
      "execution_count": 114,
      "outputs": [
        {
          "output_type": "stream",
          "name": "stdout",
          "text": [
            "Print Statement of second if in while  5 10\n",
            "True\n"
          ]
        }
      ]
    },
    {
      "cell_type": "code",
      "source": [
        "5//2"
      ],
      "metadata": {
        "colab": {
          "base_uri": "https://localhost:8080/"
        },
        "id": "4EwGl-Fr91Nw",
        "outputId": "ddc8f999-b609-41b8-9c37-304b8121c159"
      },
      "execution_count": 105,
      "outputs": [
        {
          "output_type": "execute_result",
          "data": {
            "text/plain": [
              "2"
            ]
          },
          "metadata": {},
          "execution_count": 105
        }
      ]
    },
    {
      "cell_type": "markdown",
      "source": [
        "# 4.4.1 Functions and scopes\n",
        "\n",
        "The scope of a name (e.g., a variable name) is the part of a code where the name is properly recognizable.\n"
      ],
      "metadata": {
        "id": "01Qaw5fDEZF6"
      }
    },
    {
      "cell_type": "code",
      "source": [
        "# The answer is: a variable existing outside a function has scope inside the function's body.\n",
        "# This rule has a very important exception.\n",
        "\n",
        "def my_function():\n",
        "    print(\"Do I know that variable?\", var)\n",
        "\n",
        "\n",
        "var = 1\n",
        "my_function()\n",
        "print(var)\n"
      ],
      "metadata": {
        "colab": {
          "base_uri": "https://localhost:8080/"
        },
        "id": "rkDH_XNlEehm",
        "outputId": "490846fd-c9cf-4c72-b64f-69914f421b4b"
      },
      "execution_count": 115,
      "outputs": [
        {
          "output_type": "stream",
          "name": "stdout",
          "text": [
            "Do I know that variable? 1\n",
            "1\n"
          ]
        }
      ]
    },
    {
      "cell_type": "code",
      "source": [
        "# The result changed now, since the variable var is overwritten in the function definition.\n",
        "# A variable existing outside a function has scope inside the function's body, excluding those which define a variable of the same name.\n",
        "# It also means that the scope of a variable existing outside a function is supported only when getting its value (reading).\n",
        "# Assigning a value forces the creation of the function's own variable.\n",
        "\n",
        "\n",
        "def my_function():\n",
        "    var = 2\n",
        "    print(\"Do I know that variable?\", var)\n",
        "\n",
        "\n",
        "var = 1\n",
        "my_function()\n",
        "print(var)\n"
      ],
      "metadata": {
        "colab": {
          "base_uri": "https://localhost:8080/"
        },
        "id": "8-9CSvDAFNyM",
        "outputId": "8e00b414-eec0-4e33-b07e-856f271424ed"
      },
      "execution_count": 116,
      "outputs": [
        {
          "output_type": "stream",
          "name": "stdout",
          "text": [
            "Do I know that variable? 2\n",
            "1\n"
          ]
        }
      ]
    },
    {
      "cell_type": "code",
      "source": [
        "# 4.4.2 Functions and scopes: the global keyword\n",
        "# There's a special Python method which can extend a variable's scope in a way which includes the function's body (even if you want not only to read the values, but also to modify them).\n",
        "# Such an effect is caused by a keyword named global:\n",
        "\n",
        "def my_function():\n",
        "  global var\n",
        "  var = 2\n",
        "  print(\"Do in Know that variable ?\", var)\n",
        "\n",
        "var = 1\n",
        "my_function()\n",
        "print(var)"
      ],
      "metadata": {
        "colab": {
          "base_uri": "https://localhost:8080/"
        },
        "id": "Pl-UbErWFnOo",
        "outputId": "1214afb8-a1cf-4edb-b482-8e5677bba000"
      },
      "execution_count": 117,
      "outputs": [
        {
          "output_type": "stream",
          "name": "stdout",
          "text": [
            "Do in Know that variable ? 2\n",
            "2\n"
          ]
        }
      ]
    },
    {
      "cell_type": "markdown",
      "source": [
        "#4.4.3 How the function interacts with its arguments\n",
        "\n"
      ],
      "metadata": {
        "id": "pQFZZpEVNf8G"
      }
    },
    {
      "cell_type": "code",
      "source": [
        "# As you can see, the function changes the value of its parameter. Does the change affect the argument?\n",
        "# The conclusion is obvious ‒ changing the parameter's value doesn't propagate outside the function\n",
        "# This also means that a function receives the argument's value, not the argument itself. This is true for scalars.\n",
        "\n",
        "def my_function(n):\n",
        "  print(\"I got \", n)\n",
        "  n = n + 1\n",
        "  print(\"I have \", n)\n",
        "\n",
        "var = 1\n",
        "my_function(var)\n",
        "print(var)"
      ],
      "metadata": {
        "colab": {
          "base_uri": "https://localhost:8080/"
        },
        "id": "mV3Opkn7Nq4D",
        "outputId": "36a8876a-e8ba-4a30-adba-ccf07c593b51"
      },
      "execution_count": 118,
      "outputs": [
        {
          "output_type": "stream",
          "name": "stdout",
          "text": [
            "I got  1\n",
            "I have  2\n",
            "1\n"
          ]
        }
      ]
    },
    {
      "cell_type": "code",
      "source": [
        "def my_function(my_list_1):\n",
        "  print(\"Print #1: \", my_list_1)\n",
        "  print(\"Print #2: \", my_list_2)\n",
        "  my_list_1 = [0,1]\n",
        "  print(\"Print #3: \", my_list_1)\n",
        "  print(\"Print #4: \", my_list_2)\n",
        "\n",
        "my_list_2 = [2,3]\n",
        "my_function(my_list_2)\n",
        "print(\"Print #5: \", my_list_2)"
      ],
      "metadata": {
        "colab": {
          "base_uri": "https://localhost:8080/"
        },
        "id": "eTBabSxSOc3h",
        "outputId": "369f3fbd-a0d8-436d-9f67-dc2ff366533a"
      },
      "execution_count": 120,
      "outputs": [
        {
          "output_type": "stream",
          "name": "stdout",
          "text": [
            "Print #1:  [2, 3]\n",
            "Print #2:  [2, 3]\n",
            "Print #3:  [0, 1]\n",
            "Print #4:  [2, 3]\n",
            "Print #5:  [2, 3]\n"
          ]
        }
      ]
    },
    {
      "cell_type": "code",
      "source": [
        "def my_function(my_list_1):\n",
        "    print(\"Print #1:\", my_list_1)\n",
        "    print(\"Print #2:\", my_list_2)\n",
        "    del my_list_1[0] # Pay attention to this line.\n",
        "    print(\"Print #3:\", my_list_1)\n",
        "    print(\"Print #4:\", my_list_2)\n",
        "\n",
        "\n",
        "my_list_2 = [2, 3]\n",
        "my_function(my_list_2)\n",
        "print(\"Print #5:\", my_list_2)\n",
        ""
      ],
      "metadata": {
        "colab": {
          "base_uri": "https://localhost:8080/"
        },
        "id": "rGgPH1V1PZXi",
        "outputId": "be7461fd-82db-4d13-92f0-f2bad0ff4bae"
      },
      "execution_count": 121,
      "outputs": [
        {
          "output_type": "stream",
          "name": "stdout",
          "text": [
            "Print #1: [2, 3]\n",
            "Print #2: [2, 3]\n",
            "Print #3: [3]\n",
            "Print #4: [3]\n",
            "Print #5: [3]\n"
          ]
        }
      ]
    },
    {
      "cell_type": "code",
      "source": [
        "\n",
        "var = 2\n",
        "\n",
        "\n",
        "def mult_by_var(x):\n",
        "    return x * var\n",
        "\n",
        "\n",
        "print(mult_by_var(7)) # outputs: 14\n"
      ],
      "metadata": {
        "colab": {
          "base_uri": "https://localhost:8080/"
        },
        "id": "jyHQkGP4QEJy",
        "outputId": "87af8462-8ca2-4712-d691-bc1e81977d22"
      },
      "execution_count": 122,
      "outputs": [
        {
          "output_type": "stream",
          "name": "stdout",
          "text": [
            "14\n"
          ]
        }
      ]
    },
    {
      "cell_type": "code",
      "source": [
        "\n",
        "def mult(x):\n",
        "    var = 5\n",
        "    return x * var\n",
        "\n",
        "\n",
        "print(mult(7)) # outputs: 35\n",
        "\n"
      ],
      "metadata": {
        "colab": {
          "base_uri": "https://localhost:8080/"
        },
        "id": "X3KAAhD1QJQq",
        "outputId": "e7df7759-fcf9-4bbb-a2a3-12bf957e441f"
      },
      "execution_count": 123,
      "outputs": [
        {
          "output_type": "stream",
          "name": "stdout",
          "text": [
            "35\n"
          ]
        }
      ]
    },
    {
      "cell_type": "code",
      "source": [
        "def mult(x):\n",
        "    var = 7\n",
        "    return x * var\n",
        "\n",
        "\n",
        "var = 3\n",
        "print(mult(7)) # outputs: 49"
      ],
      "metadata": {
        "colab": {
          "base_uri": "https://localhost:8080/"
        },
        "id": "Ac8w8Z5ZQZ5W",
        "outputId": "5d199d9d-239f-4958-eca5-9ff35e65605c"
      },
      "execution_count": 124,
      "outputs": [
        {
          "output_type": "stream",
          "name": "stdout",
          "text": [
            "49\n"
          ]
        }
      ]
    },
    {
      "cell_type": "code",
      "source": [
        "def adding(x):\n",
        "    var1 = 7\n",
        "    return x + var\n",
        "\n",
        "\n",
        "print(adding(4)) # outputs: 11\n",
        "print(var1) # NameError\n",
        ""
      ],
      "metadata": {
        "colab": {
          "base_uri": "https://localhost:8080/",
          "height": 219
        },
        "id": "m-GupmcSQgsE",
        "outputId": "704e40d7-deb8-4ffb-aae9-7cf6555c19ad"
      },
      "execution_count": 126,
      "outputs": [
        {
          "output_type": "stream",
          "name": "stdout",
          "text": [
            "7\n"
          ]
        },
        {
          "output_type": "error",
          "ename": "NameError",
          "evalue": "name 'var1' is not defined",
          "traceback": [
            "\u001b[0;31m---------------------------------------------------------------------------\u001b[0m",
            "\u001b[0;31mNameError\u001b[0m                                 Traceback (most recent call last)",
            "\u001b[0;32m/tmp/ipython-input-3907288750.py\u001b[0m in \u001b[0;36m<cell line: 0>\u001b[0;34m()\u001b[0m\n\u001b[1;32m      5\u001b[0m \u001b[0;34m\u001b[0m\u001b[0m\n\u001b[1;32m      6\u001b[0m \u001b[0mprint\u001b[0m\u001b[0;34m(\u001b[0m\u001b[0madding\u001b[0m\u001b[0;34m(\u001b[0m\u001b[0;36m4\u001b[0m\u001b[0;34m)\u001b[0m\u001b[0;34m)\u001b[0m \u001b[0;31m# outputs: 11\u001b[0m\u001b[0;34m\u001b[0m\u001b[0;34m\u001b[0m\u001b[0m\n\u001b[0;32m----> 7\u001b[0;31m \u001b[0mprint\u001b[0m\u001b[0;34m(\u001b[0m\u001b[0mvar1\u001b[0m\u001b[0;34m)\u001b[0m \u001b[0;31m# NameError\u001b[0m\u001b[0;34m\u001b[0m\u001b[0;34m\u001b[0m\u001b[0m\n\u001b[0m\u001b[1;32m      8\u001b[0m \u001b[0;34m\u001b[0m\u001b[0m\n",
            "\u001b[0;31mNameError\u001b[0m: name 'var1' is not defined"
          ]
        }
      ]
    },
    {
      "cell_type": "code",
      "source": [
        "\n",
        "var = 2\n",
        "print(var) # outputs: 2\n",
        "\n",
        "\n",
        "def return_var():\n",
        "    global var\n",
        "    var = 5\n",
        "    return var\n",
        "\n",
        "\n",
        "print(return_var()) # outputs: 5\n",
        "print(var) # outputs: 5\n"
      ],
      "metadata": {
        "colab": {
          "base_uri": "https://localhost:8080/"
        },
        "id": "8iZHkfz4RWCT",
        "outputId": "41f44bf2-483a-4572-8f11-67f91b0640e6"
      },
      "execution_count": 127,
      "outputs": [
        {
          "output_type": "stream",
          "name": "stdout",
          "text": [
            "2\n",
            "5\n",
            "5\n"
          ]
        }
      ]
    },
    {
      "cell_type": "code",
      "source": [
        "def bmi(weight, height):\n",
        "    return weight / height ** 2\n",
        "\n",
        "\n",
        "print(bmi(60.0, 1.75))"
      ],
      "metadata": {
        "colab": {
          "base_uri": "https://localhost:8080/"
        },
        "id": "2Vi6KkuJRfIW",
        "outputId": "6c8f68cf-0adc-4500-8c22-4a737edb5026"
      },
      "execution_count": 8,
      "outputs": [
        {
          "output_type": "stream",
          "name": "stdout",
          "text": [
            "19.591836734693878\n"
          ]
        }
      ]
    },
    {
      "cell_type": "code",
      "source": [
        "def bmi(weight, height):\n",
        "    if height < 1.0 or height > 2.5 or \\\n",
        "    weight < 20 or weight > 200:\n",
        "        return None\n",
        "\n",
        "    return weight / height ** 2\n",
        "\n",
        "def lb_to_kg(lb):\n",
        "    return lb * 0.45359237\n",
        "\n",
        "def ft_and_inch_to_m(ft, inch = 0.0):\n",
        "    return ft * 0.3048 + inch * 0.0254\n",
        "\n",
        "\n",
        "print(ft_and_inch_to_m(6))\n",
        "\n",
        "print(lb_to_kg(1))\n",
        "\n",
        "print(bmi(352.5, 1.65))"
      ],
      "metadata": {
        "colab": {
          "base_uri": "https://localhost:8080/"
        },
        "id": "JFfVC74byUP_",
        "outputId": "6933a76c-6e9d-4294-9426-49ff26c74c4b"
      },
      "execution_count": 11,
      "outputs": [
        {
          "output_type": "stream",
          "name": "stdout",
          "text": [
            "0.3302\n",
            "0.45359237\n",
            "None\n"
          ]
        }
      ]
    },
    {
      "cell_type": "code",
      "source": [
        "def ft_and_inch_to_m(ft, inch = 0.0):\n",
        "    return ft * 0.3048 + inch * 0.0254\n",
        "\n",
        "\n",
        "def lb_to_kg(lb):\n",
        "    return lb * 0.4535923\n",
        "\n",
        "\n",
        "def bmi(weight, height):\n",
        "    if height < 1.0 or height > 2.5 or weight < 20 or weight > 200:\n",
        "        return None\n",
        "\n",
        "    return weight / height ** 2\n",
        "\n",
        "\n",
        "print(bmi(weight = lb_to_kg(176), height = ft_and_inch_to_m(5, 7)))"
      ],
      "metadata": {
        "colab": {
          "base_uri": "https://localhost:8080/"
        },
        "id": "YfQAAyQPzKR0",
        "outputId": "d96e337c-a687-4c73-d554-b7110bb37eaa"
      },
      "execution_count": 12,
      "outputs": [
        {
          "output_type": "stream",
          "name": "stdout",
          "text": [
            "27.56520982857069\n"
          ]
        }
      ]
    },
    {
      "cell_type": "code",
      "source": [
        "def is_a_triangle(a, b, c):\n",
        "    if a + b <= c:\n",
        "        return False\n",
        "    if b + c <= a:\n",
        "        return False\n",
        "    if c + a <= b:\n",
        "        return False\n",
        "    return True\n",
        "\n",
        "\n",
        "print(is_a_triangle(1, 1, 1))\n",
        "print(is_a_triangle(1, 1, 3))"
      ],
      "metadata": {
        "colab": {
          "base_uri": "https://localhost:8080/"
        },
        "id": "yjhm1udrzkTb",
        "outputId": "9d86da08-f763-4758-f777-832f9039204c"
      },
      "execution_count": 13,
      "outputs": [
        {
          "output_type": "stream",
          "name": "stdout",
          "text": [
            "True\n",
            "False\n"
          ]
        }
      ]
    },
    {
      "cell_type": "code",
      "source": [
        "def is_a_triangle(a, b, c):\n",
        "    if a + b <= c or b + c <= a or c + a <= b:\n",
        "        return False\n",
        "    return True\n",
        "\n",
        "\n",
        "print(is_a_triangle(1, 1, 1))\n",
        "print(is_a_triangle(1, 1, 3))"
      ],
      "metadata": {
        "colab": {
          "base_uri": "https://localhost:8080/"
        },
        "id": "AYwPUVR_zrWI",
        "outputId": "71fc16ce-e0c0-4cc6-a449-80727e634b1e"
      },
      "execution_count": 14,
      "outputs": [
        {
          "output_type": "stream",
          "name": "stdout",
          "text": [
            "True\n",
            "False\n"
          ]
        }
      ]
    },
    {
      "cell_type": "code",
      "source": [
        "def is_a_triangle(a, b, c):\n",
        "    return a + b > c and b + c > a and c + a > b\n",
        "\n",
        "\n",
        "print(is_a_triangle(1, 1, 1))\n",
        "print(is_a_triangle(1, 1, 3))"
      ],
      "metadata": {
        "colab": {
          "base_uri": "https://localhost:8080/"
        },
        "id": "VUoc9OHfz1zN",
        "outputId": "21e79759-b20e-4387-9433-2bf467a003b7"
      },
      "execution_count": 15,
      "outputs": [
        {
          "output_type": "stream",
          "name": "stdout",
          "text": [
            "True\n",
            "False\n"
          ]
        }
      ]
    },
    {
      "cell_type": "markdown",
      "source": [
        "Triangles and the Pythagorean theorem\n",
        "Look at the code in the editor. It asks the user for three values. Then it makes use of the is_a_triangle function. The code is ready to run."
      ],
      "metadata": {
        "id": "a1W2C0Naz9mN"
      }
    },
    {
      "cell_type": "code",
      "source": [
        "def is_a_triangle(a, b, c):\n",
        "    return a + b > c and b + c > a and c + a > b\n",
        "\n",
        "\n",
        "a = float(input('Enter the first side\\'s length: '))\n",
        "b = float(input('Enter the second side\\'s length: '))\n",
        "c = float(input('Enter the third side\\'s length: '))\n",
        "\n",
        "if is_a_triangle(a, b, c):\n",
        "    print('Yes, it can be a triangle.')\n",
        "else:\n",
        "    print('No, it can\\'t be a triangle.')\n",
        ""
      ],
      "metadata": {
        "colab": {
          "base_uri": "https://localhost:8080/"
        },
        "id": "AnSfDmVAz-4C",
        "outputId": "09c0f76f-97d6-4631-e438-5d2e0937b7aa"
      },
      "execution_count": 16,
      "outputs": [
        {
          "output_type": "stream",
          "name": "stdout",
          "text": [
            "Enter the first side's length: 6\n",
            "Enter the second side's length: 5\n",
            "Enter the third side's length: 4\n",
            "Yes, it can be a triangle.\n"
          ]
        }
      ]
    },
    {
      "cell_type": "markdown",
      "source": [
        "We will need to make use of the Pythagorean theorem:\n",
        "\n",
        "c2 = a2 + b2\n",
        "\n",
        "How do we recognize which of the three sides is the hypotenuse?\n",
        "\n",
        "The hypotenuse is the longest side."
      ],
      "metadata": {
        "id": "j1WCeB_O0iLR"
      }
    },
    {
      "cell_type": "code",
      "source": [
        "def is_a_triangle(a, b, c):\n",
        "    return a + b > c and b + c > a and c + a > b\n",
        "\n",
        "\n",
        "def is_a_right_triangle(a, b, c):\n",
        "    if not is_a_triangle(a, b, c):\n",
        "        return False\n",
        "    if c > a and c > b:\n",
        "        return c ** 2 == a ** 2 + b ** 2\n",
        "    if a > b and a > c:\n",
        "       return c ** 2 == a ** 2 + b ** 2 if a > b and a > c\n",
        "    if a > b and a > c:\n",
        "        return a ** 2 == b ** 2 + c ** 2\n",
        "print(is_a_right_triangle(5, 3, 4))\n",
        "print(is_a_right_triangle(1, 3, 4))\n",
        "\n"
      ],
      "metadata": {
        "colab": {
          "base_uri": "https://localhost:8080/",
          "height": 110
        },
        "id": "ZrS0G4Fw0mj5",
        "outputId": "49e22b28-5e6d-43cd-cfe7-b035ca7e8d0a"
      },
      "execution_count": 20,
      "outputs": [
        {
          "output_type": "error",
          "ename": "SyntaxError",
          "evalue": "expected 'else' after 'if' expression (ipython-input-4022008685.py, line 11)",
          "traceback": [
            "\u001b[0;36m  File \u001b[0;32m\"/tmp/ipython-input-4022008685.py\"\u001b[0;36m, line \u001b[0;32m11\u001b[0m\n\u001b[0;31m    return c ** 2 == a ** 2 + b ** 2 if a > b and a > c\u001b[0m\n\u001b[0m           ^\u001b[0m\n\u001b[0;31mSyntaxError\u001b[0m\u001b[0;31m:\u001b[0m expected 'else' after 'if' expression\n"
          ]
        }
      ]
    },
    {
      "cell_type": "code",
      "source": [
        "def is_a_triangle(a, b, c):\n",
        "    return a + b > c and b + c > a and c + a > b\n",
        "\n",
        "\n",
        "def heron(a, b, c):\n",
        "    p = (a + b + c) / 2\n",
        "    return (p * (p - a) * (p - b) * (p - c)) ** 0.5\n",
        "\n",
        "\n",
        "def area_of_triangle(a, b, c):\n",
        "    if not is_a_triangle(a, b, c):\n",
        "        return None\n",
        "    return heron(a, b, c)\n",
        "\n",
        "\n",
        "print(area_of_triangle(1., 1., 2. ** .5))\n",
        "\n",
        "\n"
      ],
      "metadata": {
        "colab": {
          "base_uri": "https://localhost:8080/"
        },
        "id": "L5KMOZHr1YQT",
        "outputId": "d510a1e6-1497-49e4-eb6f-2a3f38358de1"
      },
      "execution_count": 21,
      "outputs": [
        {
          "output_type": "stream",
          "name": "stdout",
          "text": [
            "0.49999999999999983\n"
          ]
        }
      ]
    },
    {
      "cell_type": "markdown",
      "source": [
        "# 4.5.3 Sample functions: Factorials"
      ],
      "metadata": {
        "id": "FwvGfYDB1e_S"
      }
    },
    {
      "cell_type": "code",
      "source": [
        "def factorial_function(n):\n",
        "    if n < 0:\n",
        "        return None\n",
        "    if n < 2:\n",
        "        return 1\n",
        "\n",
        "    product = 1\n",
        "    for i in range(2, n + 1):\n",
        "        product *= i\n",
        "    return product\n",
        "\n",
        "\n",
        "for n in range(1, 6):  # testing\n",
        "    print(n, factorial_function(n))\n",
        "\n"
      ],
      "metadata": {
        "colab": {
          "base_uri": "https://localhost:8080/"
        },
        "id": "hpDGdh031gw1",
        "outputId": "11e4f8c3-2c5c-4d1b-b04c-1783598cae86"
      },
      "execution_count": 22,
      "outputs": [
        {
          "output_type": "stream",
          "name": "stdout",
          "text": [
            "1 1\n",
            "2 2\n",
            "3 6\n",
            "4 24\n",
            "5 120\n"
          ]
        }
      ]
    },
    {
      "cell_type": "markdown",
      "source": [
        "# 4.5.4 Fibonacci numbers\n",
        "They are a sequence of integer numbers built using a very simple rule:\n",
        "\n",
        "the first element of the sequence is equal to one (Fib1 = 1)\n",
        "the second is also equal to one (Fib2 = 1)\n",
        "every subsequent number is the the_sum of the two preceding numbers:(Fibi = Fibi-1 + Fibi-2)"
      ],
      "metadata": {
        "id": "NQy1qkJb1yfU"
      }
    },
    {
      "cell_type": "code",
      "source": [
        "def fib(n):\n",
        "    if n < 1:\n",
        "        return None\n",
        "    if n < 3:\n",
        "        return 1\n",
        "\n",
        "    elem_1 = elem_2 = 1\n",
        "    the_sum = 0\n",
        "    for i in range(3, n + 1):\n",
        "        the_sum = elem_1 + elem_2\n",
        "        elem_1, elem_2 = elem_2, the_sum\n",
        "    return the_sum\n",
        "\n",
        "\n",
        "for n in range(1, 10): # testing\n",
        "    print(n, \"->\", fib(n))\n",
        ""
      ],
      "metadata": {
        "colab": {
          "base_uri": "https://localhost:8080/"
        },
        "id": "WVkj5V5m10QT",
        "outputId": "ab222696-3e37-4ca7-cc98-198bb450f601"
      },
      "execution_count": 23,
      "outputs": [
        {
          "output_type": "stream",
          "name": "stdout",
          "text": [
            "1 -> 1\n",
            "2 -> 1\n",
            "3 -> 2\n",
            "4 -> 3\n",
            "5 -> 5\n",
            "6 -> 8\n",
            "7 -> 13\n",
            "8 -> 21\n",
            "9 -> 34\n"
          ]
        }
      ]
    },
    {
      "cell_type": "markdown",
      "source": [
        "# 4.5.5 Recursion\n",
        "\n",
        "There's one more thing we want to show you to make everything complete − it's recursion.\n",
        "\n",
        "This term may describe many different concepts, but one of them is especially interesting − the one referring to computer programming.\n",
        "\n",
        "In this field, recursion is a technique where a function invokes itself.\n",
        "\n",
        "These two cases seem to be the best to illustrate the phenomenon − factorials and Fibonacci numbers. Especially the latter.\n",
        "\n",
        "The Fibonacci numbers definition is a clear example of recursion. We already told you that:\n",
        "\n",
        "Fibi = Fibi-1 + Fibi-2"
      ],
      "metadata": {
        "id": "SQ6VWSyA2MW5"
      }
    },
    {
      "cell_type": "code",
      "source": [
        "\n",
        "\n",
        "def fib(n):\n",
        "    if n < 1:\n",
        "        return None\n",
        "    if n < 3:\n",
        "        return 1\n",
        "    return fib(n - 1) + fib(n - 2)\n",
        "\n",
        ""
      ],
      "metadata": {
        "id": "WT4mfcen2bZC"
      },
      "execution_count": 24,
      "outputs": []
    },
    {
      "cell_type": "code",
      "source": [
        "def factorial_function(n):\n",
        "    if n < 0:\n",
        "        return None\n",
        "    if n < 2:\n",
        "        return 1\n",
        "    return n * factorial_function(n - 1)"
      ],
      "metadata": {
        "id": "ejHRWDCP2tEY"
      },
      "execution_count": null,
      "outputs": []
    },
    {
      "cell_type": "code",
      "source": [
        "def fib(n):\n",
        "    if n < 1:\n",
        "         return None\n",
        "    if n < 3:\n",
        "        return 1\n",
        "\n",
        "    elem_1 = elem_2 = 1\n",
        "    the_sum = 0\n",
        "    for i in range(3, n + 1):\n",
        "        the_sum = elem_1 + elem_2\n",
        "        elem_1, elem_2 = elem_2, the_sum\n",
        "    return the_sum\n",
        "\n",
        "\n",
        "for n in range(1, 10):\n",
        "    print(n, \"->\", fib(n))\n"
      ],
      "metadata": {
        "colab": {
          "base_uri": "https://localhost:8080/"
        },
        "id": "GSKRaCFT2uex",
        "outputId": "9e53da24-5193-43f3-85d4-6b0c87fed397"
      },
      "execution_count": 25,
      "outputs": [
        {
          "output_type": "stream",
          "name": "stdout",
          "text": [
            "1 -> 1\n",
            "2 -> 1\n",
            "3 -> 2\n",
            "4 -> 3\n",
            "5 -> 5\n",
            "6 -> 8\n",
            "7 -> 13\n",
            "8 -> 21\n",
            "9 -> 34\n"
          ]
        }
      ]
    },
    {
      "cell_type": "code",
      "source": [
        "# Recursive implementation of the factorial function.\n",
        "\n",
        "def factorial(n):\n",
        "    if n == 1: # The base case (termination condition.)\n",
        "        return 1\n",
        "    else:\n",
        "        return n * factorial(n - 1)\n",
        "\n",
        "\n",
        "print(factorial(4)) # 4 * 3 * 2 * 1 = 24"
      ],
      "metadata": {
        "colab": {
          "base_uri": "https://localhost:8080/"
        },
        "id": "ZKLY4x3Q3D3H",
        "outputId": "95b7af9e-428c-48c4-9daa-f46d0a7bc34b"
      },
      "execution_count": 26,
      "outputs": [
        {
          "output_type": "stream",
          "name": "stdout",
          "text": [
            "24\n"
          ]
        }
      ]
    },
    {
      "cell_type": "code",
      "source": [
        "my_tuple = (1, 10, 100, 1000)\n",
        "\n",
        "print(my_tuple[0])\n",
        "print(my_tuple[-1])\n",
        "print(my_tuple[1:])\n",
        "print(my_tuple[:-2])\n",
        "\n",
        "for elem in my_tuple:\n",
        "  print(elem)"
      ],
      "metadata": {
        "colab": {
          "base_uri": "https://localhost:8080/"
        },
        "id": "fouiikJENMEw",
        "outputId": "5de8c599-c0d8-4e39-da14-41e9c5c0c7f1"
      },
      "execution_count": 2,
      "outputs": [
        {
          "output_type": "stream",
          "name": "stdout",
          "text": [
            "1\n",
            "1000\n",
            "(10, 100, 1000)\n",
            "(1, 10)\n",
            "1\n",
            "10\n",
            "100\n",
            "1000\n"
          ]
        }
      ]
    },
    {
      "cell_type": "code",
      "source": [
        "# All of these instructions (except the topmost one) will cause a runtime error:\n",
        "\n",
        "my_tuple = (1, 10, 100, 1000)\n",
        "\n",
        "my_tuple.append(10000)\n",
        "del my_tuple[0]\n",
        "my_tuple[1] = -10\n"
      ],
      "metadata": {
        "colab": {
          "base_uri": "https://localhost:8080/",
          "height": 219
        },
        "id": "3BB_c99RN-fw",
        "outputId": "9deb4b98-9852-4586-c083-039ad895c832"
      },
      "execution_count": 3,
      "outputs": [
        {
          "output_type": "error",
          "ename": "AttributeError",
          "evalue": "'tuple' object has no attribute 'append'",
          "traceback": [
            "\u001b[0;31m---------------------------------------------------------------------------\u001b[0m",
            "\u001b[0;31mAttributeError\u001b[0m                            Traceback (most recent call last)",
            "\u001b[0;32m/tmp/ipython-input-873201666.py\u001b[0m in \u001b[0;36m<cell line: 0>\u001b[0;34m()\u001b[0m\n\u001b[1;32m      3\u001b[0m \u001b[0mmy_tuple\u001b[0m \u001b[0;34m=\u001b[0m \u001b[0;34m(\u001b[0m\u001b[0;36m1\u001b[0m\u001b[0;34m,\u001b[0m \u001b[0;36m10\u001b[0m\u001b[0;34m,\u001b[0m \u001b[0;36m100\u001b[0m\u001b[0;34m,\u001b[0m \u001b[0;36m1000\u001b[0m\u001b[0;34m)\u001b[0m\u001b[0;34m\u001b[0m\u001b[0;34m\u001b[0m\u001b[0m\n\u001b[1;32m      4\u001b[0m \u001b[0;34m\u001b[0m\u001b[0m\n\u001b[0;32m----> 5\u001b[0;31m \u001b[0mmy_tuple\u001b[0m\u001b[0;34m.\u001b[0m\u001b[0mappend\u001b[0m\u001b[0;34m(\u001b[0m\u001b[0;36m10000\u001b[0m\u001b[0;34m)\u001b[0m\u001b[0;34m\u001b[0m\u001b[0;34m\u001b[0m\u001b[0m\n\u001b[0m\u001b[1;32m      6\u001b[0m \u001b[0;32mdel\u001b[0m \u001b[0mmy_tuple\u001b[0m\u001b[0;34m[\u001b[0m\u001b[0;36m0\u001b[0m\u001b[0;34m]\u001b[0m\u001b[0;34m\u001b[0m\u001b[0;34m\u001b[0m\u001b[0m\n\u001b[1;32m      7\u001b[0m \u001b[0mmy_tuple\u001b[0m\u001b[0;34m[\u001b[0m\u001b[0;36m1\u001b[0m\u001b[0;34m]\u001b[0m \u001b[0;34m=\u001b[0m \u001b[0;34m-\u001b[0m\u001b[0;36m10\u001b[0m\u001b[0;34m\u001b[0m\u001b[0;34m\u001b[0m\u001b[0m\n",
            "\u001b[0;31mAttributeError\u001b[0m: 'tuple' object has no attribute 'append'"
          ]
        }
      ]
    },
    {
      "cell_type": "code",
      "source": [
        "my_tuple = (1, 10, 100)\n",
        "\n",
        "t1 = my_tuple + (1000, 10000)\n",
        "t2 = my_tuple * 3\n",
        "\n",
        "print(len(t2))\n",
        "print(t1)\n",
        "print(t2)\n",
        "print(10 in my_tuple)\n",
        "print(-10 not in my_tuple)"
      ],
      "metadata": {
        "colab": {
          "base_uri": "https://localhost:8080/"
        },
        "id": "PhsNLEJ7OGzm",
        "outputId": "97aa8490-903d-47eb-b0e2-d5b3eac912fc"
      },
      "execution_count": 4,
      "outputs": [
        {
          "output_type": "stream",
          "name": "stdout",
          "text": [
            "9\n",
            "(1, 10, 100, 1000, 10000)\n",
            "(1, 10, 100, 1, 10, 100, 1, 10, 100)\n",
            "True\n",
            "True\n"
          ]
        }
      ]
    },
    {
      "cell_type": "code",
      "source": [
        "\n",
        "var = 123\n",
        "\n",
        "var = 123\n",
        "\n",
        "t1 = (1,)\n",
        "t2 = (2,)\n",
        "t3 = (3, var)\n",
        "\n",
        "t1 , t2, t3 = t2, t3, t1\n",
        "\n",
        "print(t1, t2, t3)\n",
        "\n"
      ],
      "metadata": {
        "colab": {
          "base_uri": "https://localhost:8080/"
        },
        "id": "fwat9d_kPYiq",
        "outputId": "2982f426-9e79-441f-b22e-06ebe66de44c"
      },
      "execution_count": 5,
      "outputs": [
        {
          "output_type": "stream",
          "name": "stdout",
          "text": [
            "(2,) (3, 123) (1,)\n"
          ]
        }
      ]
    },
    {
      "cell_type": "markdown",
      "source": [
        "# 4.6.3 Dictionaries\n",
        "The dictionary is another Python data structure. It's not a sequence type (but can be easily adapted to sequence processing) and it is mutable.\n",
        "\n",
        "\n"
      ],
      "metadata": {
        "id": "S66U1XtGP5PH"
      }
    },
    {
      "cell_type": "code",
      "source": [
        "dictionary = {\"cat\": \"chat\", \"dog\": \"chien\", \"horse\": \"cheval\"}\n",
        "phone_numbers = {'boss': 5551234567, 'Suzy': 22657854310}\n",
        "empty_dictionary = {}\n",
        "\n",
        "dictionary = {\"cat\": \"chat\", \"dog\": \"chien\", \"horse\" : \"cheval\"}\n",
        "phone_numbers = {\"boss\": 5551234567, \"suzy\":22657854310}\n",
        "empty_dictionary = {}\n",
        "\n",
        "print(dictionary)\n",
        "print(phone_numbers)\n",
        "print(empty_dictionary)\n",
        "\n",
        "print(dictionary['cat'])\n",
        "print(phone_numbers['suzy'])\n"
      ],
      "metadata": {
        "colab": {
          "base_uri": "https://localhost:8080/"
        },
        "id": "suaB2zb-P8cU",
        "outputId": "53a5dac7-2456-4e20-f62f-229998950de6"
      },
      "execution_count": 8,
      "outputs": [
        {
          "output_type": "stream",
          "name": "stdout",
          "text": [
            "{'cat': 'chat', 'dog': 'chien', 'horse': 'cheval'}\n",
            "{'boss': 5551234567, 'suzy': 22657854310}\n",
            "{}\n",
            "chat\n",
            "22657854310\n"
          ]
        }
      ]
    },
    {
      "cell_type": "code",
      "source": [
        "\n",
        "dictionary = {\"cat\": \"chat\", \"dog\": \"chien\", \"horse\": \"cheval\"}\n",
        "words = ['cat', 'lion', 'horse']\n",
        "\n",
        "for word in words:\n",
        "  if word in dictionary:\n",
        "    print(word, \"->\", dictionary[word])\n",
        "  else:\n",
        "    print(word, \"is not in dictionary\")"
      ],
      "metadata": {
        "colab": {
          "base_uri": "https://localhost:8080/"
        },
        "id": "98QDLknUUiXh",
        "outputId": "1933b6e9-5864-47a3-a19c-3e3899b3a8d9"
      },
      "execution_count": 9,
      "outputs": [
        {
          "output_type": "stream",
          "name": "stdout",
          "text": [
            "cat -> chat\n",
            "lion is not in dictionary\n",
            "horse -> cheval\n"
          ]
        }
      ]
    },
    {
      "cell_type": "code",
      "source": [
        "# This kind of formatting is called a hanging indent.\n",
        "\n",
        "# Example 1:\n",
        "dictionary = {\n",
        "              \"cat\": \"chat\",\n",
        "              \"dog\": \"chien\",\n",
        "              \"horse\": \"cheval\"\n",
        "}\n",
        "# Example 2:\n",
        "phone_numbers = {'boss': 5551234567,\n",
        "              'Suzy': 22657854310\n",
        "}\n",
        "\n"
      ],
      "metadata": {
        "id": "N1-GqHt3VEc-"
      },
      "execution_count": null,
      "outputs": []
    },
    {
      "cell_type": "markdown",
      "source": [
        "# 4.6.4 Dictionary methods and functions\n",
        "The keys() method\n",
        "\n",
        "The first of them is a method named keys(), possessed by each dictionary. The method returns an iterable object consisting of all the keys gathered within the dictionary. Having a group of keys enables you to access the whole dictionary in an easy and handy way."
      ],
      "metadata": {
        "id": "Xn0OA3XzVSba"
      }
    },
    {
      "cell_type": "code",
      "source": [
        "dictionary = {\"cat\": \"chat\", \"dog\" : \"chien\", \"horse\": \"cheval\"}\n",
        "\n",
        "for key in dictionary.keys():\n",
        "  print(key, \"->\", dictionary[key])\n",
        "\n",
        "dictionary = {\"cat\"}"
      ],
      "metadata": {
        "colab": {
          "base_uri": "https://localhost:8080/"
        },
        "id": "YqeP80EkVknE",
        "outputId": "7246ef67-2548-43a3-804d-fcd50c46372d"
      },
      "execution_count": 2,
      "outputs": [
        {
          "output_type": "stream",
          "name": "stdout",
          "text": [
            "cat -> chat\n",
            "dog -> chien\n",
            "horse -> cheval\n"
          ]
        }
      ]
    },
    {
      "cell_type": "code",
      "source": [
        "# Let's now have a look at a dictionary method called items().\n",
        "# The method returns tuples (this is the first example where tuples are something more than just an example of themselves) where each tuple is a key-value pair.\n",
        "# This is how it works:\n",
        "\n",
        "dictionary = {\"cat\": \"chat\", \"doc\": \"chien\", \"horse\": \"cheval\"}\n",
        "\n",
        "for english, french in dictionary.items():\n",
        "  print(english, \"->\", french)"
      ],
      "metadata": {
        "colab": {
          "base_uri": "https://localhost:8080/"
        },
        "id": "fdZtb4PHypcu",
        "outputId": "fbbe098f-48af-43f6-be0a-1005b9b0a8a5"
      },
      "execution_count": 4,
      "outputs": [
        {
          "output_type": "stream",
          "name": "stdout",
          "text": [
            "cat -> chat\n",
            "doc -> chien\n",
            "horse -> cheval\n"
          ]
        }
      ]
    },
    {
      "cell_type": "code",
      "source": [
        "dictionary = {\"cat\": \"chat\", \"dog\": \"chien\", \"horse\" : \"cheval\"}\n",
        "\n",
        "dictionary['cat'] = 'minou'\n",
        "\n",
        "print(dictionary)\n"
      ],
      "metadata": {
        "colab": {
          "base_uri": "https://localhost:8080/"
        },
        "id": "0zRIGSgtxV5z",
        "outputId": "3098b310-81a5-44c6-cdb5-351ee2aabce7"
      },
      "execution_count": 5,
      "outputs": [
        {
          "output_type": "stream",
          "name": "stdout",
          "text": [
            "{'cat': 'minou', 'dog': 'chien', 'horse': 'cheval'}\n"
          ]
        }
      ]
    },
    {
      "cell_type": "code",
      "source": [
        "# Do you want it sorted? Just enrich the for loop to get such a form:\n",
        "\n",
        "for key in sorted(dictionary.keys()):\n",
        "    print(key, \"->\", dictionary[key])"
      ],
      "metadata": {
        "colab": {
          "base_uri": "https://localhost:8080/"
        },
        "id": "wqpU0hYH2ulO",
        "outputId": "81449c31-cb10-4df2-af6e-213585f993d9"
      },
      "execution_count": 7,
      "outputs": [
        {
          "output_type": "stream",
          "name": "stdout",
          "text": [
            "cat -> minou\n",
            "dog -> chien\n",
            "horse -> cheval\n"
          ]
        }
      ]
    },
    {
      "cell_type": "code",
      "source": [
        "dictionary = {\"cat\": \"chat\", \"dog\": \"chien\", \"horse\": \"cheval\"}\n",
        "\n",
        "\n",
        "for french in dictionary.values():\n",
        "  print(french)"
      ],
      "metadata": {
        "colab": {
          "base_uri": "https://localhost:8080/"
        },
        "id": "do7NkALY3zE4",
        "outputId": "90e7a72c-128c-47a0-ac1c-4cd86c1a31c9"
      },
      "execution_count": 8,
      "outputs": [
        {
          "output_type": "stream",
          "name": "stdout",
          "text": [
            "chat\n",
            "chien\n",
            "cheval\n"
          ]
        }
      ]
    },
    {
      "cell_type": "code",
      "source": [
        "# Adding a new key\n",
        "# Adding a new key-value pair to a dictionary is as simple as changing a value – you only have to assign a value to a new, previously non-existent key.\n",
        "\n",
        "dictionary = {\"cat\": \"chat\", \"dog\": \"chien\", \"horse\": \"cheval\"}\n",
        "dictionary['swan'] = 'cygne'\n",
        "\n",
        "print(dictionary)\n"
      ],
      "metadata": {
        "colab": {
          "base_uri": "https://localhost:8080/"
        },
        "id": "0vbPsPku4K4K",
        "outputId": "87c14897-607a-4314-ba7e-7de4d9c840f6"
      },
      "execution_count": 9,
      "outputs": [
        {
          "output_type": "stream",
          "name": "stdout",
          "text": [
            "{'cat': 'chat', 'dog': 'chien', 'horse': 'cheval', 'swan': 'cygne'}\n"
          ]
        }
      ]
    },
    {
      "cell_type": "code",
      "source": [
        "# You can also insert an item to a dictionary by using the update() method, e.g.:\n",
        "\n",
        "dictionary = {\"cat\": \"chat\", \"dog\": \"chien\", \"horse\": \"cheval\"}\n",
        "\n",
        "dictionary.update({\"duck\": \"canard\"})\n",
        "print(dictionary)\n"
      ],
      "metadata": {
        "colab": {
          "base_uri": "https://localhost:8080/"
        },
        "id": "SAjExl4a5JbT",
        "outputId": "8a5c60a0-d34e-48c1-85e3-3f2d6ef61fe1"
      },
      "execution_count": 10,
      "outputs": [
        {
          "output_type": "stream",
          "name": "stdout",
          "text": [
            "{'cat': 'chat', 'dog': 'chien', 'horse': 'cheval', 'duck': 'canard'}\n"
          ]
        }
      ]
    },
    {
      "cell_type": "code",
      "source": [
        "# Removing a key\n",
        "# Note: removing a key will always cause the removal of the associated value. Values cannot exist without their keys.\n",
        "# This is done with the del instruction.\n",
        "\n",
        "dictionary = {\"cat\": \"chat\", \"dog\": \"chien\", \"horse\": \"cheval\"}\n",
        "\n",
        "del dictionary['dog']\n",
        "print(dictionary)\n",
        "\n",
        "# Note: removing a non-existing key causes an error."
      ],
      "metadata": {
        "colab": {
          "base_uri": "https://localhost:8080/"
        },
        "id": "6mEqb94T5ov3",
        "outputId": "8d757047-c1d5-47d0-b2e6-fd43b0bf265a"
      },
      "execution_count": 13,
      "outputs": [
        {
          "output_type": "stream",
          "name": "stdout",
          "text": [
            "{'cat': 'chat', 'horse': 'cheval'}\n"
          ]
        }
      ]
    },
    {
      "cell_type": "code",
      "source": [
        "# To remove the last item in a dictionary, you can use the popitem() method:\n",
        "\n",
        "dictionary = {\"cat\": \"chat\", \"dog\": \"chien\", \"horse\": \"cheval\"}\n",
        "\n",
        "dictionary.popitem()\n",
        "print(dictionary) # outputs: {'cat': 'chat', 'dog': 'chien'}"
      ],
      "metadata": {
        "colab": {
          "base_uri": "https://localhost:8080/"
        },
        "id": "mY8E3P6S6ZPp",
        "outputId": "25dc0793-d7ec-46bf-864f-3442a93dc6b5"
      },
      "execution_count": 14,
      "outputs": [
        {
          "output_type": "stream",
          "name": "stdout",
          "text": [
            "{'cat': 'chat', 'dog': 'chien'}\n"
          ]
        }
      ]
    },
    {
      "cell_type": "markdown",
      "source": [
        "# 4.6.5 Tuples and dictionaries can work together\n",
        "We've prepared a simple example, showing how tuples and dictionaries can work together."
      ],
      "metadata": {
        "id": "3kfP5DPj686q"
      }
    },
    {
      "cell_type": "code",
      "source": [
        "school_class = {}\n",
        "\n",
        "while True:\n",
        "  name = input(\"ENter the students's Name : \")\n",
        "  if name == '':\n",
        "      break\n",
        "\n",
        "  score = int(input(\"Enter the students Score (0-10): \"))\n",
        "  if score not in range(0,11):\n",
        "      break\n",
        "\n",
        "  if name in school_class:\n",
        "    school_class [name] += (score,)\n",
        "  else:\n",
        "    school_class[name] = (score,)\n",
        "\n",
        "for name in sorted(school_class.keys()):\n",
        "    adding = 0\n",
        "    counter = 0\n",
        "    for score in school_class[name]:\n",
        "        adding = adding + score\n",
        "        counter = counter + 1\n",
        "    print(name, \":\", adding / counter )"
      ],
      "metadata": {
        "colab": {
          "base_uri": "https://localhost:8080/"
        },
        "id": "e_Y57ciU7AlJ",
        "outputId": "94f19b19-d6f6-476b-bc00-103709b8c046"
      },
      "execution_count": 22,
      "outputs": [
        {
          "output_type": "stream",
          "name": "stdout",
          "text": [
            "ENter the students's Name : satya\n",
            "Enter the students Score (0-10): 7\n",
            "ENter the students's Name : priya\n",
            "Enter the students Score (0-10): 9\n",
            "ENter the students's Name : \n",
            "priya : 9.0\n",
            "satya : 7.0\n"
          ]
        }
      ]
    },
    {
      "cell_type": "code",
      "source": [
        "# 1. Tuples are ordered and unchangeable (immutable) collections of data. They can be thought of as immutable lists. They are written in round brackets:\n",
        "# Each tuple element may be of a different type (i.e., integers, strings, booleans, etc.). What is more, tuples can contain other tuples or lists (and the other way round).\n",
        "\n",
        "my_tuple = (1,2, True, \"a string\", (3,4), [5,6],None )\n",
        "print(my_tuple)\n",
        "\n",
        "my_list = [1,2,True, \"a string\", (3,4), [5,6], None]\n",
        "print(my_list)"
      ],
      "metadata": {
        "colab": {
          "base_uri": "https://localhost:8080/"
        },
        "id": "gD510hHCIpm5",
        "outputId": "9428247d-14d5-472d-c79d-45fc8315be75"
      },
      "execution_count": 23,
      "outputs": [
        {
          "output_type": "stream",
          "name": "stdout",
          "text": [
            "(1, 2, True, 'a string', (3, 4), [5, 6], None)\n",
            "[1, 2, True, 'a string', (3, 4), [5, 6], None]\n"
          ]
        }
      ]
    },
    {
      "cell_type": "code",
      "source": [
        "# 2. You can create an empty tuple like this:\n",
        "\n",
        "empty_tuple = ()\n",
        "print(type(empty_tuple)) # outputs: <class 'tuple'>\n"
      ],
      "metadata": {
        "colab": {
          "base_uri": "https://localhost:8080/"
        },
        "id": "JRzd9qLzJRsS",
        "outputId": "322e8ffa-804c-4646-e526-182f93664819"
      },
      "execution_count": 24,
      "outputs": [
        {
          "output_type": "stream",
          "name": "stdout",
          "text": [
            "<class 'tuple'>\n"
          ]
        }
      ]
    },
    {
      "cell_type": "code",
      "source": [
        "# 3. A one-element tuple may be created as follows:\n",
        "\n",
        "one_elem_tuple_1 = (\"one\",) # Brackets and a comma.\n",
        "one_elem_tuple_2 = \"one\",  # No brackets, just a comma.\n",
        "\n",
        "print(one_elem_tuple_1)\n",
        "print(one_elem_tuple_2)\n",
        "\n",
        "# If you remove the comma, you will tell Python to create a variable, not a tuple:\n",
        "\n",
        "my_tuple_3 = 1,\n",
        "print(type(my_tuple_3)) # outputs: <class 'tuple'>\n",
        "\n",
        "my_tuple_4 = 1 # This is not a tuple.\n",
        "print(type(my_tuple_4)) # outputs: <class 'int'>\n",
        ""
      ],
      "metadata": {
        "colab": {
          "base_uri": "https://localhost:8080/"
        },
        "id": "GPhpeUSPJits",
        "outputId": "952d7b34-4263-4334-c763-3f9da877e230"
      },
      "execution_count": 27,
      "outputs": [
        {
          "output_type": "stream",
          "name": "stdout",
          "text": [
            "('one',)\n",
            "('one',)\n",
            "<class 'tuple'>\n",
            "<class 'int'>\n"
          ]
        }
      ]
    },
    {
      "cell_type": "code",
      "source": [
        "# You can access tuple elements by indexing them:\n",
        "\n",
        "my_tuple = (1,2.0,\"string\", [3,4],(5,), True)\n",
        "\n",
        "print (my_tuple[3]) # outputs: [3, 4]\n",
        "\n"
      ],
      "metadata": {
        "colab": {
          "base_uri": "https://localhost:8080/"
        },
        "id": "vAnFDYkaP3ck",
        "outputId": "13dab576-2b7e-4e85-f831-fbf4f820b051"
      },
      "execution_count": 28,
      "outputs": [
        {
          "output_type": "stream",
          "name": "stdout",
          "text": [
            "[3, 4]\n"
          ]
        }
      ]
    },
    {
      "cell_type": "code",
      "source": [
        "# 5. Tuples are immutable, which means you cannot change their elements (you cannot append tuples, or modify, or remove tuple elements).\n",
        "# The following snippet will cause an exception:\n",
        "\n",
        "my_tuple = (1,2.0,\"string\",[3,4],(5,),True)\n",
        "my_tuple[2] = \"guitar\"  # The TypeError exception will be raised.\n",
        "\n"
      ],
      "metadata": {
        "colab": {
          "base_uri": "https://localhost:8080/",
          "height": 200
        },
        "id": "f5McGJHxQVJK",
        "outputId": "832e6103-0071-42f2-a593-562032ecd3d3"
      },
      "execution_count": 29,
      "outputs": [
        {
          "output_type": "error",
          "ename": "TypeError",
          "evalue": "'tuple' object does not support item assignment",
          "traceback": [
            "\u001b[0;31m---------------------------------------------------------------------------\u001b[0m",
            "\u001b[0;31mTypeError\u001b[0m                                 Traceback (most recent call last)",
            "\u001b[0;32m/tmp/ipython-input-2619740605.py\u001b[0m in \u001b[0;36m<cell line: 0>\u001b[0;34m()\u001b[0m\n\u001b[1;32m      3\u001b[0m \u001b[0;34m\u001b[0m\u001b[0m\n\u001b[1;32m      4\u001b[0m \u001b[0mmy_tuple\u001b[0m \u001b[0;34m=\u001b[0m \u001b[0;34m(\u001b[0m\u001b[0;36m1\u001b[0m\u001b[0;34m,\u001b[0m\u001b[0;36m2.0\u001b[0m\u001b[0;34m,\u001b[0m\u001b[0;34m\"string\"\u001b[0m\u001b[0;34m,\u001b[0m\u001b[0;34m[\u001b[0m\u001b[0;36m3\u001b[0m\u001b[0;34m,\u001b[0m\u001b[0;36m4\u001b[0m\u001b[0;34m]\u001b[0m\u001b[0;34m,\u001b[0m\u001b[0;34m(\u001b[0m\u001b[0;36m5\u001b[0m\u001b[0;34m,\u001b[0m\u001b[0;34m)\u001b[0m\u001b[0;34m,\u001b[0m\u001b[0;32mTrue\u001b[0m\u001b[0;34m)\u001b[0m\u001b[0;34m\u001b[0m\u001b[0;34m\u001b[0m\u001b[0m\n\u001b[0;32m----> 5\u001b[0;31m \u001b[0mmy_tuple\u001b[0m\u001b[0;34m[\u001b[0m\u001b[0;36m2\u001b[0m\u001b[0;34m]\u001b[0m \u001b[0;34m=\u001b[0m \u001b[0;34m\"guitar\"\u001b[0m  \u001b[0;31m# The TypeError exception will be raised.\u001b[0m\u001b[0;34m\u001b[0m\u001b[0;34m\u001b[0m\u001b[0m\n\u001b[0m\u001b[1;32m      6\u001b[0m \u001b[0;34m\u001b[0m\u001b[0m\n",
            "\u001b[0;31mTypeError\u001b[0m: 'tuple' object does not support item assignment"
          ]
        }
      ]
    },
    {
      "cell_type": "code",
      "source": [
        "# However, you can delete a tuple as a whole:\n",
        "\n",
        "my_tuple = 1, 2, 3,\n",
        "my_tuple = 1,2,3,\n",
        "del my_tuple\n",
        "print(my_tuple) # NameError: name 'my_tuple' is not defined\n",
        "\n"
      ],
      "metadata": {
        "colab": {
          "base_uri": "https://localhost:8080/",
          "height": 200
        },
        "id": "9RC7t0DbUaJH",
        "outputId": "13d80bc6-fcf2-463a-f30b-694362f2a6ba"
      },
      "execution_count": 30,
      "outputs": [
        {
          "output_type": "error",
          "ename": "NameError",
          "evalue": "name 'my_tuple' is not defined",
          "traceback": [
            "\u001b[0;31m---------------------------------------------------------------------------\u001b[0m",
            "\u001b[0;31mNameError\u001b[0m                                 Traceback (most recent call last)",
            "\u001b[0;32m/tmp/ipython-input-754354875.py\u001b[0m in \u001b[0;36m<cell line: 0>\u001b[0;34m()\u001b[0m\n\u001b[1;32m      4\u001b[0m \u001b[0mmy_tuple\u001b[0m \u001b[0;34m=\u001b[0m \u001b[0;36m1\u001b[0m\u001b[0;34m,\u001b[0m\u001b[0;36m2\u001b[0m\u001b[0;34m,\u001b[0m\u001b[0;36m3\u001b[0m\u001b[0;34m,\u001b[0m\u001b[0;34m\u001b[0m\u001b[0;34m\u001b[0m\u001b[0m\n\u001b[1;32m      5\u001b[0m \u001b[0;32mdel\u001b[0m \u001b[0mmy_tuple\u001b[0m\u001b[0;34m\u001b[0m\u001b[0;34m\u001b[0m\u001b[0m\n\u001b[0;32m----> 6\u001b[0;31m \u001b[0mprint\u001b[0m\u001b[0;34m(\u001b[0m\u001b[0mmy_tuple\u001b[0m\u001b[0;34m)\u001b[0m \u001b[0;31m# NameError: name 'my_tuple' is not defined\u001b[0m\u001b[0;34m\u001b[0m\u001b[0;34m\u001b[0m\u001b[0m\n\u001b[0m\u001b[1;32m      7\u001b[0m \u001b[0;34m\u001b[0m\u001b[0m\n",
            "\u001b[0;31mNameError\u001b[0m: name 'my_tuple' is not defined"
          ]
        }
      ]
    },
    {
      "cell_type": "code",
      "source": [
        "# 6. You can loop through a tuple elements (Example 1), check if a specific element is (not)present in a tuple (Example 2),\n",
        "# use the len() function to check how many elements there are in a tuple\n",
        "# (Example 3), or even join/multiply tuples (Example 4):\n",
        "# Example 1\n",
        "tuple_1 = (1,2,3)\n",
        "for elem in tuple_1:\n",
        "  print(elem)\n",
        "\n",
        "# Example 2\n",
        "tuple_2 = (1,2,3,4)\n",
        "print(5 in tuple_2)\n",
        "print(5 not in tuple_2)\n",
        "\n",
        "# Example 3\n",
        "tuple_3 = (1,2,3,4)\n",
        "print(len(tuple_3))\n",
        "print(5 not in tuple_3)\n",
        "\n",
        "# Example 4\n",
        "tuple_4 = tuple_1 + tuple_2\n",
        "tuple_5 = tuple_3 * 5\n",
        "\n",
        "print(tuple_4)\n",
        "print(tuple_5)"
      ],
      "metadata": {
        "colab": {
          "base_uri": "https://localhost:8080/"
        },
        "id": "66Lo3Jf9VB1_",
        "outputId": "aaa8e5b6-2ea8-4522-f4e5-0af69e1a195f"
      },
      "execution_count": 33,
      "outputs": [
        {
          "output_type": "stream",
          "name": "stdout",
          "text": [
            "1\n",
            "2\n",
            "3\n",
            "False\n",
            "True\n",
            "4\n",
            "True\n",
            "(1, 2, 3, 1, 2, 3, 4)\n",
            "(1, 2, 3, 4, 1, 2, 3, 4, 1, 2, 3, 4, 1, 2, 3, 4, 1, 2, 3, 4)\n"
          ]
        }
      ]
    },
    {
      "cell_type": "code",
      "source": [
        "# You can also create a tuple using a Python built-in function called tuple().\n",
        "# This is particularly useful when you want to convert a certain iterable (e.g., a list, range, string, etc.) to a tuple:\n",
        "\n",
        "my_tuple = tuple((1,2,\"string\"))\n",
        "print(my_tuple)\n",
        "\n",
        "my_list = [2,4,6]\n",
        "print(my_list) # outputs: [2, 4, 6]\n",
        "print(type(my_list)) # outputs: <class 'list'>\n",
        "tup = tuple(my_list)\n",
        "print(tup) # outputs: (2, 4, 6)\n",
        "print(type(tup)) # outputs: <class 'tuple'>\n",
        "\n"
      ],
      "metadata": {
        "colab": {
          "base_uri": "https://localhost:8080/"
        },
        "id": "nKTW-FJOWUYU",
        "outputId": "2292726a-3122-40a2-8cfc-5ac545ded6ef"
      },
      "execution_count": 34,
      "outputs": [
        {
          "output_type": "stream",
          "name": "stdout",
          "text": [
            "(1, 2, 'string')\n",
            "[2, 4, 6]\n",
            "<class 'list'>\n",
            "(2, 4, 6)\n",
            "<class 'tuple'>\n"
          ]
        }
      ]
    },
    {
      "cell_type": "code",
      "source": [
        "# By the same fashion, when you want to convert an iterable to a list, you can use a Python built-in function called list():\n",
        "\n",
        "tup = 1,2,3,\n",
        "my_list = list(tup)\n",
        "print(type(my_list))  # outputs: <class 'list'>\n",
        "\n"
      ],
      "metadata": {
        "colab": {
          "base_uri": "https://localhost:8080/"
        },
        "id": "D_RcdM7xXQT9",
        "outputId": "f732ea0d-5f0c-4bc0-8e0f-a4a997ed00a9"
      },
      "execution_count": 35,
      "outputs": [
        {
          "output_type": "stream",
          "name": "stdout",
          "text": [
            "<class 'list'>\n"
          ]
        }
      ]
    },
    {
      "cell_type": "code",
      "source": [
        "# 1. Dictionaries are unordered*, changeable (mutable), and indexed collections of data.\n",
        "# (*Since Python 3.6x dictionaries have become ordered by default.)\n",
        "\n",
        "my_dictionary = {\n",
        "    key1: value1,\n",
        "    key2: value2,\n",
        "    key3: value3,\n",
        "}\n",
        "\n"
      ],
      "metadata": {
        "id": "u1TCDZz0X1DY"
      },
      "execution_count": null,
      "outputs": []
    },
    {
      "cell_type": "code",
      "source": [
        "# 2. If you want to access a dictionary item, you can do so by making a reference\n",
        "# to its key inside a pair of square brackets (ex. 1) or by using the get() method (ex. 2):\n",
        "\n",
        "pol_eng_dictionary = {\n",
        "    \"kwait\":\"flower\",\n",
        "    \"woda\":\"water\",\n",
        "    \"gleba\":\"soil\"\n",
        "}\n",
        "\n",
        "item_1 = pol_eng_dictionary[\"gleba\"] # ex. 1\n",
        "print(item_1) # outputs: soil\n",
        "\n",
        "item_2 = pol_eng_dictionary.get(\"woda\") # ex. 2\n",
        "print(item_2) # outputs: water"
      ],
      "metadata": {
        "colab": {
          "base_uri": "https://localhost:8080/"
        },
        "id": "dvYQtnzsY3uL",
        "outputId": "26331f14-32a4-4a83-beda-e3fc20139c44"
      },
      "execution_count": 36,
      "outputs": [
        {
          "output_type": "stream",
          "name": "stdout",
          "text": [
            "soil\n",
            "water\n"
          ]
        }
      ]
    },
    {
      "cell_type": "code",
      "source": [
        "\n"
      ],
      "metadata": {
        "id": "4gHfZ0z7ag44"
      },
      "execution_count": null,
      "outputs": []
    },
    {
      "cell_type": "code",
      "source": [
        "# 3. If you want to change the value associated with a specific key,\n",
        "# you can do so by referring to the item's key name in the following way:\n",
        "\n",
        "pol_eng_dictionary = {\n",
        "    \"kwait\":\"flower\",\n",
        "    \"woda\":\"water\",\n",
        "    \"gleba\":\"soil\"\n",
        "}\n",
        "pol_eng_dictionary[\"zamek\"] = \"lock\"\n",
        "item = pol_eng_dictionary[\"zamek\"]\n",
        "print(item) # outputs: lock\n",
        "print(pol_eng_dictionary)"
      ],
      "metadata": {
        "colab": {
          "base_uri": "https://localhost:8080/"
        },
        "id": "H0wSBqygZycy",
        "outputId": "ea166770-c300-43fe-8dea-e50797cc7f16"
      },
      "execution_count": null,
      "outputs": [
        {
          "output_type": "stream",
          "name": "stdout",
          "text": [
            "lock\n",
            "{'kwait': 'flower', 'woda': 'water', 'gleba': 'soil', 'zamek': 'lock'}\n"
          ]
        }
      ]
    },
    {
      "cell_type": "code",
      "source": [
        "# 4. To add or remove a key (and the associated value), use the following syntax:\n",
        "\n",
        "phonebook = {} # an empty dictionary\n",
        "\n",
        "phonebook[\"Adam\"] = 3456783958 # create/add a key-value pair\n",
        "print(phonebook) # outputs: {'Adam': 3456783958}\n",
        "\n",
        "del phonebook[\"Adam\"]\n",
        "print(phonebook) # outputs: {}\n",
        "\n"
      ],
      "metadata": {
        "colab": {
          "base_uri": "https://localhost:8080/"
        },
        "id": "JK0fXcHMa0hQ",
        "outputId": "d32c735e-2268-453a-c0e6-b0f796d2e99b"
      },
      "execution_count": 39,
      "outputs": [
        {
          "output_type": "stream",
          "name": "stdout",
          "text": [
            "{'Adam': 3456783958}\n",
            "{}\n"
          ]
        }
      ]
    },
    {
      "cell_type": "code",
      "source": [
        "# You can also insert an item into a dictionary by using the update() method,\n",
        "# and remove the last element by using the popitem() method, e.g.:\n",
        "\n",
        "\n",
        "pol_eng_dictionary = {\"kwiat\": \"flower\"}\n",
        "\n",
        "pol_eng_dictionary.update({\"gleba\":\"soil\"})\n",
        "print(pol_eng_dictionary) # outputs: {'kwiat': 'flower', 'gleba': 'soil'}\n",
        "\n",
        "pol_eng_dictionary.popitem()\n",
        "print(pol_eng_dictionary) # outputs: {'kwiat': 'flower'}\n",
        "\n"
      ],
      "metadata": {
        "colab": {
          "base_uri": "https://localhost:8080/"
        },
        "id": "HbMfa1dmbdMp",
        "outputId": "de212ee4-533c-4ce4-fb4f-b8e0b3aa334a"
      },
      "execution_count": 41,
      "outputs": [
        {
          "output_type": "stream",
          "name": "stdout",
          "text": [
            "{'kwiat': 'flower', 'gleba': 'soil'}\n",
            "{'kwiat': 'flower'}\n"
          ]
        }
      ]
    },
    {
      "cell_type": "code",
      "source": [
        "# 5. You can use the for loop to loop through a dictionary, e.g.:\n",
        "\n",
        "pol_eng_dictionary = {\n",
        "    \"zamek\": \"castle\",\n",
        "    \"woda\": \"water\",\n",
        "    \"gleba\": \"soil\"\n",
        "    }\n",
        "\n",
        "for item in pol_eng_dictionary:\n",
        "  print(item)\n",
        "\n",
        "for key, value in pol_eng_dictionary.items():\n",
        "  print(\"Pol/Eng ->\", key, \":\", value)\n",
        ""
      ],
      "metadata": {
        "colab": {
          "base_uri": "https://localhost:8080/"
        },
        "id": "jhnQDjZEb0tv",
        "outputId": "8f37f579-56fc-46bf-9f8f-129d587c5a96"
      },
      "execution_count": 45,
      "outputs": [
        {
          "output_type": "stream",
          "name": "stdout",
          "text": [
            "zamek\n",
            "woda\n",
            "gleba\n",
            "Pol/Eng -> zamek : castle\n",
            "Pol/Eng -> woda : water\n",
            "Pol/Eng -> gleba : soil\n"
          ]
        }
      ]
    },
    {
      "cell_type": "code",
      "source": [
        "# 7. To check if a given key exists in a dictionary, you can use the in keyword:\n",
        "\n",
        "pol_eng_dictionary = {\n",
        "    \"zamek\": \"castle\",\n",
        "    \"woda\": \"water\",\n",
        "    \"gleba\": \"soil\"\n",
        "    }\n",
        "\n",
        "if \"zamek\" in pol_eng_dictionary:\n",
        "  print(\"Yes\")\n",
        "else:\n",
        "  print(\"No\")\n",
        "\n"
      ],
      "metadata": {
        "colab": {
          "base_uri": "https://localhost:8080/"
        },
        "id": "1ZrUdQDKfxDq",
        "outputId": "dc438f51-bf9a-4c3f-de14-1340276e46ca"
      },
      "execution_count": 46,
      "outputs": [
        {
          "output_type": "stream",
          "name": "stdout",
          "text": [
            "Yes\n"
          ]
        }
      ]
    },
    {
      "cell_type": "code",
      "source": [
        "# 8. You can use the del keyword to remove a specific item, or delete a dictionary.\n",
        "# To remove all the dictionary's items, you need to use the clear() method:\n",
        "\n",
        "pol_eng_dictionary = {\n",
        "    \"zamek\": \"castle\",\n",
        "    \"woda\": \"water\",\n",
        "    \"gleba\": \"soil\"\n",
        "    }\n",
        "print(len(pol_eng_dictionary)) # outputs: 3\n",
        "del pol_eng_dictionary[\"zamek\"] # remove an item\n",
        "print(len(pol_eng_dictionary)) # outputs: 2\n",
        "\n",
        "pol_eng_dictionary.clear() # removes all the items\n",
        "print(len(pol_eng_dictionary)) # outputs: 0\n",
        "\n",
        "del pol_eng_dictionary # removes the dictionary\n"
      ],
      "metadata": {
        "colab": {
          "base_uri": "https://localhost:8080/"
        },
        "id": "aqdIzf0Fgv-Y",
        "outputId": "a87c5c81-2f17-4e26-f693-755fedb9c48a"
      },
      "execution_count": 47,
      "outputs": [
        {
          "output_type": "stream",
          "name": "stdout",
          "text": [
            "3\n",
            "2\n",
            "0\n"
          ]
        }
      ]
    },
    {
      "cell_type": "code",
      "source": [
        "# 9. To copy a dictionary, use the copy() method:\n",
        "\n",
        "pol_eng_dictionary = {\n",
        "    \"zamek\": \"castle\",\n",
        "    \"woda\": \"water\",\n",
        "    \"gleba\": \"soil\"\n",
        "    }\n",
        "\n",
        "copy_dictionary = pol_eng_dictionary.copy()\n",
        "\n",
        "print(copy_dictionary)\n",
        "print(pol_eng_dictionary)\n"
      ],
      "metadata": {
        "colab": {
          "base_uri": "https://localhost:8080/"
        },
        "id": "5R57FrDoicHH",
        "outputId": "6bd86cfe-9b15-49ab-e857-aecbd6f08dbc"
      },
      "execution_count": 49,
      "outputs": [
        {
          "output_type": "stream",
          "name": "stdout",
          "text": [
            "{'zamek': 'castle', 'woda': 'water', 'gleba': 'soil'}\n",
            "{'zamek': 'castle', 'woda': 'water', 'gleba': 'soil'}\n"
          ]
        }
      ]
    },
    {
      "cell_type": "code",
      "source": [
        "\n",
        "my_tup = (1, 2, 3)\n",
        "print(my_tup[2])\n"
      ],
      "metadata": {
        "colab": {
          "base_uri": "https://localhost:8080/"
        },
        "id": "7TUreDljkYCs",
        "outputId": "b95c1cca-a4da-4214-beb7-06edb40a64ea"
      },
      "execution_count": 50,
      "outputs": [
        {
          "output_type": "stream",
          "name": "stdout",
          "text": [
            "3\n"
          ]
        }
      ]
    },
    {
      "cell_type": "code",
      "source": [
        "tup = 1, 2, 3\n",
        "a, b, c = tup\n",
        "\n",
        "print(a * b * c)"
      ],
      "metadata": {
        "colab": {
          "base_uri": "https://localhost:8080/"
        },
        "id": "EW1yPUXkkaaW",
        "outputId": "01e002d5-b88d-4ddc-b2c1-b4b91ff16122"
      },
      "execution_count": 51,
      "outputs": [
        {
          "output_type": "stream",
          "name": "stdout",
          "text": [
            "6\n"
          ]
        }
      ]
    },
    {
      "cell_type": "code",
      "source": [
        "tup = 1, 2, 3, 2, 4, 5, 6, 2, 7, 2, 8, 9\n",
        "duplicates = tup.count(2)\n",
        "\n",
        "print(duplicates)    # outputs: 4\n"
      ],
      "metadata": {
        "colab": {
          "base_uri": "https://localhost:8080/"
        },
        "id": "6hsPSnDJkema",
        "outputId": "fac0cc2b-d7a6-4242-ee85-c7b46d4cb789"
      },
      "execution_count": 52,
      "outputs": [
        {
          "output_type": "stream",
          "name": "stdout",
          "text": [
            "4\n"
          ]
        }
      ]
    },
    {
      "cell_type": "code",
      "source": [
        "\n",
        "d1 = {'Adam Smith': 'A', 'Judy Paxton': 'B+'}\n",
        "d2 = {'Mary Louis': 'A', 'Patrick White': 'C'}\n",
        "d3 = {}\n",
        "\n",
        "for item in (d1, d2):\n",
        "    # Write your code here.\n",
        "    d3.update(item)\n",
        "print(d3)"
      ],
      "metadata": {
        "colab": {
          "base_uri": "https://localhost:8080/"
        },
        "id": "e55VIyU3ksoN",
        "outputId": "10385c9d-815d-464c-ebf0-57f3885adfb9"
      },
      "execution_count": 55,
      "outputs": [
        {
          "output_type": "stream",
          "name": "stdout",
          "text": [
            "{'Adam Smith': 'A', 'Judy Paxton': 'B+', 'Mary Louis': 'A', 'Patrick White': 'C'}\n"
          ]
        }
      ]
    },
    {
      "cell_type": "code",
      "source": [
        "# Question 5: Write a program that will convert the my_list list to a tuple.\n",
        "\n",
        "my_list = [\"car\", \"Ford\", \"flower\", \"Tulip\"]\n",
        "\n",
        "# t = # Write your code here.\n",
        "t = tuple(my_list)\n",
        "\n",
        "print(t)\n",
        "\n"
      ],
      "metadata": {
        "colab": {
          "base_uri": "https://localhost:8080/"
        },
        "id": "ECgZ8paelZPN",
        "outputId": "91464683-5289-4ac0-dc3a-bde8fe901d39"
      },
      "execution_count": 56,
      "outputs": [
        {
          "output_type": "stream",
          "name": "stdout",
          "text": [
            "('car', 'Ford', 'flower', 'Tulip')\n"
          ]
        }
      ]
    },
    {
      "cell_type": "code",
      "source": [
        "# Question 6: Write a program that will convert the colors tuple to a dictionary.\n",
        "colors = ((\"green\", \"#008000\"), (\"blue\", \"#0000FF\"))\n",
        "\n",
        "# Write your code here.\n",
        "colors_dictionary = dict(colors)\n",
        "\n",
        "print(colors_dictionary)\n",
        "\n"
      ],
      "metadata": {
        "colab": {
          "base_uri": "https://localhost:8080/"
        },
        "id": "TgqjJjbLljyj",
        "outputId": "481f4507-ed23-406e-ab30-549d89a20599"
      },
      "execution_count": 57,
      "outputs": [
        {
          "output_type": "stream",
          "name": "stdout",
          "text": [
            "{'green': '#008000', 'blue': '#0000FF'}\n"
          ]
        }
      ]
    },
    {
      "cell_type": "code",
      "source": [
        "#\n",
        "\n",
        "my_dictionary = {\"A\": 1, \"B\": 2}\n",
        "copy_my_dictionary = my_dictionary.copy()\n",
        "my_dictionary.clear()\n",
        "\n",
        "print(copy_my_dictionary)\n"
      ],
      "metadata": {
        "colab": {
          "base_uri": "https://localhost:8080/"
        },
        "id": "eitzl9iSlv0T",
        "outputId": "4d27c122-6511-4a65-a7af-8c7d77ad74a7"
      },
      "execution_count": 58,
      "outputs": [
        {
          "output_type": "stream",
          "name": "stdout",
          "text": [
            "{'A': 1, 'B': 2}\n"
          ]
        }
      ]
    },
    {
      "cell_type": "code",
      "source": [
        "# Question 8: What is the output of the following program?\n",
        "\n",
        "colors = {\n",
        "    \"white\": (255, 255, 255),\n",
        "    \"grey\": (128, 128, 128),\n",
        "    \"red\": (255, 0, 0),\n",
        "    \"green\": (0, 128, 0)\n",
        "    }\n",
        "\n",
        "for col, rgb in colors.items():\n",
        "    print(col, \":\", rgb)\n",
        "\n",
        ""
      ],
      "metadata": {
        "colab": {
          "base_uri": "https://localhost:8080/"
        },
        "id": "vFlMlxvZl49Y",
        "outputId": "b6d96630-fdb3-4cb2-81e5-2fc35b5fc71d"
      },
      "execution_count": 59,
      "outputs": [
        {
          "output_type": "stream",
          "name": "stdout",
          "text": [
            "white : (255, 255, 255)\n",
            "grey : (128, 128, 128)\n",
            "red : (255, 0, 0)\n",
            "green : (0, 128, 0)\n"
          ]
        }
      ]
    },
    {
      "cell_type": "markdown",
      "source": [
        "# 4.7 Section 7 – Exceptions\n",
        "\n",
        "## 4.7.3 The try-except branch\n"
      ],
      "metadata": {
        "id": "Mz6P1m2cmFft"
      }
    },
    {
      "cell_type": "code",
      "source": [
        "# Actually, the rule reads: \"it's better to handle an error when it happens than to try to avoid it\".\n",
        "#\n",
        "\"Okay,\" you may say now, 'but how should I beg for forgiveness when the program is terminated and there is nothing\n",
        "# left that can be done?\" This is where the exception comes on the scene.\n",
        "'''\n",
        "try:\n",
        "\t# It's a place where\n",
        "\t# you can do something\n",
        "    # without asking for permission.\n",
        "except:\n",
        "\t# It's a spot dedicated to\n",
        "    # solemnly begging for forgiveness.\n",
        "'''\n",
        "\n",
        "\n"
      ],
      "metadata": {
        "id": "Q5P_NOarxp5x"
      },
      "execution_count": null,
      "outputs": []
    },
    {
      "cell_type": "code",
      "source": [
        "#Prog 1 :\n",
        "\n",
        "value = int(input('Enter a natural number: '))\n",
        "print('The reciprocal of', value, 'is', 1/value)\n",
        "\n"
      ],
      "metadata": {
        "colab": {
          "base_uri": "https://localhost:8080/"
        },
        "id": "W-Uy03271KME",
        "outputId": "3cdc095a-c438-4418-a883-5743f2d0f574"
      },
      "execution_count": 61,
      "outputs": [
        {
          "output_type": "stream",
          "name": "stdout",
          "text": [
            "Enter a natural number: 5\n",
            "The reciprocal of 5 is 0.2\n"
          ]
        }
      ]
    },
    {
      "cell_type": "code",
      "source": [
        "# Using Try and Except Block:\n",
        "try:\n",
        "  value = int(input(\"Enter a natural Number: \"))\n",
        "  print(\"The reciprocal of \", value , \"is\", 1/value)\n",
        "\n",
        "except:\n",
        "  print(\"I do not know what to do.\")\n",
        "\n"
      ],
      "metadata": {
        "colab": {
          "base_uri": "https://localhost:8080/"
        },
        "id": "QzVLbZFt1TkM",
        "outputId": "4ba73539-d5ed-46fa-eb3e-a0f76ef32c1e"
      },
      "execution_count": 63,
      "outputs": [
        {
          "output_type": "stream",
          "name": "stdout",
          "text": [
            "Enter a natural Number: a\n",
            "I do not know what to do.\n"
          ]
        }
      ]
    },
    {
      "cell_type": "code",
      "source": [
        "# Two exceptions after one try\n",
        "\n",
        "# Look at the code in the editor. As you can see, we've just introduced the second except branch. This is not the only difference –\n",
        "# note that both branches have exception names specified. In this variant, each of the expected exceptions has its own way of handling the error,\n",
        "# but it must be emphasized that only one of all branches can intercept the control – if one of the branches is executed, all the other branches remain idle.\n",
        "\n",
        "try:\n",
        "  value = int(input(\"Enter a natural number: \"))\n",
        "  print('The reciprocal of ', value, \"is\", 1/value)\n",
        "except ValueError:\n",
        "  print(\"I do not know what to do.\")\n",
        "except ZeroDivisionError:\n",
        "  print(\"Division by zero is not allowed in our Universe.\")"
      ],
      "metadata": {
        "colab": {
          "base_uri": "https://localhost:8080/"
        },
        "id": "IjnK5ycC2DEb",
        "outputId": "daf3ae05-93cd-4d96-d382-72ce5e2e8a54"
      },
      "execution_count": 67,
      "outputs": [
        {
          "output_type": "stream",
          "name": "stdout",
          "text": [
            "Enter a natural number: a\n",
            "I do not know what to do.\n"
          ]
        }
      ]
    },
    {
      "cell_type": "code",
      "source": [
        "# 4.7.6 The default exception and how to use it\n",
        "try:\n",
        "  value = int(input(\"Enter a natural number: \"))\n",
        "  print(\"The reciprocal of \", value ,\"is\", 1/value)\n",
        "\n",
        "except ValueError:\n",
        "    print('I do not know what to do.')\n",
        "except ZeroDivisionError:\n",
        "    print('Division by zero is not allowed in our Universe.')\n",
        "except:\n",
        "    print('Something strange has happened here... Sorry!')"
      ],
      "metadata": {
        "colab": {
          "base_uri": "https://localhost:8080/"
        },
        "id": "tcRQZRuN3ihV",
        "outputId": "139f23e4-ab83-4a86-decb-689364d2c8ce"
      },
      "execution_count": 68,
      "outputs": [
        {
          "output_type": "stream",
          "name": "stdout",
          "text": [
            "Enter a natural number: 2\n",
            "The reciprocal of  2 is 0.5\n"
          ]
        }
      ]
    },
    {
      "cell_type": "markdown",
      "source": [
        "# 4.7.7 Some useful exceptions\n",
        "## ZeroDivisionError:\n",
        "This appears when you try to force Python to perform any operation which provokes division in which the divider is zero, or is indistinguishable from zero.\n",
        "Note that there is more than one Python operator which may cause this exception to raise. Can you guess them all?\n",
        "\n",
        "Yes, they are: /, //, and %.\n",
        "\n",
        "## ValueError\n",
        "Expect this exception when you're dealing with values which may be inappropriately used in some context.\n",
        "In general, this exception is raised when a function (like int() or float()) receives an argument of a proper type, but its value is unacceptable.\n",
        "\n",
        "## TypeError\n",
        "This exception shows up when you try to apply a data whose type cannot be accepted in the current context. Look at the example:\n",
        "\n",
        "short_list = [1]\n",
        "one_value = short_list[0.5]\n",
        "You're not allowed to use a float value as a list index (the same rule applies to tuples, too).\n",
        "TypeError is an adequate name to describe the problem, and an adequate exception to raise.\n",
        "\n",
        "## AttributeError\n",
        "This exception arrives – among other occasions – when you try to activate a method which doesn't exist in an item you're dealing with.\n",
        "For example:\n",
        "short_list = [1]\n",
        "short_list.append(2)\n",
        "short_list.depend(3)\n",
        "The third line of our example attempts to make use of a method which isn’t contained in the lists.\n",
        "This is the place where AttributeError is raised.\n",
        "\n",
        "## SyntaxError\n",
        "This exception is raised when the control reaches a line of code which violates Python's grammar.\n",
        "It may sound strange, but some errors of this kind cannot be identified without first running the code.\n",
        "This kind of behavior is typical of interpreted languages – the interpreter always works in a hurry and has no time to scan the whole source code.\n",
        "It is content with checking the code which is currently being run. An example of such a category of issues will be presented very soon.\n",
        "\n",
        "It's a bad idea to handle this exception in your programs. You should produce code that is free of syntax errors, instead of masking the faults you’ve caused."
      ],
      "metadata": {
        "id": "BTaQttCb-4gC"
      }
    },
    {
      "cell_type": "code",
      "source": [
        "# 4.7.8 Why you can’t avoid testing your code\n",
        "\n"
      ],
      "metadata": {
        "id": "spTE2e4WAsAZ"
      },
      "execution_count": null,
      "outputs": []
    }
  ]
}