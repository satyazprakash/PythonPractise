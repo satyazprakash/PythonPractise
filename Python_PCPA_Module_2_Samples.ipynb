{
  "nbformat": 4,
  "nbformat_minor": 0,
  "metadata": {
    "colab": {
      "provenance": [],
      "authorship_tag": "ABX9TyOqKMDRqSDnyeqtVItUMblO",
      "include_colab_link": true
    },
    "kernelspec": {
      "name": "python3",
      "display_name": "Python 3"
    },
    "language_info": {
      "name": "python"
    }
  },
  "cells": [
    {
      "cell_type": "markdown",
      "metadata": {
        "id": "view-in-github",
        "colab_type": "text"
      },
      "source": [
        "<a href=\"https://colab.research.google.com/github/satyazprakash/PythonPractise/blob/main/Python_PCPA_Module_2_Samples.ipynb\" target=\"_parent\"><img src=\"https://colab.research.google.com/assets/colab-badge.svg\" alt=\"Open In Colab\"/></a>"
      ]
    },
    {
      "cell_type": "code",
      "execution_count": 1,
      "metadata": {
        "colab": {
          "base_uri": "https://localhost:8080/"
        },
        "id": "Hy99AouCpKPu",
        "outputId": "e8db37d6-ce70-4e43-d671-cd6ed8f2adfe"
      },
      "outputs": [
        {
          "output_type": "stream",
          "name": "stdout",
          "text": [
            "2\n",
            "0\n",
            "3\n"
          ]
        }
      ],
      "source": [
        "# 2.1 Section 1 – Characters and Strings vs. Computers\n",
        "\n",
        "# Example 1\n",
        "\n",
        "word = 'by'\n",
        "print(len(word))\n",
        "\n",
        "\n",
        "# Example 2\n",
        "\n",
        "empty = ''\n",
        "print(len(empty))\n",
        "\n",
        "\n",
        "# Example 3\n",
        "\n",
        "i_am = 'I\\'m'\n",
        "print(len(i_am))\n"
      ]
    },
    {
      "cell_type": "code",
      "source": [
        "# 2.2.2 Multiline strings\n",
        "\n",
        "multiline = '''Line #1 contens\n",
        "Line #2 contents'''\n",
        "\n",
        "print(len(multiline))\n",
        "print(multiline)"
      ],
      "metadata": {
        "colab": {
          "base_uri": "https://localhost:8080/"
        },
        "id": "t7idzxJaCRkv",
        "outputId": "7d524898-f41d-4813-c281-318a4ab1543f"
      },
      "execution_count": 4,
      "outputs": [
        {
          "output_type": "stream",
          "name": "stdout",
          "text": [
            "32\n",
            "Line #1 contens\n",
            "Line #2 contents\n"
          ]
        }
      ]
    },
    {
      "cell_type": "code",
      "source": [
        "str1 = 'a'\n",
        "str2='b'\n",
        "\n",
        "print(str1 + str2)\n",
        "print(str2 + str1)\n",
        "print(5 * 'a')\n",
        "print('b' * 4)\n"
      ],
      "metadata": {
        "colab": {
          "base_uri": "https://localhost:8080/"
        },
        "id": "sCAEUIG6Cpb7",
        "outputId": "f593a921-230d-4e73-85bf-c6e23f7a4cdd"
      },
      "execution_count": 5,
      "outputs": [
        {
          "output_type": "stream",
          "name": "stdout",
          "text": [
            "ab\n",
            "ba\n",
            "aaaaa\n",
            "bbbb\n"
          ]
        }
      ]
    },
    {
      "cell_type": "code",
      "source": [
        "# Demonstrating the ord() function.\n",
        "char_1 = 'α'\n",
        "char_2 = 'ę' # space\n",
        "\n",
        "print(ord(char_1))\n",
        "print(ord(char_2))\n",
        "\n"
      ],
      "metadata": {
        "colab": {
          "base_uri": "https://localhost:8080/"
        },
        "id": "t4kLTK03Lw9P",
        "outputId": "f106e556-39a1-4d2c-c0fa-8ab3303553b3"
      },
      "execution_count": 8,
      "outputs": [
        {
          "output_type": "stream",
          "name": "stdout",
          "text": [
            "945\n",
            "281\n"
          ]
        }
      ]
    },
    {
      "cell_type": "code",
      "source": [
        "# chr()\n",
        "# If you know the code point (number) and want to get the corresponding character, you can use a function named chr().\n",
        "# The function takes a code point and returns its character.\n",
        "# Invoking it with an invalid argument (e.g., a negative or invalid code point) causes ValueError or TypeError exceptions.\n",
        "# Demonstrating the chr() function.\n",
        "\n",
        "print(chr(97),chr(98),chr(99),chr(100),chr(102),chr(103),chr(104),)\n",
        "print(chr(945), chr(946), chr(947),chr(948), chr(949), chr(950))\n",
        "\n"
      ],
      "metadata": {
        "colab": {
          "base_uri": "https://localhost:8080/"
        },
        "id": "yshOuKHBMKxy",
        "outputId": "99850979-56f7-4091-dea1-c0854f4e7a9a"
      },
      "execution_count": 10,
      "outputs": [
        {
          "output_type": "stream",
          "name": "stdout",
          "text": [
            "a b c d f g h\n",
            "α β γ δ ε ζ\n"
          ]
        }
      ]
    },
    {
      "cell_type": "code",
      "source": [
        "\n",
        "print(chr(ord(x)) == x\n",
        "ord(chr(x)) == x"
      ],
      "metadata": {
        "id": "2eVhKT_cM_Oz"
      },
      "execution_count": null,
      "outputs": []
    },
    {
      "cell_type": "markdown",
      "source": [
        "# 2.2.4 Strings as sequences\n",
        "Indexing\n",
        "We told you before that Python strings are sequences. It's time to show you what that actually means.\n",
        "\n",
        "Strings aren't lists, but you can treat them like lists in many particular cases."
      ],
      "metadata": {
        "id": "Zs4f7RUlTkio"
      }
    },
    {
      "cell_type": "code",
      "source": [
        "# Indexing strings.\n",
        "the_string = 'silly walks'\n",
        "\n",
        "for idx in range ( len(the_string)):\n",
        "  print(the_string[idx], end = ' ')\n",
        "\n",
        "#print()"
      ],
      "metadata": {
        "colab": {
          "base_uri": "https://localhost:8080/"
        },
        "id": "lk2lG-TzTrvL",
        "outputId": "729f7aec-567f-4e26-9769-672ca3631aa3"
      },
      "execution_count": 3,
      "outputs": [
        {
          "output_type": "stream",
          "name": "stdout",
          "text": [
            "s i l l y   w a l k s "
          ]
        }
      ]
    },
    {
      "cell_type": "code",
      "source": [
        "# Iterating, Iterating through the strings works, too. Look at the example below:\n",
        "\n",
        "the_string = 'silly walks'\n",
        "\n",
        "for character in the_string:\n",
        "  print(character, end = ' ')"
      ],
      "metadata": {
        "colab": {
          "base_uri": "https://localhost:8080/"
        },
        "id": "GpuGFAtCURDG",
        "outputId": "97bce3af-aca2-4634-a020-6f913e72fcd7"
      },
      "execution_count": 4,
      "outputs": [
        {
          "output_type": "stream",
          "name": "stdout",
          "text": [
            "s i l l y   w a l k s "
          ]
        }
      ]
    },
    {
      "cell_type": "code",
      "source": [
        "# 2.2.5 Slices\n",
        "# Moreover, everything you know about slices is still usable.\n",
        "# We've gathered some examples showing how slices work in the string world.\n",
        "\n",
        "# Slices\n",
        "\n",
        "alpha = \"abdefg\"\n",
        "print(alpha[1:3])\n",
        "print(alpha[:3])\n",
        "print(alpha[3:-2])\n",
        "print(alpha[-3:4])\n",
        "print(alpha[::2])\n",
        "print(alpha[1::2])"
      ],
      "metadata": {
        "colab": {
          "base_uri": "https://localhost:8080/"
        },
        "id": "8ucoCUKAUybG",
        "outputId": "7f9ba420-4252-429a-fd06-d285616020db"
      },
      "execution_count": 11,
      "outputs": [
        {
          "output_type": "stream",
          "name": "stdout",
          "text": [
            "bd\n",
            "abd\n",
            "e\n",
            "e\n",
            "adf\n",
            "beg\n"
          ]
        }
      ]
    },
    {
      "cell_type": "code",
      "source": [
        "# 2.2.6 The in and not in operators\n",
        "# The in operator shouldn't surprise you when applied to strings –\n",
        "# it simply checks if its left argument (a string) can be found anywhere within the right argument (another string).\n",
        "\n",
        "alphabet = \"abcdefghijklmnopqrstuvwxyz\"\n",
        "\n",
        "print(\"f\" in alphabet)\n",
        "print(\"F\" in alphabet)\n",
        "print(\"1\" in alphabet)\n",
        "print(\"ghi\" in alphabet)\n",
        "print(\"Xyz\" in alphabet)\n"
      ],
      "metadata": {
        "colab": {
          "base_uri": "https://localhost:8080/"
        },
        "id": "-ay4Cj4NWMAX",
        "outputId": "35e6f93a-3e4e-4a52-f559-e40d757b9dd8"
      },
      "execution_count": 12,
      "outputs": [
        {
          "output_type": "stream",
          "name": "stdout",
          "text": [
            "True\n",
            "False\n",
            "False\n",
            "True\n",
            "False\n"
          ]
        }
      ]
    },
    {
      "cell_type": "code",
      "source": [
        "# The not in operator\n",
        "# As you probably suspect, the not in operator is also applicable here.\n",
        "\n",
        "alphabet = \"abcdefghijklmnopqrstuvwxyz\"\n",
        "\n",
        "print(\"f\" not in alphabet)\n",
        "print(\"F\" not in alphabet)\n",
        "print(\"1\" not in alphabet)\n",
        "print(\"ghi\" not in alphabet)\n",
        "print(\"Xyz\" not in alphabet)"
      ],
      "metadata": {
        "colab": {
          "base_uri": "https://localhost:8080/"
        },
        "id": "5UFso8-cXnQQ",
        "outputId": "2bda7f83-a886-4bdf-98b1-a220869e4cff"
      },
      "execution_count": 13,
      "outputs": [
        {
          "output_type": "stream",
          "name": "stdout",
          "text": [
            "False\n",
            "True\n",
            "True\n",
            "False\n",
            "True\n"
          ]
        }
      ]
    },
    {
      "cell_type": "markdown",
      "source": [
        "# 2.2.7 Python strings are immutable\n",
        "We've also told you that Python's strings are immutable. This is a very important feature. What does it mean?\n",
        "\n",
        "This primarily means that the similarity of strings and lists is limited. Not everything you can do with a list may be done with a string.\n",
        "\n",
        "The first important difference doesn't allow you to use the del instruction to remove anything from a string."
      ],
      "metadata": {
        "id": "0GDlVwXXYFSQ"
      }
    },
    {
      "cell_type": "code",
      "source": [
        "# The example here won't work:\n",
        "\n",
        "alphabet = \"abcdefghijklmnopqrstuvwxyz\"\n",
        "del alphabet[0]"
      ],
      "metadata": {
        "colab": {
          "base_uri": "https://localhost:8080/",
          "height": 182
        },
        "id": "DRYCVTlFYVrb",
        "outputId": "ac7a68a2-7ee7-4ea1-c808-8ccb3213860e"
      },
      "execution_count": 14,
      "outputs": [
        {
          "output_type": "error",
          "ename": "TypeError",
          "evalue": "'str' object doesn't support item deletion",
          "traceback": [
            "\u001b[0;31m---------------------------------------------------------------------------\u001b[0m",
            "\u001b[0;31mTypeError\u001b[0m                                 Traceback (most recent call last)",
            "\u001b[0;32m/tmp/ipython-input-186196260.py\u001b[0m in \u001b[0;36m<cell line: 0>\u001b[0;34m()\u001b[0m\n\u001b[1;32m      2\u001b[0m \u001b[0;34m\u001b[0m\u001b[0m\n\u001b[1;32m      3\u001b[0m \u001b[0malphabet\u001b[0m \u001b[0;34m=\u001b[0m \u001b[0;34m\"abcdefghijklmnopqrstuvwxyz\"\u001b[0m\u001b[0;34m\u001b[0m\u001b[0;34m\u001b[0m\u001b[0m\n\u001b[0;32m----> 4\u001b[0;31m \u001b[0;32mdel\u001b[0m \u001b[0malphabet\u001b[0m\u001b[0;34m[\u001b[0m\u001b[0;36m0\u001b[0m\u001b[0;34m]\u001b[0m\u001b[0;34m\u001b[0m\u001b[0;34m\u001b[0m\u001b[0m\n\u001b[0m",
            "\u001b[0;31mTypeError\u001b[0m: 'str' object doesn't support item deletion"
          ]
        }
      ]
    },
    {
      "cell_type": "code",
      "source": [
        "# # The example here will work:\n",
        "\n",
        "alphabet = \"abcdefghijklmnopqrstuvwxyz\"\n",
        "del alphabet\n",
        "print(alphabet)"
      ],
      "metadata": {
        "colab": {
          "base_uri": "https://localhost:8080/",
          "height": 182
        },
        "id": "mZS0wI0JY8PL",
        "outputId": "8395ea36-41be-4b8c-f4e0-4d248fe16e70"
      },
      "execution_count": 16,
      "outputs": [
        {
          "output_type": "error",
          "ename": "NameError",
          "evalue": "name 'alphabet' is not defined",
          "traceback": [
            "\u001b[0;31m---------------------------------------------------------------------------\u001b[0m",
            "\u001b[0;31mNameError\u001b[0m                                 Traceback (most recent call last)",
            "\u001b[0;32m/tmp/ipython-input-1448948450.py\u001b[0m in \u001b[0;36m<cell line: 0>\u001b[0;34m()\u001b[0m\n\u001b[1;32m      3\u001b[0m \u001b[0malphabet\u001b[0m \u001b[0;34m=\u001b[0m \u001b[0;34m\"abcdefghijklmnopqrstuvwxyz\"\u001b[0m\u001b[0;34m\u001b[0m\u001b[0;34m\u001b[0m\u001b[0m\n\u001b[1;32m      4\u001b[0m \u001b[0;32mdel\u001b[0m \u001b[0malphabet\u001b[0m\u001b[0;34m\u001b[0m\u001b[0;34m\u001b[0m\u001b[0m\n\u001b[0;32m----> 5\u001b[0;31m \u001b[0mprint\u001b[0m\u001b[0;34m(\u001b[0m\u001b[0malphabet\u001b[0m\u001b[0;34m)\u001b[0m\u001b[0;34m\u001b[0m\u001b[0;34m\u001b[0m\u001b[0m\n\u001b[0m",
            "\u001b[0;31mNameError\u001b[0m: name 'alphabet' is not defined"
          ]
        }
      ]
    },
    {
      "cell_type": "code",
      "source": [
        "# The example below is erroneous:\n",
        "\n",
        "alphabet = \"abcdefghijklmnopqrstuvwxyz\"\n",
        "alphabet.append(\"A\")"
      ],
      "metadata": {
        "colab": {
          "base_uri": "https://localhost:8080/",
          "height": 182
        },
        "id": "pIrxYQqeZLGB",
        "outputId": "e947e18f-fab9-4af4-c427-299b0c7640f8"
      },
      "execution_count": 17,
      "outputs": [
        {
          "output_type": "error",
          "ename": "AttributeError",
          "evalue": "'str' object has no attribute 'append'",
          "traceback": [
            "\u001b[0;31m---------------------------------------------------------------------------\u001b[0m",
            "\u001b[0;31mAttributeError\u001b[0m                            Traceback (most recent call last)",
            "\u001b[0;32m/tmp/ipython-input-3478063735.py\u001b[0m in \u001b[0;36m<cell line: 0>\u001b[0;34m()\u001b[0m\n\u001b[1;32m      2\u001b[0m \u001b[0;34m\u001b[0m\u001b[0m\n\u001b[1;32m      3\u001b[0m \u001b[0malphabet\u001b[0m \u001b[0;34m=\u001b[0m \u001b[0;34m\"abcdefghijklmnopqrstuvwxyz\"\u001b[0m\u001b[0;34m\u001b[0m\u001b[0;34m\u001b[0m\u001b[0m\n\u001b[0;32m----> 4\u001b[0;31m \u001b[0malphabet\u001b[0m\u001b[0;34m.\u001b[0m\u001b[0mappend\u001b[0m\u001b[0;34m(\u001b[0m\u001b[0;34m\"A\"\u001b[0m\u001b[0;34m)\u001b[0m\u001b[0;34m\u001b[0m\u001b[0;34m\u001b[0m\u001b[0m\n\u001b[0m",
            "\u001b[0;31mAttributeError\u001b[0m: 'str' object has no attribute 'append'"
          ]
        }
      ]
    },
    {
      "cell_type": "code",
      "source": [
        "# with the absence of the append() method, the insert() method is illegal, too:\n",
        "\n",
        "alphabet = \"abcdefghijklmnopqrstuvwxyz\"\n",
        "\n",
        "alphabet.insert(0,\"A\")"
      ],
      "metadata": {
        "colab": {
          "base_uri": "https://localhost:8080/",
          "height": 182
        },
        "id": "aCHw-8c0Zbq7",
        "outputId": "d434ea29-12ee-4527-a776-624ba63cc313"
      },
      "execution_count": 18,
      "outputs": [
        {
          "output_type": "error",
          "ename": "AttributeError",
          "evalue": "'str' object has no attribute 'insert'",
          "traceback": [
            "\u001b[0;31m---------------------------------------------------------------------------\u001b[0m",
            "\u001b[0;31mAttributeError\u001b[0m                            Traceback (most recent call last)",
            "\u001b[0;32m/tmp/ipython-input-948834269.py\u001b[0m in \u001b[0;36m<cell line: 0>\u001b[0;34m()\u001b[0m\n\u001b[1;32m      3\u001b[0m \u001b[0malphabet\u001b[0m \u001b[0;34m=\u001b[0m \u001b[0;34m\"abcdefghijklmnopqrstuvwxyz\"\u001b[0m\u001b[0;34m\u001b[0m\u001b[0;34m\u001b[0m\u001b[0m\n\u001b[1;32m      4\u001b[0m \u001b[0;34m\u001b[0m\u001b[0m\n\u001b[0;32m----> 5\u001b[0;31m \u001b[0malphabet\u001b[0m\u001b[0;34m.\u001b[0m\u001b[0minsert\u001b[0m\u001b[0;34m(\u001b[0m\u001b[0;36m0\u001b[0m\u001b[0;34m,\u001b[0m\u001b[0;34m\"A\"\u001b[0m\u001b[0;34m)\u001b[0m\u001b[0;34m\u001b[0m\u001b[0;34m\u001b[0m\u001b[0m\n\u001b[0m",
            "\u001b[0;31mAttributeError\u001b[0m: 'str' object has no attribute 'insert'"
          ]
        }
      ]
    },
    {
      "cell_type": "code",
      "source": [
        "# Don't think that a string's immutability limits your ability to operate with strings.\n",
        "# The only consequence is that you have to remember about it, and implement your code in a slightly different way – look at the example code in the editor.\n",
        "\n",
        "alphabet = \"bcdefghijklmnopqrstuvwxy\"\n",
        "\n",
        "alphabet = \"a\" + alphabet\n",
        "alphabet = alphabet + \"z\"\n",
        "\n",
        "print(alphabet)\n",
        "\n",
        "# This form of code is fully acceptable, will work without bending Python's rules, and will bring the full Latin alphabet to your screen:\n",
        "# You may want to ask if creating a new copy of a string each time you modify its contents worsens the effectiveness of the code.\n",
        "\n",
        "# Yes, it does. A bit. It's not a problem at all, though.\n"
      ],
      "metadata": {
        "colab": {
          "base_uri": "https://localhost:8080/"
        },
        "id": "2X2T4v3KZjz8",
        "outputId": "04d15a47-0266-49e5-e3ff-1791041e1287"
      },
      "execution_count": 20,
      "outputs": [
        {
          "output_type": "stream",
          "name": "stdout",
          "text": [
            "abcdefghijklmnopqrstuvwxyz\n"
          ]
        }
      ]
    },
    {
      "cell_type": "markdown",
      "source": [
        "# 2.2.8 Operations on strings: continued\n",
        "\n",
        "min()\n",
        "Now that you understand that strings are sequences, we can show you some less obvious sequence capabilities. We'll present them using strings, but don't forget that lists can adopt the same tricks, too.\n",
        "\n",
        "Let's start with a function named min().\n",
        "\n",
        "The function finds the minimum element of the sequence passed as an argument. There is one condition – the sequence (string, list, it doesn't matter) cannot be empty, or else you'll get a ValueError exception.\n"
      ],
      "metadata": {
        "id": "uhrOUvAFaJyL"
      }
    },
    {
      "cell_type": "code",
      "source": [
        "# Demonstrating min() - Example 1:\n",
        "print(min(\"aAbByYzZ\"))\n",
        "\n",
        "# Demonstrating min() - Examples 2 & 3:\n",
        "#t = 'The Knights Who Say \"Ni!\"'\n",
        "t = 'TheKnightsWhoSay\"Ni!\"'\n",
        "print('[' + min(t) + ']')\n",
        "\n",
        "t =[0,1,2]\n",
        "\n",
        "print(min(t))"
      ],
      "metadata": {
        "colab": {
          "base_uri": "https://localhost:8080/"
        },
        "id": "oSZFToe0bCgp",
        "outputId": "bcb4c7a0-1b1f-4951-a23d-34fb946f8213"
      },
      "execution_count": 22,
      "outputs": [
        {
          "output_type": "stream",
          "name": "stdout",
          "text": [
            "A\n",
            "[!]\n",
            "0\n"
          ]
        }
      ]
    },
    {
      "cell_type": "code",
      "source": [
        "# max()\n",
        "# Similarly, a function named max() finds the maximum element of the sequence.\n",
        "# Demonstrating max() - Example 1:\n",
        "\n",
        "print(max(\"aAbByYzZ\"))\n",
        "\n",
        "# Demonstrating max() - Examples 2 & 3:\n",
        "t = 'The Knights Who Say \"Ni!\"'\n",
        "print('[' + max(t) + ']')\n",
        "\n",
        "t = [0, 1, 2]\n",
        "print(max(t))"
      ],
      "metadata": {
        "colab": {
          "base_uri": "https://localhost:8080/"
        },
        "id": "AiRtve9Ufyh2",
        "outputId": "1f7319e3-c9a5-47cb-a131-32f0fe72fce4"
      },
      "execution_count": 23,
      "outputs": [
        {
          "output_type": "stream",
          "name": "stdout",
          "text": [
            "z\n",
            "[y]\n",
            "2\n"
          ]
        }
      ]
    },
    {
      "cell_type": "markdown",
      "source": [
        "# The index() method\n",
        "The index() method (it's a method, not a function) searches the sequence from the beginning, in order to find the first element of the value specified in its argument.\n",
        "\n",
        "The method returns the index of the first occurrence of the argument (which means that the lowest possible result is 0, while the highest is the length of the argument decremented by 1)."
      ],
      "metadata": {
        "id": "EGQShhtPhEWK"
      }
    },
    {
      "cell_type": "code",
      "source": [
        "## Demonstrating the index() method:\n",
        "print(\"aAbByYzZaA\".index(\"A\"))\n",
        "print(\"aAbByYzZaA\".index(\"Y\"))\n",
        "print(\"aAbByYzZaA\".index(\"A\"))\n",
        "\n",
        "string=\"Satya Prakash\"\n",
        "print(string.index('a'))\n",
        "print(string.index(\"P\"))\n",
        "print(string.index(\"h\"))"
      ],
      "metadata": {
        "colab": {
          "base_uri": "https://localhost:8080/"
        },
        "id": "Guwrf4F2hzDr",
        "outputId": "ea8bd3b8-28d4-4739-e66b-aaf9fd741a2f"
      },
      "execution_count": 26,
      "outputs": [
        {
          "output_type": "stream",
          "name": "stdout",
          "text": [
            "1\n",
            "5\n",
            "1\n",
            "1\n",
            "6\n",
            "12\n"
          ]
        }
      ]
    },
    {
      "cell_type": "markdown",
      "source": [
        "# The list() function\n",
        "The list() function takes its argument (a string) and creates a new list containing all the string's characters, one per list element.\n",
        "\n",
        "Note: it's not strictly a string function - list() is able to create a new list from many other entities (e.g., from tuples and dictionaries).\n",
        "\n",
        "Take a look at the code example in the editor.\n"
      ],
      "metadata": {
        "id": "saymRYJBjV4V"
      }
    },
    {
      "cell_type": "code",
      "source": [
        "# Demonstrating the list() function:\n",
        "string=\"satya prakash\"\n",
        "print(list(string))\n",
        "print(list(\"abcabc\"))\n"
      ],
      "metadata": {
        "colab": {
          "base_uri": "https://localhost:8080/"
        },
        "id": "tLNDCnV9jcfk",
        "outputId": "51e104a8-103c-4f13-e238-17db593f7051"
      },
      "execution_count": 28,
      "outputs": [
        {
          "output_type": "stream",
          "name": "stdout",
          "text": [
            "['s', 'a', 't', 'y', 'a', ' ', 'p', 'r', 'a', 'k', 'a', 's', 'h']\n",
            "['a', 'b', 'c', 'a', 'b', 'c']\n"
          ]
        }
      ]
    },
    {
      "cell_type": "markdown",
      "source": [
        "#The count() method\n",
        "The count() method counts all occurrences of the element inside the sequence. The absence of such elements doesn't cause any problems."
      ],
      "metadata": {
        "id": "XKxvuPA2kxx2"
      }
    },
    {
      "cell_type": "code",
      "source": [
        "# Demonstrating the count() method:\n",
        "string = \"satya prakash\"\n",
        "\n",
        "print(string.count('a'))\n",
        "print(\"abcabc\".count('b'))"
      ],
      "metadata": {
        "colab": {
          "base_uri": "https://localhost:8080/"
        },
        "id": "3Yf-up7Fk6sc",
        "outputId": "05e34689-f6c5-4c07-aefc-f8c1e6436588"
      },
      "execution_count": 29,
      "outputs": [
        {
          "output_type": "stream",
          "name": "stdout",
          "text": [
            "4\n",
            "2\n"
          ]
        }
      ]
    },
    {
      "cell_type": "code",
      "source": [
        "print(len(\"\\n\\n\"))\n"
      ],
      "metadata": {
        "colab": {
          "base_uri": "https://localhost:8080/"
        },
        "id": "lDQ3PX7qm067",
        "outputId": "d46557c0-0736-43f4-c5f6-c54012b26445"
      },
      "execution_count": 30,
      "outputs": [
        {
          "output_type": "stream",
          "name": "stdout",
          "text": [
            "2\n"
          ]
        }
      ]
    },
    {
      "cell_type": "code",
      "source": [
        "asterisk = '*'\n",
        "plus = \"+\"\n",
        "decoration = (asterisk + plus) * 14 + asterisk\n",
        "print(decoration)\n"
      ],
      "metadata": {
        "colab": {
          "base_uri": "https://localhost:8080/"
        },
        "id": "mmf8_2PQm9kg",
        "outputId": "f633c383-b2f9-45b5-c3c0-149c9efa4432"
      },
      "execution_count": 32,
      "outputs": [
        {
          "output_type": "stream",
          "name": "stdout",
          "text": [
            "*+*+*+*+*+*+*+*+*+*+*+*+*+*+*\n"
          ]
        }
      ]
    },
    {
      "cell_type": "code",
      "source": [
        "chr(ord(character)) == character\n",
        "ord(chr(codepoint)) == codepoint\n"
      ],
      "metadata": {
        "colab": {
          "base_uri": "https://localhost:8080/",
          "height": 164
        },
        "id": "_DLJ-4svnGQQ",
        "outputId": "f28259d4-1198-47df-9fbf-6ac6dded3dee"
      },
      "execution_count": 33,
      "outputs": [
        {
          "output_type": "error",
          "ename": "NameError",
          "evalue": "name 'codepoint' is not defined",
          "traceback": [
            "\u001b[0;31m---------------------------------------------------------------------------\u001b[0m",
            "\u001b[0;31mNameError\u001b[0m                                 Traceback (most recent call last)",
            "\u001b[0;32m/tmp/ipython-input-2157680764.py\u001b[0m in \u001b[0;36m<cell line: 0>\u001b[0;34m()\u001b[0m\n\u001b[1;32m      1\u001b[0m \u001b[0mchr\u001b[0m\u001b[0;34m(\u001b[0m\u001b[0mord\u001b[0m\u001b[0;34m(\u001b[0m\u001b[0mcharacter\u001b[0m\u001b[0;34m)\u001b[0m\u001b[0;34m)\u001b[0m \u001b[0;34m==\u001b[0m \u001b[0mcharacter\u001b[0m\u001b[0;34m\u001b[0m\u001b[0;34m\u001b[0m\u001b[0m\n\u001b[0;32m----> 2\u001b[0;31m \u001b[0mord\u001b[0m\u001b[0;34m(\u001b[0m\u001b[0mchr\u001b[0m\u001b[0;34m(\u001b[0m\u001b[0mcodepoint\u001b[0m\u001b[0;34m)\u001b[0m\u001b[0;34m)\u001b[0m \u001b[0;34m==\u001b[0m \u001b[0mcodepoint\u001b[0m\u001b[0;34m\u001b[0m\u001b[0;34m\u001b[0m\u001b[0m\n\u001b[0m",
            "\u001b[0;31mNameError\u001b[0m: name 'codepoint' is not defined"
          ]
        }
      ]
    },
    {
      "cell_type": "markdown",
      "source": [
        "#  2.3 Section 3 – String Methods\n",
        "\n"
      ],
      "metadata": {
        "id": "O5NTARelnnWU"
      }
    },
    {
      "cell_type": "markdown",
      "source": [
        "# 2.3.1 The capitalize() method\n",
        "\n",
        "The capitalize() method does exactly what it says – it creates a new string filled with characters taken from the source string, but it tries to modify them in the following way:\n",
        "\n",
        "if the first character inside the string is a letter (note: the first character is an element with an index equal to 0, not just the first visible character), it will be converted to upper-case;\n",
        "all remaining letters from the string will be converted to lower-case.\n",
        "Don't forget that:\n",
        "\n",
        "the original string from which the method is invoked is not changed in any way – a string's immutability must be obeyed without reservation;\n",
        "the modified string (in this case, capitalized) is returned as a result – if you don't use it in any way (assign it to a variable, or pass it to a function/method) it will disappear without a trace."
      ],
      "metadata": {
        "id": "47lNZLFenppR"
      }
    },
    {
      "cell_type": "code",
      "source": [
        "# Demonstrating the capitalize() method:\n",
        "string = \"SATYA PRAKASH\"\n",
        "string1 = \" SATYA PRAKASH\"\n",
        "\n",
        "print(string.capitalize())\n",
        "print(string1.capitalize())\n",
        "print('aBcD'.capitalize())"
      ],
      "metadata": {
        "colab": {
          "base_uri": "https://localhost:8080/"
        },
        "id": "_zYlpPctUS3U",
        "outputId": "b0295770-090a-4c9a-94bc-ffc1cc62ede0"
      },
      "execution_count": 2,
      "outputs": [
        {
          "output_type": "stream",
          "name": "stdout",
          "text": [
            "Satya prakash\n",
            " satya prakash\n",
            "Abcd\n"
          ]
        }
      ]
    },
    {
      "cell_type": "code",
      "source": [
        "print(\"Alpha\".capitalize())\n",
        "print('ALPHA'.capitalize())\n",
        "print(' Alpha'.capitalize())\n",
        "print('123'.capitalize())\n",
        "print(\"αβγδ\".capitalize())\n"
      ],
      "metadata": {
        "colab": {
          "base_uri": "https://localhost:8080/"
        },
        "id": "8OKxOdZJVBnF",
        "outputId": "25ee1ac6-9811-4524-9448-19604e973fde"
      },
      "execution_count": 3,
      "outputs": [
        {
          "output_type": "stream",
          "name": "stdout",
          "text": [
            "Alpha\n",
            "Alpha\n",
            " alpha\n",
            "123\n",
            "Αβγδ\n"
          ]
        }
      ]
    },
    {
      "cell_type": "markdown",
      "source": [
        "# 2.3.2 The center() method\n",
        "The one-parameter variant of the center() method makes a copy of the original string, trying to center it inside a field of a specified width.\n",
        "\n",
        "The centering is actually done by adding some spaces before and after the string."
      ],
      "metadata": {
        "id": "UIC6MAORVR4b"
      }
    },
    {
      "cell_type": "code",
      "source": [
        "# Demonstrating the center() method:\n",
        "\n",
        "print('[' + 'alpha'.center(10) + ']')\n",
        "\n",
        "print('satya'.center(50))\n",
        "print('['+'satya'.center(50)+']')\n"
      ],
      "metadata": {
        "colab": {
          "base_uri": "https://localhost:8080/"
        },
        "id": "zlVFFGxVVc5f",
        "outputId": "678d7aec-e31f-43b3-b070-2916063c65a9"
      },
      "execution_count": 5,
      "outputs": [
        {
          "output_type": "stream",
          "name": "stdout",
          "text": [
            "[  alpha   ]\n",
            "                      satya                       \n",
            "[                      satya                       ]\n"
          ]
        }
      ]
    },
    {
      "cell_type": "code",
      "source": [
        "print('[' + 'Beta'.center(2) + ']')\n",
        "print('[' + 'Beta'.center(4) + ']')\n",
        "print('[' + 'Beta'.center(6) + ']')\n",
        "\n",
        "print('[' + 'gamma'.center(20, '*') + ']')\n",
        "print('gamma'.center(20,'*'))\n"
      ],
      "metadata": {
        "colab": {
          "base_uri": "https://localhost:8080/"
        },
        "id": "00uwZdgVV7WC",
        "outputId": "86916c4e-1934-4dc7-8a2b-f378ab5fc05d"
      },
      "execution_count": 9,
      "outputs": [
        {
          "output_type": "stream",
          "name": "stdout",
          "text": [
            "[Beta]\n",
            "[Beta]\n",
            "[ Beta ]\n",
            "[*******gamma********]\n",
            "*******gamma********\n"
          ]
        }
      ]
    },
    {
      "cell_type": "markdown",
      "source": [
        "# 2.3.3 The endswith() method\n",
        "The endswith() method checks if the given string ends with the specified argument and returns True or False, depending on the check result."
      ],
      "metadata": {
        "id": "bHyVEoIDWsvj"
      }
    },
    {
      "cell_type": "code",
      "source": [
        "# Demonstrating the endswith() method:\n",
        "if \"epsilon\".endswith(\"on\"):\n",
        "    print(\"yes\")\n",
        "else:\n",
        "    print(\"no\")\n",
        "\n",
        "if \"satyaprakash\".endswith(\"ash\"):\n",
        "  print('Yes')\n",
        "else:\n",
        "  print('No')\n",
        "\n",
        "string='input Text'\n",
        "\n",
        "if string.endswith(\"text\"):\n",
        "  print(\"Yes\")\n",
        "else:\n",
        "  print(\"No\")\n"
      ],
      "metadata": {
        "colab": {
          "base_uri": "https://localhost:8080/"
        },
        "id": "_o84ToT7WzNb",
        "outputId": "927789a8-9085-4e23-f173-e5b75978fcad"
      },
      "execution_count": 12,
      "outputs": [
        {
          "output_type": "stream",
          "name": "stdout",
          "text": [
            "yes\n",
            "Yes\n",
            "No\n"
          ]
        }
      ]
    },
    {
      "cell_type": "code",
      "source": [
        "t = \"zeta\"\n",
        "print(t.endswith(\"a\"))\n",
        "print(t.endswith(\"A\"))\n",
        "print(t.endswith(\"et\"))\n",
        "print(t.endswith(\"eta\"))\n"
      ],
      "metadata": {
        "colab": {
          "base_uri": "https://localhost:8080/"
        },
        "id": "9SY-O9pUZk91",
        "outputId": "c95bd813-8fdc-4de0-c40f-b25cf0ccdfa0"
      },
      "execution_count": 13,
      "outputs": [
        {
          "output_type": "stream",
          "name": "stdout",
          "text": [
            "True\n",
            "False\n",
            "False\n",
            "True\n"
          ]
        }
      ]
    },
    {
      "cell_type": "markdown",
      "source": [
        "# 2.3.4 The find() method\n",
        "\n",
        "The find() method is similar to index(), which you already know – it looks for a substring and returns the index of the first occurrence of this substring, but:\n",
        "\n",
        "it's safer – it doesn't generate an error for an argument containing a non-existent substring (it returns -1 then)\n",
        "it works with strings only – don't try to apply it to any other sequence."
      ],
      "metadata": {
        "id": "ao2wSJJ3Zvrf"
      }
    },
    {
      "cell_type": "code",
      "source": [
        "# Demonstrating the find() method:\n",
        "print(\"Eta\".find(\"ta\"))\n",
        "print(\"Eta\".find(\"mma\"))\n",
        "\n",
        "print(\"Satya Prakash\".find('Pra'))\n",
        "print(\"Satya Prakash\".find('pra'))\n",
        "\n",
        "string ='satya Prakash'\n",
        "print(string.find('Pra'))"
      ],
      "metadata": {
        "colab": {
          "base_uri": "https://localhost:8080/"
        },
        "id": "9OEdDeeDaACF",
        "outputId": "9e050bfb-b139-47c1-fdb3-9999cc2a18e1"
      },
      "execution_count": 17,
      "outputs": [
        {
          "output_type": "stream",
          "name": "stdout",
          "text": [
            "1\n",
            "-1\n",
            "6\n",
            "-1\n",
            "6\n"
          ]
        }
      ]
    },
    {
      "cell_type": "code",
      "source": [
        "t = 'theta'\n",
        "\n",
        "print(t.find('eta'))\n",
        "print(t.find('et'))\n",
        "print(t.find('the'))\n",
        "print(t.find('ha'))"
      ],
      "metadata": {
        "colab": {
          "base_uri": "https://localhost:8080/"
        },
        "id": "B5Ol7gZmawnn",
        "outputId": "829b86b6-0262-44fd-dbd9-991db5176ed7"
      },
      "execution_count": 19,
      "outputs": [
        {
          "output_type": "stream",
          "name": "stdout",
          "text": [
            "2\n",
            "2\n",
            "0\n",
            "-1\n"
          ]
        }
      ]
    },
    {
      "cell_type": "code",
      "source": [
        "# If you want to perform the find, not from the string's beginning, but from any position,\n",
        "# you can use a two-parameter variant of the find() method. Look at the example:\n"
      ],
      "metadata": {
        "id": "u72Vqdr6bQ-N"
      },
      "execution_count": null,
      "outputs": []
    },
    {
      "cell_type": "code",
      "source": [
        "# The second argument specifies the index at which the search will be started (it doesn't have to fit inside the string).\n",
        "\n",
        "print('kappa'.find('a', 2))\n",
        "\n",
        "print('kappa'.find('p',0))\n",
        "print('kappa'.find('p',1))"
      ],
      "metadata": {
        "colab": {
          "base_uri": "https://localhost:8080/"
        },
        "id": "3vldnJkzbbc-",
        "outputId": "71746316-ce0c-4733-9e91-61fad5934b60"
      },
      "execution_count": 28,
      "outputs": [
        {
          "output_type": "stream",
          "name": "stdout",
          "text": [
            "4\n",
            "2\n",
            "2\n"
          ]
        }
      ]
    },
    {
      "cell_type": "code",
      "source": [
        "the_text = \"\"\"A variation of the ordinary lorem ipsum\n",
        "text has been used in typesetting since the 1960s\n",
        "or earlier, when it was popularized by advertisements\n",
        "for Letraset transfer sheets. It was introduced to\n",
        "the Information Age in the mid-1980s by the Aldus Corporation,\n",
        "which employed it in graphics and word-processing templates\n",
        "for its desktop publishing program PageMaker (from Wikipedia)\"\"\"\n",
        "\n",
        "find_value = the_text.find('the')\n",
        "\n",
        "while find_value != -1 :\n",
        "  print(find_value)\n",
        "  find_value = the_text.find('the', find_value + 1)"
      ],
      "metadata": {
        "colab": {
          "base_uri": "https://localhost:8080/"
        },
        "id": "Wv575FujcOMs",
        "outputId": "25f39cde-5ac7-41c3-f782-699ddb60f6e7"
      },
      "execution_count": 30,
      "outputs": [
        {
          "output_type": "stream",
          "name": "stdout",
          "text": [
            "15\n",
            "80\n",
            "198\n",
            "221\n",
            "238\n"
          ]
        }
      ]
    },
    {
      "cell_type": "code",
      "source": [
        "# There is also a three-parameter mutation of the find() method –\n",
        "# the third argument points to the first index which won't be taken into consideration during the search (it's actually the upper limit of the search).\n",
        "\n",
        "print('kappa'.find('a', 1, 4))\n",
        "print('kappa'.find('a', 2, 4))"
      ],
      "metadata": {
        "colab": {
          "base_uri": "https://localhost:8080/"
        },
        "id": "XtXckKv2i5UF",
        "outputId": "2013a8c3-a89b-4616-b063-de0587848409"
      },
      "execution_count": 31,
      "outputs": [
        {
          "output_type": "stream",
          "name": "stdout",
          "text": [
            "1\n",
            "-1\n"
          ]
        }
      ]
    },
    {
      "cell_type": "code",
      "source": [
        "# 2.3.5 The isalnum() method\n",
        "\n",
        "# The parameterless method named isalnum() checks if the string contains only digits or\n",
        "# alphabetical characters (letters), and returns True or False according to the result.\n",
        "\n",
        "# Demonstrating the isalnum() method:\n",
        "print('lambda30'.isalnum())\n",
        "print('lambda'.isalnum())\n",
        "print('30'.isalnum())\n",
        "print('@'.isalnum())\n",
        "print('lambda_30'.isalnum())\n",
        "print(''.isalnum())\n",
        "\n",
        "string='satya'\n",
        "print(string , \" tested for isalnum() : \", string.isalnum())\n",
        "string='satya30'\n",
        "print(string , \" tested for isalnum() : \", string.isalnum())\n",
        "string='123456789'\n",
        "print(string , \" tested for isalnum() : \", string.isalnum())\n",
        "string='@#$%^'\n",
        "print(string , \" tested for isalnum() : \", string.isalnum())\n",
        "string='satya_12345'\n",
        "print(string , \" tested for isalnum() : \", string.isalnum())\n",
        "string=''\n",
        "print(string , \" tested for isalnum() : \", string.isalnum())\n",
        "string='     '\n",
        "print(string , \" tested for isalnum() : \", string.isalnum())"
      ],
      "metadata": {
        "colab": {
          "base_uri": "https://localhost:8080/"
        },
        "id": "bRQRI3WJjZK4",
        "outputId": "acf91915-327f-4d29-8a4f-52d8f7f680c9"
      },
      "execution_count": 35,
      "outputs": [
        {
          "output_type": "stream",
          "name": "stdout",
          "text": [
            "True\n",
            "True\n",
            "True\n",
            "False\n",
            "False\n",
            "False\n",
            "satya  tested for isalnum() :  True\n",
            "satya30  tested for isalnum() :  True\n",
            "123456789  tested for isalnum() :  True\n",
            "@#$%^  tested for isalnum() :  False\n",
            "satya_12345  tested for isalnum() :  False\n",
            "  tested for isalnum() :  False\n",
            "       tested for isalnum() :  False\n"
          ]
        }
      ]
    },
    {
      "cell_type": "code",
      "source": [
        "# Three more intriguing examples are here:\n",
        "\n",
        "t = 'Six lambdas'\n",
        "print(t.isalnum())\n",
        "\n",
        "t = '&Alpha;&beta;&Gamma;&delta;'\n",
        "print(t.isalnum())\n",
        "\n",
        "t = '20E1'\n",
        "print(t.isalnum())\n"
      ],
      "metadata": {
        "colab": {
          "base_uri": "https://localhost:8080/"
        },
        "id": "_I021pzxnUDu",
        "outputId": "f2f09dc0-817c-453f-c0fe-e0f1cf247984"
      },
      "execution_count": 36,
      "outputs": [
        {
          "output_type": "stream",
          "name": "stdout",
          "text": [
            "False\n",
            "False\n",
            "True\n"
          ]
        }
      ]
    },
    {
      "cell_type": "markdown",
      "source": [
        "# 2.3.6 The isalpha() method\n",
        "The isalpha() method is more specialized – it's interested in letters only."
      ],
      "metadata": {
        "id": "GW7otRFQntW4"
      }
    },
    {
      "cell_type": "code",
      "source": [
        "# Example 1: Demonstrating the isapha() method:\n",
        "print(\"Moooo\".isalpha())\n",
        "print('Mu40'.isalpha())\n",
        "print('String '.isalpha())\n",
        "print('String_'.isalpha())"
      ],
      "metadata": {
        "colab": {
          "base_uri": "https://localhost:8080/"
        },
        "id": "Rn-KiRBMn27O",
        "outputId": "7722e5ce-656f-4b2f-fe9b-98010074f29b"
      },
      "execution_count": 39,
      "outputs": [
        {
          "output_type": "stream",
          "name": "stdout",
          "text": [
            "True\n",
            "False\n",
            "False\n",
            "False\n"
          ]
        }
      ]
    },
    {
      "cell_type": "markdown",
      "source": [
        "# 2.3.7 The isdigit() method\n",
        "In turn, the isdigit() method looks at digits only – anything else produces False as the result."
      ],
      "metadata": {
        "id": "O5gApokhoe1M"
      }
    },
    {
      "cell_type": "code",
      "source": [
        "# Example 2: Demonstrating the isdigit() method:\n",
        "\n",
        "print('2018'.isdigit())\n",
        "print('Year2019'.isdigit())\n",
        "\n",
        "string='2049'\n",
        "print(string.isdigit())"
      ],
      "metadata": {
        "colab": {
          "base_uri": "https://localhost:8080/"
        },
        "id": "JfcbpYfEogG5",
        "outputId": "35de4ac3-9774-41f1-d30d-cb33f2b1eef8"
      },
      "execution_count": 44,
      "outputs": [
        {
          "output_type": "stream",
          "name": "stdout",
          "text": [
            "True\n",
            "False\n",
            "True\n"
          ]
        }
      ]
    },
    {
      "cell_type": "markdown",
      "source": [
        "2.3.8 The islower() method\n",
        "The islower() method is a fussy variant of isalpha() – it accepts lower-case letters only."
      ],
      "metadata": {
        "id": "LEngnVKhoj1D"
      }
    },
    {
      "cell_type": "code",
      "source": [
        "# Example: Demonstrating the islower() method:\n",
        "print(\"Moooo\".islower())\n",
        "print('moooo'.islower())\n",
        "string='Satya Prakash'\n",
        "print(string.islower())\n",
        "string='satya prakash'\n",
        "print(string.islower())\n",
        "string='SATYA PRAKASH'\n",
        "print(string.islower())"
      ],
      "metadata": {
        "colab": {
          "base_uri": "https://localhost:8080/"
        },
        "id": "owTLxkvspbBG",
        "outputId": "77d6e7df-34bc-464e-da40-899b3d08f657"
      },
      "execution_count": 48,
      "outputs": [
        {
          "output_type": "stream",
          "name": "stdout",
          "text": [
            "False\n",
            "True\n",
            "False\n",
            "True\n",
            "False\n"
          ]
        }
      ]
    },
    {
      "cell_type": "markdown",
      "source": [
        "# 2.3.9 The isspace() method\n",
        "The isspace() method identifies whitespaces only – it disregards any other character (the result is False then)."
      ],
      "metadata": {
        "id": "qJcDR0vmqKuG"
      }
    },
    {
      "cell_type": "code",
      "source": [
        "# Example: Demonstrating the isspace() method:\n",
        "print(' \\n '.isspace())\n",
        "print(\" \".isspace())\n",
        "print(\"mooo mooo mooo\".isspace())\n",
        "\n",
        "string = ' satya  prakash '\n",
        "print(string.isspace())\n",
        "string = '   '\n",
        "print(string.isspace())"
      ],
      "metadata": {
        "colab": {
          "base_uri": "https://localhost:8080/"
        },
        "id": "FBPz10yqpaV_",
        "outputId": "729a6578-5ccd-4d64-d139-7f41684293b6"
      },
      "execution_count": 51,
      "outputs": [
        {
          "output_type": "stream",
          "name": "stdout",
          "text": [
            "True\n",
            "True\n",
            "False\n",
            "False\n",
            "True\n"
          ]
        }
      ]
    },
    {
      "cell_type": "markdown",
      "source": [
        "# 2.3.10 The isupper() method\n",
        "The isupper() method is the upper-case version of islower() – it concentrates on upper-case letters only.\n"
      ],
      "metadata": {
        "id": "pLvMlBZbsdOs"
      }
    },
    {
      "cell_type": "code",
      "source": [
        "# Example: Demonstrating the isupper() method:\n",
        "print(\"Moooo\".isupper())\n",
        "print('moooo'.isupper())\n",
        "print('MOOOO'.isupper())\n",
        "\n",
        "string='Satya'\n",
        "print(string.isupper())\n",
        "string='SATYA'\n",
        "print(string.isupper())"
      ],
      "metadata": {
        "colab": {
          "base_uri": "https://localhost:8080/"
        },
        "id": "UL_aS4ovshwh",
        "outputId": "f946cb9e-d55f-4462-f1b7-f68e3ffb8a10"
      },
      "execution_count": 55,
      "outputs": [
        {
          "output_type": "stream",
          "name": "stdout",
          "text": [
            "False\n",
            "False\n",
            "True\n",
            "False\n",
            "True\n"
          ]
        }
      ]
    },
    {
      "cell_type": "markdown",
      "source": [
        "# 2.3.11 The join() method\n",
        "The join() method is rather complicated, so let us guide you through it step by step:\n",
        "\n",
        "as its name suggests, the method performs a join – it expects one argument as a list; it must be assured that all the list's elements are strings – the method will raise a TypeError exception otherwise;\n",
        "all the list's elements will be joined into one string but...\n",
        "...the string from which the method has been invoked is used as a separator, put among the strings;\n",
        "the newly created string is returned as a result."
      ],
      "metadata": {
        "id": "CH2QCZMH63iq"
      }
    },
    {
      "cell_type": "code",
      "source": [
        "# 2.3.11 The join() method\n",
        "\n",
        "# Demonstrating the join() method:\n",
        "#print(\",\".join([\"omicron\", \"pi\", \"rho\"]))\n",
        "print(\",\".join([\"omicron\",\"pi\",\"rho\"]))\n",
        "\n",
        "print(\"-\".join([\"satya\",\"prakash\",\"priyanka\"]))\n",
        "\n",
        "string1=\"satya\"\n",
        "string2=\"prakash\"\n",
        "string3=\"priyanka\"\n",
        "\n",
        "print(\"#\".join([string1, string2, string3]))\n",
        "\n"
      ],
      "metadata": {
        "colab": {
          "base_uri": "https://localhost:8080/"
        },
        "id": "Wj7GOyrctRC2",
        "outputId": "f3573e3e-e31d-4ff7-ff9a-c4b7d7339f54"
      },
      "execution_count": 5,
      "outputs": [
        {
          "output_type": "stream",
          "name": "stdout",
          "text": [
            "omicron,pi,rho\n",
            "satya-prakash-priyanka\n",
            "satya#prakash#priyanka\n"
          ]
        }
      ]
    },
    {
      "cell_type": "code",
      "source": [
        "# 2.3.12 The lower() method\n",
        "The lower() method makes a copy of a source string, replaces all upper-case letters with their lower-case counterparts,\n",
        "and returns the string as the result. Again, the source string remains untouched.\n",
        "If the string doesn't contain any upper-case characters, the method returns the original string.\n",
        "\n",
        "Note: The lower() method doesn't take any parameters."
      ],
      "metadata": {
        "id": "qpy_vVDZBMqM"
      },
      "execution_count": null,
      "outputs": []
    },
    {
      "cell_type": "code",
      "source": [
        "# Demonstrating the lower() method:\n",
        "print(\"SiGmA=60\".lower())\n",
        "\n",
        "string1=\"Satya\"\n",
        "string2=\"SATYA\"\n",
        "string3=\"SaTyA\"\n",
        "string4=\"satya\"\n",
        "\n",
        "print(string1.lower())\n",
        "print(string2.lower())\n",
        "print(string3.lower())\n",
        "print(string4.lower())\n",
        "\n"
      ],
      "metadata": {
        "colab": {
          "base_uri": "https://localhost:8080/"
        },
        "id": "6hCV-dokBeGk",
        "outputId": "b12e0ca8-e205-4f7a-c1c1-0510d682b31b"
      },
      "execution_count": 7,
      "outputs": [
        {
          "output_type": "stream",
          "name": "stdout",
          "text": [
            "sigma=60\n",
            "satya\n",
            "satya\n",
            "satya\n",
            "satya\n"
          ]
        }
      ]
    },
    {
      "cell_type": "code",
      "source": [
        "# 2.3.13 The lstrip() method\n",
        "#The parameterless version of the lstrip() method returns a newly created string formed from the original one by removing all leading whitespaces.\n",
        "\n",
        "# Demonstrating the lstrip() method:\n",
        "print(\"[\" + \" tau \".lstrip() + \"]\")\n",
        "\n",
        "string1 = '   Satya'\n",
        "string2= 'Satya   '\n",
        "string3= '   Satya   '\n",
        "\n",
        "print('[' + string1.lstrip()+']')\n",
        "print('['+string2.lstrip() +']')\n",
        "print('['+string3.lstrip()+']')"
      ],
      "metadata": {
        "colab": {
          "base_uri": "https://localhost:8080/"
        },
        "id": "NdHVrwaCHU2Q",
        "outputId": "19b7d887-0dce-48ef-96d7-134753c6edc7"
      },
      "execution_count": 13,
      "outputs": [
        {
          "output_type": "stream",
          "name": "stdout",
          "text": [
            "[tau ]\n",
            "[Satya]\n",
            "[Satya   ]\n",
            "[Satya   ]\n"
          ]
        }
      ]
    },
    {
      "cell_type": "code",
      "source": [
        "# The one-parameter version of the lstrip() method does the same as its parameterless version,\n",
        "# but removes all characters enlisted in its argument (a string), not just whitespaces:\n",
        "print(\"www.cisco.com\".lstrip(\"w.\"))\n",
        "\n",
        "print(\"www.cisco.com\".lstrip(\"w\"))\n",
        "\n",
        "print(\"pythoninstitute.org\".lstrip(\".org\"))   # nothing happens"
      ],
      "metadata": {
        "colab": {
          "base_uri": "https://localhost:8080/"
        },
        "id": "MC_AITSkbzLj",
        "outputId": "1e6fd7f4-3212-4f8b-c2b4-39e4d7105213"
      },
      "execution_count": 15,
      "outputs": [
        {
          "output_type": "stream",
          "name": "stdout",
          "text": [
            "cisco.com\n",
            ".cisco.com\n",
            "pythoninstitute.org\n"
          ]
        }
      ]
    },
    {
      "cell_type": "code",
      "source": [
        "# 2.3.14 The replace() method\n",
        "#The two-parameter replace() method returns a copy of the original string in\n",
        "# which all occurrences of the first argument have been replaced by the second argument.\n",
        "\n",
        "# Demonstrating the replace() method:\n",
        "print(\"www.netacad.com\".replace(\"netacad.com\", \"pythoninstitute.org\"))\n",
        "\n",
        "print(\"This is it!\".replace(\"is\",\"are\"))\n",
        "print(\"Apple Juice\".replace(\"juice\",\"\"))"
      ],
      "metadata": {
        "colab": {
          "base_uri": "https://localhost:8080/"
        },
        "id": "R-nb9B3FbZHi",
        "outputId": "8c29a589-5f4d-44e6-bf03-5de519d527c7"
      },
      "execution_count": 16,
      "outputs": [
        {
          "output_type": "stream",
          "name": "stdout",
          "text": [
            "www.pythoninstitute.org\n",
            "Thare are it!\n",
            "Apple Juice\n"
          ]
        }
      ]
    },
    {
      "cell_type": "code",
      "source": [
        "\n",
        "\n"
      ],
      "metadata": {
        "id": "VdrwpUcvc6kK"
      },
      "execution_count": null,
      "outputs": []
    }
  ]
}