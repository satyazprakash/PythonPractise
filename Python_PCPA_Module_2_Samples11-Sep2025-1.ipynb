{
  "nbformat": 4,
  "nbformat_minor": 0,
  "metadata": {
    "colab": {
      "provenance": [],
      "authorship_tag": "ABX9TyMP+/gyUVtsTOFlLWwe5i3W",
      "include_colab_link": true
    },
    "kernelspec": {
      "name": "python3",
      "display_name": "Python 3"
    },
    "language_info": {
      "name": "python"
    }
  },
  "cells": [
    {
      "cell_type": "markdown",
      "metadata": {
        "id": "view-in-github",
        "colab_type": "text"
      },
      "source": [
        "<a href=\"https://colab.research.google.com/github/satyazprakash/PythonPractise/blob/main/Python_PCPA_Module_2_Samples11-Sep2025-1.ipynb\" target=\"_parent\"><img src=\"https://colab.research.google.com/assets/colab-badge.svg\" alt=\"Open In Colab\"/></a>"
      ]
    },
    {
      "cell_type": "code",
      "execution_count": 1,
      "metadata": {
        "colab": {
          "base_uri": "https://localhost:8080/"
        },
        "id": "Hy99AouCpKPu",
        "outputId": "e8db37d6-ce70-4e43-d671-cd6ed8f2adfe"
      },
      "outputs": [
        {
          "output_type": "stream",
          "name": "stdout",
          "text": [
            "2\n",
            "0\n",
            "3\n"
          ]
        }
      ],
      "source": [
        "# 2.1 Section 1 – Characters and Strings vs. Computers\n",
        "\n",
        "# Example 1\n",
        "\n",
        "word = 'by'\n",
        "print(len(word))\n",
        "\n",
        "\n",
        "# Example 2\n",
        "\n",
        "empty = ''\n",
        "print(len(empty))\n",
        "\n",
        "\n",
        "# Example 3\n",
        "\n",
        "i_am = 'I\\'m'\n",
        "print(len(i_am))\n"
      ]
    },
    {
      "cell_type": "code",
      "source": [
        "# 2.2.2 Multiline strings\n",
        "\n",
        "multiline = '''Line #1 contens\n",
        "Line #2 contents'''\n",
        "\n",
        "print(len(multiline))\n",
        "print(multiline)"
      ],
      "metadata": {
        "colab": {
          "base_uri": "https://localhost:8080/"
        },
        "id": "t7idzxJaCRkv",
        "outputId": "7d524898-f41d-4813-c281-318a4ab1543f"
      },
      "execution_count": 4,
      "outputs": [
        {
          "output_type": "stream",
          "name": "stdout",
          "text": [
            "32\n",
            "Line #1 contens\n",
            "Line #2 contents\n"
          ]
        }
      ]
    },
    {
      "cell_type": "code",
      "source": [
        "str1 = 'a'\n",
        "str2='b'\n",
        "\n",
        "print(str1 + str2)\n",
        "print(str2 + str1)\n",
        "print(5 * 'a')\n",
        "print('b' * 4)\n"
      ],
      "metadata": {
        "colab": {
          "base_uri": "https://localhost:8080/"
        },
        "id": "sCAEUIG6Cpb7",
        "outputId": "f593a921-230d-4e73-85bf-c6e23f7a4cdd"
      },
      "execution_count": 5,
      "outputs": [
        {
          "output_type": "stream",
          "name": "stdout",
          "text": [
            "ab\n",
            "ba\n",
            "aaaaa\n",
            "bbbb\n"
          ]
        }
      ]
    },
    {
      "cell_type": "code",
      "source": [
        "# Demonstrating the ord() function.\n",
        "char_1 = 'α'\n",
        "char_2 = 'ę' # space\n",
        "\n",
        "print(ord(char_1))\n",
        "print(ord(char_2))\n",
        "\n"
      ],
      "metadata": {
        "colab": {
          "base_uri": "https://localhost:8080/"
        },
        "id": "t4kLTK03Lw9P",
        "outputId": "f106e556-39a1-4d2c-c0fa-8ab3303553b3"
      },
      "execution_count": 8,
      "outputs": [
        {
          "output_type": "stream",
          "name": "stdout",
          "text": [
            "945\n",
            "281\n"
          ]
        }
      ]
    },
    {
      "cell_type": "code",
      "source": [
        "# chr()\n",
        "# If you know the code point (number) and want to get the corresponding character, you can use a function named chr().\n",
        "# The function takes a code point and returns its character.\n",
        "# Invoking it with an invalid argument (e.g., a negative or invalid code point) causes ValueError or TypeError exceptions.\n",
        "# Demonstrating the chr() function.\n",
        "\n",
        "print(chr(97),chr(98),chr(99),chr(100),chr(102),chr(103),chr(104),)\n",
        "print(chr(945), chr(946), chr(947),chr(948), chr(949), chr(950))\n",
        "\n"
      ],
      "metadata": {
        "colab": {
          "base_uri": "https://localhost:8080/"
        },
        "id": "yshOuKHBMKxy",
        "outputId": "99850979-56f7-4091-dea1-c0854f4e7a9a"
      },
      "execution_count": 10,
      "outputs": [
        {
          "output_type": "stream",
          "name": "stdout",
          "text": [
            "a b c d f g h\n",
            "α β γ δ ε ζ\n"
          ]
        }
      ]
    },
    {
      "cell_type": "code",
      "source": [
        "\n",
        "print(chr(ord(x)) == x\n",
        "ord(chr(x)) == x"
      ],
      "metadata": {
        "id": "2eVhKT_cM_Oz"
      },
      "execution_count": null,
      "outputs": []
    },
    {
      "cell_type": "markdown",
      "source": [
        "# 2.2.4 Strings as sequences\n",
        "Indexing\n",
        "We told you before that Python strings are sequences. It's time to show you what that actually means.\n",
        "\n",
        "Strings aren't lists, but you can treat them like lists in many particular cases."
      ],
      "metadata": {
        "id": "Zs4f7RUlTkio"
      }
    },
    {
      "cell_type": "code",
      "source": [
        "# Indexing strings.\n",
        "the_string = 'silly walks'\n",
        "\n",
        "for idx in range ( len(the_string)):\n",
        "  print(the_string[idx], end = ' ')\n",
        "\n",
        "#print()"
      ],
      "metadata": {
        "colab": {
          "base_uri": "https://localhost:8080/"
        },
        "id": "lk2lG-TzTrvL",
        "outputId": "729f7aec-567f-4e26-9769-672ca3631aa3"
      },
      "execution_count": 3,
      "outputs": [
        {
          "output_type": "stream",
          "name": "stdout",
          "text": [
            "s i l l y   w a l k s "
          ]
        }
      ]
    },
    {
      "cell_type": "code",
      "source": [
        "# Iterating, Iterating through the strings works, too. Look at the example below:\n",
        "\n",
        "the_string = 'silly walks'\n",
        "\n",
        "for character in the_string:\n",
        "  print(character, end = ' ')"
      ],
      "metadata": {
        "colab": {
          "base_uri": "https://localhost:8080/"
        },
        "id": "GpuGFAtCURDG",
        "outputId": "97bce3af-aca2-4634-a020-6f913e72fcd7"
      },
      "execution_count": 4,
      "outputs": [
        {
          "output_type": "stream",
          "name": "stdout",
          "text": [
            "s i l l y   w a l k s "
          ]
        }
      ]
    },
    {
      "cell_type": "code",
      "source": [
        "# 2.2.5 Slices\n",
        "# Moreover, everything you know about slices is still usable.\n",
        "# We've gathered some examples showing how slices work in the string world.\n",
        "\n",
        "# Slices\n",
        "\n",
        "alpha = \"abdefg\"\n",
        "print(alpha[1:3])\n",
        "print(alpha[:3])\n",
        "print(alpha[3:-2])\n",
        "print(alpha[-3:4])\n",
        "print(alpha[::2])\n",
        "print(alpha[1::2])"
      ],
      "metadata": {
        "colab": {
          "base_uri": "https://localhost:8080/"
        },
        "id": "8ucoCUKAUybG",
        "outputId": "7f9ba420-4252-429a-fd06-d285616020db"
      },
      "execution_count": 11,
      "outputs": [
        {
          "output_type": "stream",
          "name": "stdout",
          "text": [
            "bd\n",
            "abd\n",
            "e\n",
            "e\n",
            "adf\n",
            "beg\n"
          ]
        }
      ]
    },
    {
      "cell_type": "code",
      "source": [
        "# 2.2.6 The in and not in operators\n",
        "# The in operator shouldn't surprise you when applied to strings –\n",
        "# it simply checks if its left argument (a string) can be found anywhere within the right argument (another string).\n",
        "\n",
        "alphabet = \"abcdefghijklmnopqrstuvwxyz\"\n",
        "\n",
        "print(\"f\" in alphabet)\n",
        "print(\"F\" in alphabet)\n",
        "print(\"1\" in alphabet)\n",
        "print(\"ghi\" in alphabet)\n",
        "print(\"Xyz\" in alphabet)\n"
      ],
      "metadata": {
        "colab": {
          "base_uri": "https://localhost:8080/"
        },
        "id": "-ay4Cj4NWMAX",
        "outputId": "35e6f93a-3e4e-4a52-f559-e40d757b9dd8"
      },
      "execution_count": 12,
      "outputs": [
        {
          "output_type": "stream",
          "name": "stdout",
          "text": [
            "True\n",
            "False\n",
            "False\n",
            "True\n",
            "False\n"
          ]
        }
      ]
    },
    {
      "cell_type": "code",
      "source": [
        "# The not in operator\n",
        "# As you probably suspect, the not in operator is also applicable here.\n",
        "\n",
        "alphabet = \"abcdefghijklmnopqrstuvwxyz\"\n",
        "\n",
        "print(\"f\" not in alphabet)\n",
        "print(\"F\" not in alphabet)\n",
        "print(\"1\" not in alphabet)\n",
        "print(\"ghi\" not in alphabet)\n",
        "print(\"Xyz\" not in alphabet)"
      ],
      "metadata": {
        "colab": {
          "base_uri": "https://localhost:8080/"
        },
        "id": "5UFso8-cXnQQ",
        "outputId": "2bda7f83-a886-4bdf-98b1-a220869e4cff"
      },
      "execution_count": 13,
      "outputs": [
        {
          "output_type": "stream",
          "name": "stdout",
          "text": [
            "False\n",
            "True\n",
            "True\n",
            "False\n",
            "True\n"
          ]
        }
      ]
    },
    {
      "cell_type": "markdown",
      "source": [
        "# 2.2.7 Python strings are immutable\n",
        "We've also told you that Python's strings are immutable. This is a very important feature. What does it mean?\n",
        "\n",
        "This primarily means that the similarity of strings and lists is limited. Not everything you can do with a list may be done with a string.\n",
        "\n",
        "The first important difference doesn't allow you to use the del instruction to remove anything from a string."
      ],
      "metadata": {
        "id": "0GDlVwXXYFSQ"
      }
    },
    {
      "cell_type": "code",
      "source": [
        "# The example here won't work:\n",
        "\n",
        "alphabet = \"abcdefghijklmnopqrstuvwxyz\"\n",
        "del alphabet[0]"
      ],
      "metadata": {
        "colab": {
          "base_uri": "https://localhost:8080/",
          "height": 182
        },
        "id": "DRYCVTlFYVrb",
        "outputId": "ac7a68a2-7ee7-4ea1-c808-8ccb3213860e"
      },
      "execution_count": 14,
      "outputs": [
        {
          "output_type": "error",
          "ename": "TypeError",
          "evalue": "'str' object doesn't support item deletion",
          "traceback": [
            "\u001b[0;31m---------------------------------------------------------------------------\u001b[0m",
            "\u001b[0;31mTypeError\u001b[0m                                 Traceback (most recent call last)",
            "\u001b[0;32m/tmp/ipython-input-186196260.py\u001b[0m in \u001b[0;36m<cell line: 0>\u001b[0;34m()\u001b[0m\n\u001b[1;32m      2\u001b[0m \u001b[0;34m\u001b[0m\u001b[0m\n\u001b[1;32m      3\u001b[0m \u001b[0malphabet\u001b[0m \u001b[0;34m=\u001b[0m \u001b[0;34m\"abcdefghijklmnopqrstuvwxyz\"\u001b[0m\u001b[0;34m\u001b[0m\u001b[0;34m\u001b[0m\u001b[0m\n\u001b[0;32m----> 4\u001b[0;31m \u001b[0;32mdel\u001b[0m \u001b[0malphabet\u001b[0m\u001b[0;34m[\u001b[0m\u001b[0;36m0\u001b[0m\u001b[0;34m]\u001b[0m\u001b[0;34m\u001b[0m\u001b[0;34m\u001b[0m\u001b[0m\n\u001b[0m",
            "\u001b[0;31mTypeError\u001b[0m: 'str' object doesn't support item deletion"
          ]
        }
      ]
    },
    {
      "cell_type": "code",
      "source": [
        "# # The example here will work:\n",
        "\n",
        "alphabet = \"abcdefghijklmnopqrstuvwxyz\"\n",
        "del alphabet\n",
        "print(alphabet)"
      ],
      "metadata": {
        "colab": {
          "base_uri": "https://localhost:8080/",
          "height": 182
        },
        "id": "mZS0wI0JY8PL",
        "outputId": "8395ea36-41be-4b8c-f4e0-4d248fe16e70"
      },
      "execution_count": 16,
      "outputs": [
        {
          "output_type": "error",
          "ename": "NameError",
          "evalue": "name 'alphabet' is not defined",
          "traceback": [
            "\u001b[0;31m---------------------------------------------------------------------------\u001b[0m",
            "\u001b[0;31mNameError\u001b[0m                                 Traceback (most recent call last)",
            "\u001b[0;32m/tmp/ipython-input-1448948450.py\u001b[0m in \u001b[0;36m<cell line: 0>\u001b[0;34m()\u001b[0m\n\u001b[1;32m      3\u001b[0m \u001b[0malphabet\u001b[0m \u001b[0;34m=\u001b[0m \u001b[0;34m\"abcdefghijklmnopqrstuvwxyz\"\u001b[0m\u001b[0;34m\u001b[0m\u001b[0;34m\u001b[0m\u001b[0m\n\u001b[1;32m      4\u001b[0m \u001b[0;32mdel\u001b[0m \u001b[0malphabet\u001b[0m\u001b[0;34m\u001b[0m\u001b[0;34m\u001b[0m\u001b[0m\n\u001b[0;32m----> 5\u001b[0;31m \u001b[0mprint\u001b[0m\u001b[0;34m(\u001b[0m\u001b[0malphabet\u001b[0m\u001b[0;34m)\u001b[0m\u001b[0;34m\u001b[0m\u001b[0;34m\u001b[0m\u001b[0m\n\u001b[0m",
            "\u001b[0;31mNameError\u001b[0m: name 'alphabet' is not defined"
          ]
        }
      ]
    },
    {
      "cell_type": "code",
      "source": [
        "# The example below is erroneous:\n",
        "\n",
        "alphabet = \"abcdefghijklmnopqrstuvwxyz\"\n",
        "alphabet.append(\"A\")"
      ],
      "metadata": {
        "colab": {
          "base_uri": "https://localhost:8080/",
          "height": 182
        },
        "id": "pIrxYQqeZLGB",
        "outputId": "e947e18f-fab9-4af4-c427-299b0c7640f8"
      },
      "execution_count": 17,
      "outputs": [
        {
          "output_type": "error",
          "ename": "AttributeError",
          "evalue": "'str' object has no attribute 'append'",
          "traceback": [
            "\u001b[0;31m---------------------------------------------------------------------------\u001b[0m",
            "\u001b[0;31mAttributeError\u001b[0m                            Traceback (most recent call last)",
            "\u001b[0;32m/tmp/ipython-input-3478063735.py\u001b[0m in \u001b[0;36m<cell line: 0>\u001b[0;34m()\u001b[0m\n\u001b[1;32m      2\u001b[0m \u001b[0;34m\u001b[0m\u001b[0m\n\u001b[1;32m      3\u001b[0m \u001b[0malphabet\u001b[0m \u001b[0;34m=\u001b[0m \u001b[0;34m\"abcdefghijklmnopqrstuvwxyz\"\u001b[0m\u001b[0;34m\u001b[0m\u001b[0;34m\u001b[0m\u001b[0m\n\u001b[0;32m----> 4\u001b[0;31m \u001b[0malphabet\u001b[0m\u001b[0;34m.\u001b[0m\u001b[0mappend\u001b[0m\u001b[0;34m(\u001b[0m\u001b[0;34m\"A\"\u001b[0m\u001b[0;34m)\u001b[0m\u001b[0;34m\u001b[0m\u001b[0;34m\u001b[0m\u001b[0m\n\u001b[0m",
            "\u001b[0;31mAttributeError\u001b[0m: 'str' object has no attribute 'append'"
          ]
        }
      ]
    },
    {
      "cell_type": "code",
      "source": [
        "# with the absence of the append() method, the insert() method is illegal, too:\n",
        "\n",
        "alphabet = \"abcdefghijklmnopqrstuvwxyz\"\n",
        "\n",
        "alphabet.insert(0,\"A\")"
      ],
      "metadata": {
        "colab": {
          "base_uri": "https://localhost:8080/",
          "height": 182
        },
        "id": "aCHw-8c0Zbq7",
        "outputId": "d434ea29-12ee-4527-a776-624ba63cc313"
      },
      "execution_count": 18,
      "outputs": [
        {
          "output_type": "error",
          "ename": "AttributeError",
          "evalue": "'str' object has no attribute 'insert'",
          "traceback": [
            "\u001b[0;31m---------------------------------------------------------------------------\u001b[0m",
            "\u001b[0;31mAttributeError\u001b[0m                            Traceback (most recent call last)",
            "\u001b[0;32m/tmp/ipython-input-948834269.py\u001b[0m in \u001b[0;36m<cell line: 0>\u001b[0;34m()\u001b[0m\n\u001b[1;32m      3\u001b[0m \u001b[0malphabet\u001b[0m \u001b[0;34m=\u001b[0m \u001b[0;34m\"abcdefghijklmnopqrstuvwxyz\"\u001b[0m\u001b[0;34m\u001b[0m\u001b[0;34m\u001b[0m\u001b[0m\n\u001b[1;32m      4\u001b[0m \u001b[0;34m\u001b[0m\u001b[0m\n\u001b[0;32m----> 5\u001b[0;31m \u001b[0malphabet\u001b[0m\u001b[0;34m.\u001b[0m\u001b[0minsert\u001b[0m\u001b[0;34m(\u001b[0m\u001b[0;36m0\u001b[0m\u001b[0;34m,\u001b[0m\u001b[0;34m\"A\"\u001b[0m\u001b[0;34m)\u001b[0m\u001b[0;34m\u001b[0m\u001b[0;34m\u001b[0m\u001b[0m\n\u001b[0m",
            "\u001b[0;31mAttributeError\u001b[0m: 'str' object has no attribute 'insert'"
          ]
        }
      ]
    },
    {
      "cell_type": "code",
      "source": [
        "# Don't think that a string's immutability limits your ability to operate with strings.\n",
        "# The only consequence is that you have to remember about it, and implement your code in a slightly different way – look at the example code in the editor.\n",
        "\n",
        "alphabet = \"bcdefghijklmnopqrstuvwxy\"\n",
        "\n",
        "alphabet = \"a\" + alphabet\n",
        "alphabet = alphabet + \"z\"\n",
        "\n",
        "print(alphabet)\n",
        "\n",
        "# This form of code is fully acceptable, will work without bending Python's rules, and will bring the full Latin alphabet to your screen:\n",
        "# You may want to ask if creating a new copy of a string each time you modify its contents worsens the effectiveness of the code.\n",
        "\n",
        "# Yes, it does. A bit. It's not a problem at all, though.\n"
      ],
      "metadata": {
        "colab": {
          "base_uri": "https://localhost:8080/"
        },
        "id": "2X2T4v3KZjz8",
        "outputId": "04d15a47-0266-49e5-e3ff-1791041e1287"
      },
      "execution_count": 20,
      "outputs": [
        {
          "output_type": "stream",
          "name": "stdout",
          "text": [
            "abcdefghijklmnopqrstuvwxyz\n"
          ]
        }
      ]
    },
    {
      "cell_type": "markdown",
      "source": [
        "# 2.2.8 Operations on strings: continued\n",
        "\n",
        "min()\n",
        "Now that you understand that strings are sequences, we can show you some less obvious sequence capabilities. We'll present them using strings, but don't forget that lists can adopt the same tricks, too.\n",
        "\n",
        "Let's start with a function named min().\n",
        "\n",
        "The function finds the minimum element of the sequence passed as an argument. There is one condition – the sequence (string, list, it doesn't matter) cannot be empty, or else you'll get a ValueError exception.\n"
      ],
      "metadata": {
        "id": "uhrOUvAFaJyL"
      }
    },
    {
      "cell_type": "code",
      "source": [
        "# Demonstrating min() - Example 1:\n",
        "print(min(\"aAbByYzZ\"))\n",
        "\n",
        "# Demonstrating min() - Examples 2 & 3:\n",
        "#t = 'The Knights Who Say \"Ni!\"'\n",
        "t = 'TheKnightsWhoSay\"Ni!\"'\n",
        "print('[' + min(t) + ']')\n",
        "\n",
        "t =[0,1,2]\n",
        "\n",
        "print(min(t))"
      ],
      "metadata": {
        "colab": {
          "base_uri": "https://localhost:8080/"
        },
        "id": "oSZFToe0bCgp",
        "outputId": "bcb4c7a0-1b1f-4951-a23d-34fb946f8213"
      },
      "execution_count": 22,
      "outputs": [
        {
          "output_type": "stream",
          "name": "stdout",
          "text": [
            "A\n",
            "[!]\n",
            "0\n"
          ]
        }
      ]
    },
    {
      "cell_type": "code",
      "source": [
        "# max()\n",
        "# Similarly, a function named max() finds the maximum element of the sequence.\n",
        "# Demonstrating max() - Example 1:\n",
        "\n",
        "print(max(\"aAbByYzZ\"))\n",
        "\n",
        "# Demonstrating max() - Examples 2 & 3:\n",
        "t = 'The Knights Who Say \"Ni!\"'\n",
        "print('[' + max(t) + ']')\n",
        "\n",
        "t = [0, 1, 2]\n",
        "print(max(t))"
      ],
      "metadata": {
        "colab": {
          "base_uri": "https://localhost:8080/"
        },
        "id": "AiRtve9Ufyh2",
        "outputId": "1f7319e3-c9a5-47cb-a131-32f0fe72fce4"
      },
      "execution_count": 23,
      "outputs": [
        {
          "output_type": "stream",
          "name": "stdout",
          "text": [
            "z\n",
            "[y]\n",
            "2\n"
          ]
        }
      ]
    },
    {
      "cell_type": "markdown",
      "source": [
        "# The index() method\n",
        "The index() method (it's a method, not a function) searches the sequence from the beginning, in order to find the first element of the value specified in its argument.\n",
        "\n",
        "The method returns the index of the first occurrence of the argument (which means that the lowest possible result is 0, while the highest is the length of the argument decremented by 1)."
      ],
      "metadata": {
        "id": "EGQShhtPhEWK"
      }
    },
    {
      "cell_type": "code",
      "source": [
        "## Demonstrating the index() method:\n",
        "print(\"aAbByYzZaA\".index(\"A\"))\n",
        "print(\"aAbByYzZaA\".index(\"Y\"))\n",
        "print(\"aAbByYzZaA\".index(\"A\"))\n",
        "\n",
        "string=\"Satya Prakash\"\n",
        "print(string.index('a'))\n",
        "print(string.index(\"P\"))\n",
        "print(string.index(\"h\"))"
      ],
      "metadata": {
        "colab": {
          "base_uri": "https://localhost:8080/"
        },
        "id": "Guwrf4F2hzDr",
        "outputId": "ea8bd3b8-28d4-4739-e66b-aaf9fd741a2f"
      },
      "execution_count": 26,
      "outputs": [
        {
          "output_type": "stream",
          "name": "stdout",
          "text": [
            "1\n",
            "5\n",
            "1\n",
            "1\n",
            "6\n",
            "12\n"
          ]
        }
      ]
    },
    {
      "cell_type": "markdown",
      "source": [
        "# The list() function\n",
        "The list() function takes its argument (a string) and creates a new list containing all the string's characters, one per list element.\n",
        "\n",
        "Note: it's not strictly a string function - list() is able to create a new list from many other entities (e.g., from tuples and dictionaries).\n",
        "\n",
        "Take a look at the code example in the editor.\n"
      ],
      "metadata": {
        "id": "saymRYJBjV4V"
      }
    },
    {
      "cell_type": "code",
      "source": [
        "# Demonstrating the list() function:\n",
        "string=\"satya prakash\"\n",
        "print(list(string))\n",
        "print(list(\"abcabc\"))\n"
      ],
      "metadata": {
        "colab": {
          "base_uri": "https://localhost:8080/"
        },
        "id": "tLNDCnV9jcfk",
        "outputId": "51e104a8-103c-4f13-e238-17db593f7051"
      },
      "execution_count": 28,
      "outputs": [
        {
          "output_type": "stream",
          "name": "stdout",
          "text": [
            "['s', 'a', 't', 'y', 'a', ' ', 'p', 'r', 'a', 'k', 'a', 's', 'h']\n",
            "['a', 'b', 'c', 'a', 'b', 'c']\n"
          ]
        }
      ]
    },
    {
      "cell_type": "markdown",
      "source": [
        "#The count() method\n",
        "The count() method counts all occurrences of the element inside the sequence. The absence of such elements doesn't cause any problems."
      ],
      "metadata": {
        "id": "XKxvuPA2kxx2"
      }
    },
    {
      "cell_type": "code",
      "source": [
        "# Demonstrating the count() method:\n",
        "string = \"satya prakash\"\n",
        "\n",
        "print(string.count('a'))\n",
        "print(\"abcabc\".count('b'))"
      ],
      "metadata": {
        "colab": {
          "base_uri": "https://localhost:8080/"
        },
        "id": "3Yf-up7Fk6sc",
        "outputId": "05e34689-f6c5-4c07-aefc-f8c1e6436588"
      },
      "execution_count": 29,
      "outputs": [
        {
          "output_type": "stream",
          "name": "stdout",
          "text": [
            "4\n",
            "2\n"
          ]
        }
      ]
    },
    {
      "cell_type": "code",
      "source": [
        "print(len(\"\\n\\n\"))\n"
      ],
      "metadata": {
        "colab": {
          "base_uri": "https://localhost:8080/"
        },
        "id": "lDQ3PX7qm067",
        "outputId": "d46557c0-0736-43f4-c5f6-c54012b26445"
      },
      "execution_count": 30,
      "outputs": [
        {
          "output_type": "stream",
          "name": "stdout",
          "text": [
            "2\n"
          ]
        }
      ]
    },
    {
      "cell_type": "code",
      "source": [
        "asterisk = '*'\n",
        "plus = \"+\"\n",
        "decoration = (asterisk + plus) * 14 + asterisk\n",
        "print(decoration)\n"
      ],
      "metadata": {
        "colab": {
          "base_uri": "https://localhost:8080/"
        },
        "id": "mmf8_2PQm9kg",
        "outputId": "f633c383-b2f9-45b5-c3c0-149c9efa4432"
      },
      "execution_count": 32,
      "outputs": [
        {
          "output_type": "stream",
          "name": "stdout",
          "text": [
            "*+*+*+*+*+*+*+*+*+*+*+*+*+*+*\n"
          ]
        }
      ]
    },
    {
      "cell_type": "code",
      "source": [
        "chr(ord(character)) == character\n",
        "ord(chr(codepoint)) == codepoint\n"
      ],
      "metadata": {
        "colab": {
          "base_uri": "https://localhost:8080/",
          "height": 164
        },
        "id": "_DLJ-4svnGQQ",
        "outputId": "f28259d4-1198-47df-9fbf-6ac6dded3dee"
      },
      "execution_count": 33,
      "outputs": [
        {
          "output_type": "error",
          "ename": "NameError",
          "evalue": "name 'codepoint' is not defined",
          "traceback": [
            "\u001b[0;31m---------------------------------------------------------------------------\u001b[0m",
            "\u001b[0;31mNameError\u001b[0m                                 Traceback (most recent call last)",
            "\u001b[0;32m/tmp/ipython-input-2157680764.py\u001b[0m in \u001b[0;36m<cell line: 0>\u001b[0;34m()\u001b[0m\n\u001b[1;32m      1\u001b[0m \u001b[0mchr\u001b[0m\u001b[0;34m(\u001b[0m\u001b[0mord\u001b[0m\u001b[0;34m(\u001b[0m\u001b[0mcharacter\u001b[0m\u001b[0;34m)\u001b[0m\u001b[0;34m)\u001b[0m \u001b[0;34m==\u001b[0m \u001b[0mcharacter\u001b[0m\u001b[0;34m\u001b[0m\u001b[0;34m\u001b[0m\u001b[0m\n\u001b[0;32m----> 2\u001b[0;31m \u001b[0mord\u001b[0m\u001b[0;34m(\u001b[0m\u001b[0mchr\u001b[0m\u001b[0;34m(\u001b[0m\u001b[0mcodepoint\u001b[0m\u001b[0;34m)\u001b[0m\u001b[0;34m)\u001b[0m \u001b[0;34m==\u001b[0m \u001b[0mcodepoint\u001b[0m\u001b[0;34m\u001b[0m\u001b[0;34m\u001b[0m\u001b[0m\n\u001b[0m",
            "\u001b[0;31mNameError\u001b[0m: name 'codepoint' is not defined"
          ]
        }
      ]
    },
    {
      "cell_type": "markdown",
      "source": [
        "#  2.3 Section 3 – String Methods\n",
        "\n"
      ],
      "metadata": {
        "id": "O5NTARelnnWU"
      }
    },
    {
      "cell_type": "markdown",
      "source": [
        "# 2.3.1 The capitalize() method\n",
        "\n",
        "The capitalize() method does exactly what it says – it creates a new string filled with characters taken from the source string, but it tries to modify them in the following way:\n",
        "\n",
        "if the first character inside the string is a letter (note: the first character is an element with an index equal to 0, not just the first visible character), it will be converted to upper-case;\n",
        "all remaining letters from the string will be converted to lower-case.\n",
        "Don't forget that:\n",
        "\n",
        "the original string from which the method is invoked is not changed in any way – a string's immutability must be obeyed without reservation;\n",
        "the modified string (in this case, capitalized) is returned as a result – if you don't use it in any way (assign it to a variable, or pass it to a function/method) it will disappear without a trace."
      ],
      "metadata": {
        "id": "47lNZLFenppR"
      }
    },
    {
      "cell_type": "code",
      "source": [
        "# Demonstrating the capitalize() method:\n",
        "string = \"SATYA PRAKASH\"\n",
        "string1 = \" SATYA PRAKASH\"\n",
        "\n",
        "print(string.capitalize())\n",
        "print(string1.capitalize())\n",
        "print('aBcD'.capitalize())"
      ],
      "metadata": {
        "colab": {
          "base_uri": "https://localhost:8080/"
        },
        "id": "_zYlpPctUS3U",
        "outputId": "b0295770-090a-4c9a-94bc-ffc1cc62ede0"
      },
      "execution_count": 2,
      "outputs": [
        {
          "output_type": "stream",
          "name": "stdout",
          "text": [
            "Satya prakash\n",
            " satya prakash\n",
            "Abcd\n"
          ]
        }
      ]
    },
    {
      "cell_type": "code",
      "source": [
        "print(\"Alpha\".capitalize())\n",
        "print('ALPHA'.capitalize())\n",
        "print(' Alpha'.capitalize())\n",
        "print('123'.capitalize())\n",
        "print(\"αβγδ\".capitalize())\n"
      ],
      "metadata": {
        "colab": {
          "base_uri": "https://localhost:8080/"
        },
        "id": "8OKxOdZJVBnF",
        "outputId": "25ee1ac6-9811-4524-9448-19604e973fde"
      },
      "execution_count": 3,
      "outputs": [
        {
          "output_type": "stream",
          "name": "stdout",
          "text": [
            "Alpha\n",
            "Alpha\n",
            " alpha\n",
            "123\n",
            "Αβγδ\n"
          ]
        }
      ]
    },
    {
      "cell_type": "markdown",
      "source": [
        "# 2.3.2 The center() method\n",
        "The one-parameter variant of the center() method makes a copy of the original string, trying to center it inside a field of a specified width.\n",
        "\n",
        "The centering is actually done by adding some spaces before and after the string."
      ],
      "metadata": {
        "id": "UIC6MAORVR4b"
      }
    },
    {
      "cell_type": "code",
      "source": [
        "# Demonstrating the center() method:\n",
        "\n",
        "print('[' + 'alpha'.center(10) + ']')\n",
        "\n",
        "print('satya'.center(50))\n",
        "print('['+'satya'.center(50)+']')\n"
      ],
      "metadata": {
        "colab": {
          "base_uri": "https://localhost:8080/"
        },
        "id": "zlVFFGxVVc5f",
        "outputId": "678d7aec-e31f-43b3-b070-2916063c65a9"
      },
      "execution_count": 5,
      "outputs": [
        {
          "output_type": "stream",
          "name": "stdout",
          "text": [
            "[  alpha   ]\n",
            "                      satya                       \n",
            "[                      satya                       ]\n"
          ]
        }
      ]
    },
    {
      "cell_type": "code",
      "source": [
        "print('[' + 'Beta'.center(2) + ']')\n",
        "print('[' + 'Beta'.center(4) + ']')\n",
        "print('[' + 'Beta'.center(6) + ']')\n",
        "\n",
        "print('[' + 'gamma'.center(20, '*') + ']')\n",
        "print('gamma'.center(20,'*'))\n"
      ],
      "metadata": {
        "colab": {
          "base_uri": "https://localhost:8080/"
        },
        "id": "00uwZdgVV7WC",
        "outputId": "86916c4e-1934-4dc7-8a2b-f378ab5fc05d"
      },
      "execution_count": 9,
      "outputs": [
        {
          "output_type": "stream",
          "name": "stdout",
          "text": [
            "[Beta]\n",
            "[Beta]\n",
            "[ Beta ]\n",
            "[*******gamma********]\n",
            "*******gamma********\n"
          ]
        }
      ]
    },
    {
      "cell_type": "markdown",
      "source": [
        "# 2.3.3 The endswith() method\n",
        "The endswith() method checks if the given string ends with the specified argument and returns True or False, depending on the check result."
      ],
      "metadata": {
        "id": "bHyVEoIDWsvj"
      }
    },
    {
      "cell_type": "code",
      "source": [
        "# Demonstrating the endswith() method:\n",
        "if \"epsilon\".endswith(\"on\"):\n",
        "    print(\"yes\")\n",
        "else:\n",
        "    print(\"no\")\n",
        "\n",
        "if \"satyaprakash\".endswith(\"ash\"):\n",
        "  print('Yes')\n",
        "else:\n",
        "  print('No')\n",
        "\n",
        "string='input Text'\n",
        "\n",
        "if string.endswith(\"text\"):\n",
        "  print(\"Yes\")\n",
        "else:\n",
        "  print(\"No\")\n"
      ],
      "metadata": {
        "colab": {
          "base_uri": "https://localhost:8080/"
        },
        "id": "_o84ToT7WzNb",
        "outputId": "927789a8-9085-4e23-f173-e5b75978fcad"
      },
      "execution_count": 12,
      "outputs": [
        {
          "output_type": "stream",
          "name": "stdout",
          "text": [
            "yes\n",
            "Yes\n",
            "No\n"
          ]
        }
      ]
    },
    {
      "cell_type": "code",
      "source": [
        "t = \"zeta\"\n",
        "print(t.endswith(\"a\"))\n",
        "print(t.endswith(\"A\"))\n",
        "print(t.endswith(\"et\"))\n",
        "print(t.endswith(\"eta\"))\n"
      ],
      "metadata": {
        "colab": {
          "base_uri": "https://localhost:8080/"
        },
        "id": "9SY-O9pUZk91",
        "outputId": "c95bd813-8fdc-4de0-c40f-b25cf0ccdfa0"
      },
      "execution_count": 13,
      "outputs": [
        {
          "output_type": "stream",
          "name": "stdout",
          "text": [
            "True\n",
            "False\n",
            "False\n",
            "True\n"
          ]
        }
      ]
    },
    {
      "cell_type": "markdown",
      "source": [
        "# 2.3.4 The find() method\n",
        "\n",
        "The find() method is similar to index(), which you already know – it looks for a substring and returns the index of the first occurrence of this substring, but:\n",
        "\n",
        "it's safer – it doesn't generate an error for an argument containing a non-existent substring (it returns -1 then)\n",
        "it works with strings only – don't try to apply it to any other sequence."
      ],
      "metadata": {
        "id": "ao2wSJJ3Zvrf"
      }
    },
    {
      "cell_type": "code",
      "source": [
        "# Demonstrating the find() method:\n",
        "print(\"Eta\".find(\"ta\"))\n",
        "print(\"Eta\".find(\"mma\"))\n",
        "\n",
        "print(\"Satya Prakash\".find('Pra'))\n",
        "print(\"Satya Prakash\".find('pra'))\n",
        "\n",
        "string ='satya Prakash'\n",
        "print(string.find('Pra'))"
      ],
      "metadata": {
        "colab": {
          "base_uri": "https://localhost:8080/"
        },
        "id": "9OEdDeeDaACF",
        "outputId": "9e050bfb-b139-47c1-fdb3-9999cc2a18e1"
      },
      "execution_count": 17,
      "outputs": [
        {
          "output_type": "stream",
          "name": "stdout",
          "text": [
            "1\n",
            "-1\n",
            "6\n",
            "-1\n",
            "6\n"
          ]
        }
      ]
    },
    {
      "cell_type": "code",
      "source": [
        "t = 'theta'\n",
        "\n",
        "print(t.find('eta'))\n",
        "print(t.find('et'))\n",
        "print(t.find('the'))\n",
        "print(t.find('ha'))"
      ],
      "metadata": {
        "colab": {
          "base_uri": "https://localhost:8080/"
        },
        "id": "B5Ol7gZmawnn",
        "outputId": "829b86b6-0262-44fd-dbd9-991db5176ed7"
      },
      "execution_count": 19,
      "outputs": [
        {
          "output_type": "stream",
          "name": "stdout",
          "text": [
            "2\n",
            "2\n",
            "0\n",
            "-1\n"
          ]
        }
      ]
    },
    {
      "cell_type": "code",
      "source": [
        "# If you want to perform the find, not from the string's beginning, but from any position,\n",
        "# you can use a two-parameter variant of the find() method. Look at the example:\n"
      ],
      "metadata": {
        "id": "u72Vqdr6bQ-N"
      },
      "execution_count": null,
      "outputs": []
    },
    {
      "cell_type": "code",
      "source": [
        "# The second argument specifies the index at which the search will be started (it doesn't have to fit inside the string).\n",
        "\n",
        "print('kappa'.find('a', 2))\n",
        "\n",
        "print('kappa'.find('p',0))\n",
        "print('kappa'.find('p',1))"
      ],
      "metadata": {
        "colab": {
          "base_uri": "https://localhost:8080/"
        },
        "id": "3vldnJkzbbc-",
        "outputId": "71746316-ce0c-4733-9e91-61fad5934b60"
      },
      "execution_count": 28,
      "outputs": [
        {
          "output_type": "stream",
          "name": "stdout",
          "text": [
            "4\n",
            "2\n",
            "2\n"
          ]
        }
      ]
    },
    {
      "cell_type": "code",
      "source": [
        "the_text = \"\"\"A variation of the ordinary lorem ipsum\n",
        "text has been used in typesetting since the 1960s\n",
        "or earlier, when it was popularized by advertisements\n",
        "for Letraset transfer sheets. It was introduced to\n",
        "the Information Age in the mid-1980s by the Aldus Corporation,\n",
        "which employed it in graphics and word-processing templates\n",
        "for its desktop publishing program PageMaker (from Wikipedia)\"\"\"\n",
        "\n",
        "find_value = the_text.find('the')\n",
        "\n",
        "while find_value != -1 :\n",
        "  print(find_value)\n",
        "  find_value = the_text.find('the', find_value + 1)"
      ],
      "metadata": {
        "colab": {
          "base_uri": "https://localhost:8080/"
        },
        "id": "Wv575FujcOMs",
        "outputId": "25f39cde-5ac7-41c3-f782-699ddb60f6e7"
      },
      "execution_count": 30,
      "outputs": [
        {
          "output_type": "stream",
          "name": "stdout",
          "text": [
            "15\n",
            "80\n",
            "198\n",
            "221\n",
            "238\n"
          ]
        }
      ]
    },
    {
      "cell_type": "code",
      "source": [
        "# There is also a three-parameter mutation of the find() method –\n",
        "# the third argument points to the first index which won't be taken into consideration during the search (it's actually the upper limit of the search).\n",
        "\n",
        "print('kappa'.find('a', 1, 4))\n",
        "print('kappa'.find('a', 2, 4))"
      ],
      "metadata": {
        "colab": {
          "base_uri": "https://localhost:8080/"
        },
        "id": "XtXckKv2i5UF",
        "outputId": "2013a8c3-a89b-4616-b063-de0587848409"
      },
      "execution_count": 31,
      "outputs": [
        {
          "output_type": "stream",
          "name": "stdout",
          "text": [
            "1\n",
            "-1\n"
          ]
        }
      ]
    },
    {
      "cell_type": "code",
      "source": [
        "# 2.3.5 The isalnum() method\n",
        "\n",
        "# The parameterless method named isalnum() checks if the string contains only digits or\n",
        "# alphabetical characters (letters), and returns True or False according to the result.\n",
        "\n",
        "# Demonstrating the isalnum() method:\n",
        "print('lambda30'.isalnum())\n",
        "print('lambda'.isalnum())\n",
        "print('30'.isalnum())\n",
        "print('@'.isalnum())\n",
        "print('lambda_30'.isalnum())\n",
        "print(''.isalnum())\n",
        "\n",
        "string='satya'\n",
        "print(string , \" tested for isalnum() : \", string.isalnum())\n",
        "string='satya30'\n",
        "print(string , \" tested for isalnum() : \", string.isalnum())\n",
        "string='123456789'\n",
        "print(string , \" tested for isalnum() : \", string.isalnum())\n",
        "string='@#$%^'\n",
        "print(string , \" tested for isalnum() : \", string.isalnum())\n",
        "string='satya_12345'\n",
        "print(string , \" tested for isalnum() : \", string.isalnum())\n",
        "string=''\n",
        "print(string , \" tested for isalnum() : \", string.isalnum())\n",
        "string='     '\n",
        "print(string , \" tested for isalnum() : \", string.isalnum())"
      ],
      "metadata": {
        "colab": {
          "base_uri": "https://localhost:8080/"
        },
        "id": "bRQRI3WJjZK4",
        "outputId": "acf91915-327f-4d29-8a4f-52d8f7f680c9"
      },
      "execution_count": 35,
      "outputs": [
        {
          "output_type": "stream",
          "name": "stdout",
          "text": [
            "True\n",
            "True\n",
            "True\n",
            "False\n",
            "False\n",
            "False\n",
            "satya  tested for isalnum() :  True\n",
            "satya30  tested for isalnum() :  True\n",
            "123456789  tested for isalnum() :  True\n",
            "@#$%^  tested for isalnum() :  False\n",
            "satya_12345  tested for isalnum() :  False\n",
            "  tested for isalnum() :  False\n",
            "       tested for isalnum() :  False\n"
          ]
        }
      ]
    },
    {
      "cell_type": "code",
      "source": [
        "# Three more intriguing examples are here:\n",
        "\n",
        "t = 'Six lambdas'\n",
        "print(t.isalnum())\n",
        "\n",
        "t = '&Alpha;&beta;&Gamma;&delta;'\n",
        "print(t.isalnum())\n",
        "\n",
        "t = '20E1'\n",
        "print(t.isalnum())\n"
      ],
      "metadata": {
        "colab": {
          "base_uri": "https://localhost:8080/"
        },
        "id": "_I021pzxnUDu",
        "outputId": "f2f09dc0-817c-453f-c0fe-e0f1cf247984"
      },
      "execution_count": 36,
      "outputs": [
        {
          "output_type": "stream",
          "name": "stdout",
          "text": [
            "False\n",
            "False\n",
            "True\n"
          ]
        }
      ]
    },
    {
      "cell_type": "markdown",
      "source": [
        "# 2.3.6 The isalpha() method\n",
        "The isalpha() method is more specialized – it's interested in letters only."
      ],
      "metadata": {
        "id": "GW7otRFQntW4"
      }
    },
    {
      "cell_type": "code",
      "source": [
        "# Example 1: Demonstrating the isapha() method:\n",
        "print(\"Moooo\".isalpha())\n",
        "print('Mu40'.isalpha())\n",
        "print('String '.isalpha())\n",
        "print('String_'.isalpha())"
      ],
      "metadata": {
        "colab": {
          "base_uri": "https://localhost:8080/"
        },
        "id": "Rn-KiRBMn27O",
        "outputId": "7722e5ce-656f-4b2f-fe9b-98010074f29b"
      },
      "execution_count": 39,
      "outputs": [
        {
          "output_type": "stream",
          "name": "stdout",
          "text": [
            "True\n",
            "False\n",
            "False\n",
            "False\n"
          ]
        }
      ]
    },
    {
      "cell_type": "markdown",
      "source": [
        "# 2.3.7 The isdigit() method\n",
        "In turn, the isdigit() method looks at digits only – anything else produces False as the result."
      ],
      "metadata": {
        "id": "O5gApokhoe1M"
      }
    },
    {
      "cell_type": "code",
      "source": [
        "# Example 2: Demonstrating the isdigit() method:\n",
        "\n",
        "print('2018'.isdigit())\n",
        "print('Year2019'.isdigit())\n",
        "\n",
        "string='2049'\n",
        "print(string.isdigit())"
      ],
      "metadata": {
        "colab": {
          "base_uri": "https://localhost:8080/"
        },
        "id": "JfcbpYfEogG5",
        "outputId": "35de4ac3-9774-41f1-d30d-cb33f2b1eef8"
      },
      "execution_count": 44,
      "outputs": [
        {
          "output_type": "stream",
          "name": "stdout",
          "text": [
            "True\n",
            "False\n",
            "True\n"
          ]
        }
      ]
    },
    {
      "cell_type": "markdown",
      "source": [
        "2.3.8 The islower() method\n",
        "The islower() method is a fussy variant of isalpha() – it accepts lower-case letters only."
      ],
      "metadata": {
        "id": "LEngnVKhoj1D"
      }
    },
    {
      "cell_type": "code",
      "source": [
        "# Example: Demonstrating the islower() method:\n",
        "print(\"Moooo\".islower())\n",
        "print('moooo'.islower())\n",
        "string='Satya Prakash'\n",
        "print(string.islower())\n",
        "string='satya prakash'\n",
        "print(string.islower())\n",
        "string='SATYA PRAKASH'\n",
        "print(string.islower())"
      ],
      "metadata": {
        "colab": {
          "base_uri": "https://localhost:8080/"
        },
        "id": "owTLxkvspbBG",
        "outputId": "77d6e7df-34bc-464e-da40-899b3d08f657"
      },
      "execution_count": 48,
      "outputs": [
        {
          "output_type": "stream",
          "name": "stdout",
          "text": [
            "False\n",
            "True\n",
            "False\n",
            "True\n",
            "False\n"
          ]
        }
      ]
    },
    {
      "cell_type": "markdown",
      "source": [
        "# 2.3.9 The isspace() method\n",
        "The isspace() method identifies whitespaces only – it disregards any other character (the result is False then)."
      ],
      "metadata": {
        "id": "qJcDR0vmqKuG"
      }
    },
    {
      "cell_type": "code",
      "source": [
        "# Example: Demonstrating the isspace() method:\n",
        "print(' \\n '.isspace())\n",
        "print(\" \".isspace())\n",
        "print(\"mooo mooo mooo\".isspace())\n",
        "\n",
        "string = ' satya  prakash '\n",
        "print(string.isspace())\n",
        "string = '   '\n",
        "print(string.isspace())"
      ],
      "metadata": {
        "colab": {
          "base_uri": "https://localhost:8080/"
        },
        "id": "FBPz10yqpaV_",
        "outputId": "729a6578-5ccd-4d64-d139-7f41684293b6"
      },
      "execution_count": 51,
      "outputs": [
        {
          "output_type": "stream",
          "name": "stdout",
          "text": [
            "True\n",
            "True\n",
            "False\n",
            "False\n",
            "True\n"
          ]
        }
      ]
    },
    {
      "cell_type": "markdown",
      "source": [
        "# 2.3.10 The isupper() method\n",
        "The isupper() method is the upper-case version of islower() – it concentrates on upper-case letters only.\n"
      ],
      "metadata": {
        "id": "pLvMlBZbsdOs"
      }
    },
    {
      "cell_type": "code",
      "source": [
        "# Example: Demonstrating the isupper() method:\n",
        "print(\"Moooo\".isupper())\n",
        "print('moooo'.isupper())\n",
        "print('MOOOO'.isupper())\n",
        "\n",
        "string='Satya'\n",
        "print(string.isupper())\n",
        "string='SATYA'\n",
        "print(string.isupper())"
      ],
      "metadata": {
        "colab": {
          "base_uri": "https://localhost:8080/"
        },
        "id": "UL_aS4ovshwh",
        "outputId": "f946cb9e-d55f-4462-f1b7-f68e3ffb8a10"
      },
      "execution_count": 55,
      "outputs": [
        {
          "output_type": "stream",
          "name": "stdout",
          "text": [
            "False\n",
            "False\n",
            "True\n",
            "False\n",
            "True\n"
          ]
        }
      ]
    },
    {
      "cell_type": "markdown",
      "source": [
        "# 2.3.11 The join() method\n",
        "The join() method is rather complicated, so let us guide you through it step by step:\n",
        "\n",
        "as its name suggests, the method performs a join – it expects one argument as a list; it must be assured that all the list's elements are strings – the method will raise a TypeError exception otherwise;\n",
        "all the list's elements will be joined into one string but...\n",
        "...the string from which the method has been invoked is used as a separator, put among the strings;\n",
        "the newly created string is returned as a result."
      ],
      "metadata": {
        "id": "CH2QCZMH63iq"
      }
    },
    {
      "cell_type": "code",
      "source": [
        "# 2.3.11 The join() method\n",
        "\n",
        "# Demonstrating the join() method:\n",
        "#print(\",\".join([\"omicron\", \"pi\", \"rho\"]))\n",
        "print(\",\".join([\"omicron\",\"pi\",\"rho\"]))\n",
        "\n",
        "print(\"-\".join([\"satya\",\"prakash\",\"priyanka\"]))\n",
        "\n",
        "string1=\"satya\"\n",
        "string2=\"prakash\"\n",
        "string3=\"priyanka\"\n",
        "\n",
        "print(\"#\".join([string1, string2, string3]))\n",
        "\n"
      ],
      "metadata": {
        "colab": {
          "base_uri": "https://localhost:8080/"
        },
        "id": "Wj7GOyrctRC2",
        "outputId": "f3573e3e-e31d-4ff7-ff9a-c4b7d7339f54"
      },
      "execution_count": 5,
      "outputs": [
        {
          "output_type": "stream",
          "name": "stdout",
          "text": [
            "omicron,pi,rho\n",
            "satya-prakash-priyanka\n",
            "satya#prakash#priyanka\n"
          ]
        }
      ]
    },
    {
      "cell_type": "code",
      "source": [
        "# 2.3.12 The lower() method\n",
        "The lower() method makes a copy of a source string, replaces all upper-case letters with their lower-case counterparts,\n",
        "and returns the string as the result. Again, the source string remains untouched.\n",
        "If the string doesn't contain any upper-case characters, the method returns the original string.\n",
        "\n",
        "Note: The lower() method doesn't take any parameters."
      ],
      "metadata": {
        "id": "qpy_vVDZBMqM"
      },
      "execution_count": null,
      "outputs": []
    },
    {
      "cell_type": "code",
      "source": [
        "# Demonstrating the lower() method:\n",
        "print(\"SiGmA=60\".lower())\n",
        "\n",
        "string1=\"Satya\"\n",
        "string2=\"SATYA\"\n",
        "string3=\"SaTyA\"\n",
        "string4=\"satya\"\n",
        "\n",
        "print(string1.lower())\n",
        "print(string2.lower())\n",
        "print(string3.lower())\n",
        "print(string4.lower())\n",
        "\n"
      ],
      "metadata": {
        "colab": {
          "base_uri": "https://localhost:8080/"
        },
        "id": "6hCV-dokBeGk",
        "outputId": "b12e0ca8-e205-4f7a-c1c1-0510d682b31b"
      },
      "execution_count": 7,
      "outputs": [
        {
          "output_type": "stream",
          "name": "stdout",
          "text": [
            "sigma=60\n",
            "satya\n",
            "satya\n",
            "satya\n",
            "satya\n"
          ]
        }
      ]
    },
    {
      "cell_type": "code",
      "source": [
        "# 2.3.13 The lstrip() method\n",
        "#The parameterless version of the lstrip() method returns a newly created string formed from the original one by removing all leading whitespaces.\n",
        "\n",
        "# Demonstrating the lstrip() method:\n",
        "print(\"[\" + \" tau \".lstrip() + \"]\")\n",
        "\n",
        "string1 = '   Satya'\n",
        "string2= 'Satya   '\n",
        "string3= '   Satya   '\n",
        "\n",
        "print('[' + string1.lstrip()+']')\n",
        "print('['+string2.lstrip() +']')\n",
        "print('['+string3.lstrip()+']')"
      ],
      "metadata": {
        "colab": {
          "base_uri": "https://localhost:8080/"
        },
        "id": "NdHVrwaCHU2Q",
        "outputId": "19b7d887-0dce-48ef-96d7-134753c6edc7"
      },
      "execution_count": 13,
      "outputs": [
        {
          "output_type": "stream",
          "name": "stdout",
          "text": [
            "[tau ]\n",
            "[Satya]\n",
            "[Satya   ]\n",
            "[Satya   ]\n"
          ]
        }
      ]
    },
    {
      "cell_type": "code",
      "source": [
        "# The one-parameter version of the lstrip() method does the same as its parameterless version,\n",
        "# but removes all characters enlisted in its argument (a string), not just whitespaces:\n",
        "print(\"www.cisco.com\".lstrip(\"w.\"))\n",
        "\n",
        "print(\"www.cisco.com\".lstrip(\"w\"))\n",
        "\n",
        "print(\"pythoninstitute.org\".lstrip(\".org\"))   # nothing happens"
      ],
      "metadata": {
        "colab": {
          "base_uri": "https://localhost:8080/"
        },
        "id": "MC_AITSkbzLj",
        "outputId": "1e6fd7f4-3212-4f8b-c2b4-39e4d7105213"
      },
      "execution_count": 15,
      "outputs": [
        {
          "output_type": "stream",
          "name": "stdout",
          "text": [
            "cisco.com\n",
            ".cisco.com\n",
            "pythoninstitute.org\n"
          ]
        }
      ]
    },
    {
      "cell_type": "code",
      "source": [
        "# 2.3.14 The replace() method\n",
        "#The two-parameter replace() method returns a copy of the original string in\n",
        "# which all occurrences of the first argument have been replaced by the second argument.\n",
        "\n",
        "# Demonstrating the replace() method:\n",
        "print(\"www.netacad.com\".replace(\"netacad.com\", \"pythoninstitute.org\"))\n",
        "\n",
        "print(\"This is it!\".replace(\"is\",\"are\"))\n",
        "print(\"Apple Juice\".replace(\"juice\",\"\"))"
      ],
      "metadata": {
        "colab": {
          "base_uri": "https://localhost:8080/"
        },
        "id": "R-nb9B3FbZHi",
        "outputId": "8c29a589-5f4d-44e6-bf03-5de519d527c7"
      },
      "execution_count": 16,
      "outputs": [
        {
          "output_type": "stream",
          "name": "stdout",
          "text": [
            "www.pythoninstitute.org\n",
            "Thare are it!\n",
            "Apple Juice\n"
          ]
        }
      ]
    },
    {
      "cell_type": "code",
      "source": [
        "print('Peter' 'Wellert')"
      ],
      "metadata": {
        "colab": {
          "base_uri": "https://localhost:8080/"
        },
        "id": "VdrwpUcvc6kK",
        "outputId": "6aff9e67-af6c-414b-c6f1-298d2170d8af"
      },
      "execution_count": 1,
      "outputs": [
        {
          "output_type": "stream",
          "name": "stdout",
          "text": [
            "PeterWellert\n"
          ]
        }
      ]
    },
    {
      "cell_type": "code",
      "source": [
        "print(len('\\\\\\\\'))\n"
      ],
      "metadata": {
        "colab": {
          "base_uri": "https://localhost:8080/"
        },
        "id": "XDy1wMBXyaCk",
        "outputId": "d91c780b-8144-445e-e52a-97da53f34cf4"
      },
      "execution_count": 8,
      "outputs": [
        {
          "output_type": "stream",
          "name": "stdout",
          "text": [
            "2\n"
          ]
        }
      ]
    },
    {
      "cell_type": "code",
      "source": [
        "\n",
        "data = [[x for x in range(y)] for y in range(3)]\n",
        "\n",
        "for d in data:\n",
        "    if len(d) < 2:\n",
        "        print('*')\n",
        "\n"
      ],
      "metadata": {
        "id": "tlw3cu3-jMxB"
      },
      "execution_count": null,
      "outputs": []
    },
    {
      "cell_type": "code",
      "source": [
        " #[[x for x in range(y)] for y in range(3)]\n",
        "\n",
        "for y in range(3):\n",
        "    for x in range(y):\n",
        "       print(x)\n"
      ],
      "metadata": {
        "colab": {
          "base_uri": "https://localhost:8080/"
        },
        "id": "x3jPrjyTjRTg",
        "outputId": "68fd306f-934e-41be-898a-0c9618012681"
      },
      "execution_count": 3,
      "outputs": [
        {
          "output_type": "stream",
          "name": "stdout",
          "text": [
            "0\n",
            "0\n",
            "1\n"
          ]
        }
      ]
    },
    {
      "cell_type": "code",
      "source": [
        "data = [1, {}, (2,), (), {3}, [4, 5]]\n",
        "points = 0\n",
        "\n",
        "print(data)\n",
        "print(len(data))"
      ],
      "metadata": {
        "colab": {
          "base_uri": "https://localhost:8080/"
        },
        "id": "VUwdAfzKkY_v",
        "outputId": "20651f0e-571e-4883-a3af-eac415d2a57f"
      },
      "execution_count": 6,
      "outputs": [
        {
          "output_type": "stream",
          "name": "stdout",
          "text": [
            "[1, {}, (2,), (), {3}, [4, 5]]\n",
            "6\n"
          ]
        }
      ]
    },
    {
      "cell_type": "code",
      "source": [
        "my_list = [[3-i for i in range(3)] for j in range(3)]\n",
        "result = 0\n",
        "\n",
        "print(my_list)\n",
        "\n",
        "print(result)\n",
        "\n",
        "for i in range(3):\n",
        "    result += my_list[i][i]\n",
        "\n",
        "print(result)\n"
      ],
      "metadata": {
        "colab": {
          "base_uri": "https://localhost:8080/"
        },
        "id": "fMxuCVHWlI26",
        "outputId": "0a359469-e324-4842-d4b0-5036f2fe9981"
      },
      "execution_count": 8,
      "outputs": [
        {
          "output_type": "stream",
          "name": "stdout",
          "text": [
            "[[3, 2, 1], [3, 2, 1], [3, 2, 1]]\n",
            "0\n",
            "6\n"
          ]
        }
      ]
    },
    {
      "cell_type": "code",
      "source": [
        "def func(item):\n",
        "  print(item)\n",
        "  item = item + [1]\n",
        "  print(item)\n",
        "\n",
        "data = [1, 2, 3, 4]\n",
        "\n",
        "func(data)\n",
        "\n",
        "print(len(data))\n"
      ],
      "metadata": {
        "colab": {
          "base_uri": "https://localhost:8080/"
        },
        "id": "j9rKDVwemBdG",
        "outputId": "9573ba19-9ead-4052-8288-af467a6728c0"
      },
      "execution_count": 10,
      "outputs": [
        {
          "output_type": "stream",
          "name": "stdout",
          "text": [
            "[1, 2, 3, 4]\n",
            "[1, 2, 3, 4, 1]\n",
            "4\n"
          ]
        }
      ]
    },
    {
      "cell_type": "code",
      "source": [
        "x = 16\n",
        "\n",
        "while x > 0:\n",
        "    print(x)\n",
        "    print('*')\n",
        "    x //= 2\n",
        "    print(x)\n"
      ],
      "metadata": {
        "colab": {
          "base_uri": "https://localhost:8080/"
        },
        "id": "rmWkK7g7pUh0",
        "outputId": "d6ca6aa4-c922-4deb-831a-cfd23da5f907"
      },
      "execution_count": 11,
      "outputs": [
        {
          "output_type": "stream",
          "name": "stdout",
          "text": [
            "16\n",
            "*\n",
            "8\n",
            "8\n",
            "*\n",
            "4\n",
            "4\n",
            "*\n",
            "2\n",
            "2\n",
            "*\n",
            "1\n",
            "1\n",
            "*\n",
            "0\n"
          ]
        }
      ]
    },
    {
      "cell_type": "code",
      "source": [
        "print(1/2)\n",
        "print(1//2)"
      ],
      "metadata": {
        "colab": {
          "base_uri": "https://localhost:8080/"
        },
        "id": "d9JKJR6Yp-jP",
        "outputId": "88a247b4-59b1-4faa-93d4-fa422b02016a"
      },
      "execution_count": 15,
      "outputs": [
        {
          "output_type": "stream",
          "name": "stdout",
          "text": [
            "0.5\n",
            "0\n"
          ]
        }
      ]
    },
    {
      "cell_type": "code",
      "source": [
        "print(1%2)\n",
        "print(1%3)\n",
        "print(2%3)\n",
        "print(2%4)\n",
        "print(3%4)"
      ],
      "metadata": {
        "colab": {
          "base_uri": "https://localhost:8080/"
        },
        "id": "NtBR3pciqN8U",
        "outputId": "fe878593-92d6-404e-903e-4e8b81c294cd"
      },
      "execution_count": 20,
      "outputs": [
        {
          "output_type": "stream",
          "name": "stdout",
          "text": [
            "1\n",
            "1\n",
            "2\n",
            "2\n",
            "3\n"
          ]
        }
      ]
    },
    {
      "cell_type": "code",
      "source": [
        "fruits1 = ['Apple', 'Pear', 'Banana']\n",
        "fruits2 = fruits1\n",
        "fruits3 = fruits1[:]\n",
        "\n",
        "print(fruits1)\n",
        "print(fruits2)\n",
        "print(fruits3)\n",
        "\n",
        "fruits2[0] = 'Cherry'\n",
        "fruits3[1] = 'Orange'\n",
        "print(fruits2)\n",
        "print(fruits3)\n",
        "\n",
        "res = 0\n",
        "\n",
        "for i in (fruits1, fruits2, fruits3):\n",
        "    if i[0] == 'Cherry':\n",
        "        print(i[0])\n",
        "        res += 1\n",
        "        print(res)\n",
        "    if i[1] == 'Orange':\n",
        "        print(i[1])\n",
        "        res += 10\n",
        "        print(res)\n",
        "\n",
        "print(res)"
      ],
      "metadata": {
        "colab": {
          "base_uri": "https://localhost:8080/"
        },
        "id": "mfP4z8SPq5gv",
        "outputId": "aca6d786-59df-4356-f4f1-80f266fc08c8"
      },
      "execution_count": 26,
      "outputs": [
        {
          "output_type": "stream",
          "name": "stdout",
          "text": [
            "['Apple', 'Pear', 'Banana']\n",
            "['Apple', 'Pear', 'Banana']\n",
            "['Apple', 'Pear', 'Banana']\n",
            "['Cherry', 'Pear', 'Banana']\n",
            "['Apple', 'Orange', 'Banana']\n",
            "Cherry\n",
            "1\n",
            "Cherry\n",
            "2\n",
            "Orange\n",
            "12\n",
            "12\n"
          ]
        }
      ]
    },
    {
      "cell_type": "code",
      "source": [
        "\n",
        "# print(len([i for i in range(0, -2)]))\n",
        "\n",
        "for i in range(-1, -5):\n",
        "      print(i)\n",
        "\n"
      ],
      "metadata": {
        "id": "gBNtOMlRxBYu"
      },
      "execution_count": 38,
      "outputs": []
    },
    {
      "cell_type": "code",
      "source": [
        "# print(len([i for i in range(0, -2, -1)]))\n",
        "\n",
        "for i in range(0, -2, -1):\n",
        "  print(i)\n",
        "\n"
      ],
      "metadata": {
        "colab": {
          "base_uri": "https://localhost:8080/"
        },
        "id": "Gu_gm4cRycVD",
        "outputId": "9f958454-7e54-4bba-8f29-a62a4b0b555e"
      },
      "execution_count": 41,
      "outputs": [
        {
          "output_type": "stream",
          "name": "stdout",
          "text": [
            "0\n",
            "-1\n"
          ]
        }
      ]
    },
    {
      "cell_type": "code",
      "source": [
        "\n",
        "foo = (0,0,0,0,1, 2, 3)\n",
        "print(foo.index(1))\n",
        "print(foo.index(2))\n",
        "print(foo.index(3))\n",
        "print(foo.index(0))\n"
      ],
      "metadata": {
        "colab": {
          "base_uri": "https://localhost:8080/"
        },
        "id": "1nVx9iQ50HsV",
        "outputId": "d4496c7a-5592-448e-a5af-d480fac29d72"
      },
      "execution_count": 6,
      "outputs": [
        {
          "output_type": "stream",
          "name": "stdout",
          "text": [
            "4\n",
            "5\n",
            "6\n",
            "0\n"
          ]
        }
      ]
    },
    {
      "cell_type": "code",
      "source": [
        "data = (1,) * 3\n",
        "print(data)\n",
        "data[0] = 2\n",
        "print(data)\n",
        "\n"
      ],
      "metadata": {
        "colab": {
          "base_uri": "https://localhost:8080/",
          "height": 237
        },
        "id": "F6C3-VJc2uvJ",
        "outputId": "c3a4c161-c6fb-4d40-91c6-6c419b9e757e"
      },
      "execution_count": 9,
      "outputs": [
        {
          "output_type": "stream",
          "name": "stdout",
          "text": [
            "(1, 1, 1)\n"
          ]
        },
        {
          "output_type": "error",
          "ename": "TypeError",
          "evalue": "'tuple' object does not support item assignment",
          "traceback": [
            "\u001b[0;31m---------------------------------------------------------------------------\u001b[0m",
            "\u001b[0;31mTypeError\u001b[0m                                 Traceback (most recent call last)",
            "\u001b[0;32m/tmp/ipython-input-1037082938.py\u001b[0m in \u001b[0;36m<cell line: 0>\u001b[0;34m()\u001b[0m\n\u001b[1;32m      1\u001b[0m \u001b[0mdata\u001b[0m \u001b[0;34m=\u001b[0m \u001b[0;34m(\u001b[0m\u001b[0;36m1\u001b[0m\u001b[0;34m,\u001b[0m\u001b[0;34m)\u001b[0m \u001b[0;34m*\u001b[0m \u001b[0;36m3\u001b[0m\u001b[0;34m\u001b[0m\u001b[0;34m\u001b[0m\u001b[0m\n\u001b[1;32m      2\u001b[0m \u001b[0mprint\u001b[0m\u001b[0;34m(\u001b[0m\u001b[0mdata\u001b[0m\u001b[0;34m)\u001b[0m\u001b[0;34m\u001b[0m\u001b[0;34m\u001b[0m\u001b[0m\n\u001b[0;32m----> 3\u001b[0;31m \u001b[0mdata\u001b[0m\u001b[0;34m[\u001b[0m\u001b[0;36m0\u001b[0m\u001b[0;34m]\u001b[0m \u001b[0;34m=\u001b[0m \u001b[0;36m2\u001b[0m\u001b[0;34m\u001b[0m\u001b[0;34m\u001b[0m\u001b[0m\n\u001b[0m\u001b[1;32m      4\u001b[0m \u001b[0mprint\u001b[0m\u001b[0;34m(\u001b[0m\u001b[0mdata\u001b[0m\u001b[0;34m)\u001b[0m\u001b[0;34m\u001b[0m\u001b[0;34m\u001b[0m\u001b[0m\n\u001b[1;32m      5\u001b[0m \u001b[0;34m\u001b[0m\u001b[0m\n",
            "\u001b[0;31mTypeError\u001b[0m: 'tuple' object does not support item assignment"
          ]
        }
      ]
    },
    {
      "cell_type": "code",
      "source": [
        "z = 2\n",
        "y = 1\n",
        "print(z)\n",
        "print(y)\n",
        "print(y < z)\n",
        "print(z > y)\n",
        "print(y < z or z > y)\n",
        "print( y > z or z < y)\n",
        "print(y < z or z > y and y > z or z < y)\n",
        "print(x)\n",
        "\n",
        "#x = y < z or z > y and y > z or z < y\n",
        "\n"
      ],
      "metadata": {
        "colab": {
          "base_uri": "https://localhost:8080/"
        },
        "id": "2WwE3XYX4aJf",
        "outputId": "31a3b702-4de9-401f-e720-f097c12b2f74"
      },
      "execution_count": 12,
      "outputs": [
        {
          "output_type": "stream",
          "name": "stdout",
          "text": [
            "2\n",
            "1\n",
            "True\n",
            "True\n",
            "True\n",
            "False\n",
            "True\n",
            "True\n"
          ]
        }
      ]
    },
    {
      "cell_type": "code",
      "source": [
        "from sys import argv\n",
        "print(argv[0])\n",
        "print(argv[1])\n",
        "print(argv[2])\n",
        "\n"
      ],
      "metadata": {
        "colab": {
          "base_uri": "https://localhost:8080/"
        },
        "id": "FWBfFfj281Cr",
        "outputId": "0a997c10-8b64-4c79-b7e3-f93fdd22c5ee"
      },
      "execution_count": 15,
      "outputs": [
        {
          "output_type": "stream",
          "name": "stdout",
          "text": [
            "/usr/local/lib/python3.12/dist-packages/colab_kernel_launcher.py\n",
            "-f\n",
            "/root/.local/share/jupyter/runtime/kernel-71e451c4-a0db-4b94-b037-2b1a9f2acad5.json\n"
          ]
        }
      ]
    },
    {
      "cell_type": "code",
      "source": [
        "nums = [1, 2, 3]\n",
        "print(nums)\n",
        "print(nums[::-1])\n",
        "print(nums[::-1][0])\n",
        "print(len(nums))\n",
        "print((len(nums) - nums[::-1][0]))\n",
        "print(('Peter',) * 0 )\n",
        "\n",
        "data = ('Peter',) * (len(nums) - nums[::-1][0])\n",
        "print(data)\n",
        "\n"
      ],
      "metadata": {
        "colab": {
          "base_uri": "https://localhost:8080/"
        },
        "id": "WbJIgkKq-xc6",
        "outputId": "c8dd6e6b-9176-4358-e196-1ca12d528bb9"
      },
      "execution_count": 24,
      "outputs": [
        {
          "output_type": "stream",
          "name": "stdout",
          "text": [
            "[1, 2, 3]\n",
            "[3, 2, 1]\n",
            "3\n",
            "3\n",
            "0\n",
            "()\n",
            "()\n"
          ]
        }
      ]
    },
    {
      "cell_type": "code",
      "source": [
        "\n",
        "data = {'a': 1, 'b': 2, 'c': 3}\n",
        "#print(data['a', 'b'])\n",
        "print(data['a'])\n",
        "print(data['b'])"
      ],
      "metadata": {
        "colab": {
          "base_uri": "https://localhost:8080/",
          "height": 200
        },
        "id": "UdW6bWZZ_8QI",
        "outputId": "7ed91bb6-dd5a-40f8-e6c4-c70b42c83d00"
      },
      "execution_count": 29,
      "outputs": [
        {
          "output_type": "error",
          "ename": "NameError",
          "evalue": "name 'a' is not defined",
          "traceback": [
            "\u001b[0;31m---------------------------------------------------------------------------\u001b[0m",
            "\u001b[0;31mNameError\u001b[0m                                 Traceback (most recent call last)",
            "\u001b[0;32m/tmp/ipython-input-1192309665.py\u001b[0m in \u001b[0;36m<cell line: 0>\u001b[0;34m()\u001b[0m\n\u001b[1;32m      1\u001b[0m \u001b[0mdata\u001b[0m \u001b[0;34m=\u001b[0m \u001b[0;34m{\u001b[0m\u001b[0;34m'a'\u001b[0m\u001b[0;34m:\u001b[0m \u001b[0;36m1\u001b[0m\u001b[0;34m,\u001b[0m \u001b[0;34m'b'\u001b[0m\u001b[0;34m:\u001b[0m \u001b[0;36m2\u001b[0m\u001b[0;34m,\u001b[0m \u001b[0;34m'c'\u001b[0m\u001b[0;34m:\u001b[0m \u001b[0;36m3\u001b[0m\u001b[0;34m}\u001b[0m\u001b[0;34m\u001b[0m\u001b[0;34m\u001b[0m\u001b[0m\n\u001b[1;32m      2\u001b[0m \u001b[0;31m#print(data['a', 'b'])\u001b[0m\u001b[0;34m\u001b[0m\u001b[0;34m\u001b[0m\u001b[0m\n\u001b[0;32m----> 3\u001b[0;31m \u001b[0mprint\u001b[0m\u001b[0;34m(\u001b[0m\u001b[0mdata\u001b[0m\u001b[0;34m[\u001b[0m\u001b[0ma\u001b[0m\u001b[0;34m]\u001b[0m\u001b[0;34m)\u001b[0m\u001b[0;34m\u001b[0m\u001b[0;34m\u001b[0m\u001b[0m\n\u001b[0m\u001b[1;32m      4\u001b[0m \u001b[0mprint\u001b[0m\u001b[0;34m(\u001b[0m\u001b[0mdata\u001b[0m\u001b[0;34m[\u001b[0m\u001b[0;34m'b'\u001b[0m\u001b[0;34m]\u001b[0m\u001b[0;34m)\u001b[0m\u001b[0;34m\u001b[0m\u001b[0;34m\u001b[0m\u001b[0m\n",
            "\u001b[0;31mNameError\u001b[0m: name 'a' is not defined"
          ]
        }
      ]
    },
    {
      "cell_type": "code",
      "source": [
        "nums = [1, 2, 3]\n",
        "vals = nums\n",
        "del vals[:]\n",
        "\n",
        "print(vals)\n",
        "print(nums)"
      ],
      "metadata": {
        "colab": {
          "base_uri": "https://localhost:8080/"
        },
        "id": "wP5Vr54QEGEX",
        "outputId": "4423d68f-f805-432c-bf79-dd12e630f475"
      },
      "execution_count": 30,
      "outputs": [
        {
          "output_type": "stream",
          "name": "stdout",
          "text": [
            "[]\n",
            "[]\n"
          ]
        }
      ]
    },
    {
      "cell_type": "code",
      "source": [
        "data1 = ('a', 'b')\n",
        "data2 = ('a', 'b')\n",
        "print(data1 == data2)  # True\n",
        "print(data1 is data2)  # True\n",
        "print(id(data1))       # e.g. 140539383900864\n",
        "print(id(data2))       # e.g. 140539383900864 (the same number)"
      ],
      "metadata": {
        "colab": {
          "base_uri": "https://localhost:8080/"
        },
        "id": "IgNksOZNMiFh",
        "outputId": "59ef3224-edf2-4803-9128-eee66b570c6f"
      },
      "execution_count": 33,
      "outputs": [
        {
          "output_type": "stream",
          "name": "stdout",
          "text": [
            "True\n",
            "False\n",
            "134417805147712\n",
            "134417804876992\n"
          ]
        }
      ]
    },
    {
      "cell_type": "code",
      "source": [
        "data = {'z': 23, 'x': 7, 'y': 42}\n",
        "\n",
        "for _ in sorted(data):\n",
        "    print(data[_], end=' ')\n",
        "\n",
        "\n"
      ],
      "metadata": {
        "colab": {
          "base_uri": "https://localhost:8080/"
        },
        "id": "1bEcqCKQNdXi",
        "outputId": "60e17a20-4906-407f-99fe-c84500a3232a"
      },
      "execution_count": 39,
      "outputs": [
        {
          "output_type": "stream",
          "name": "stdout",
          "text": [
            "7 42 23 "
          ]
        }
      ]
    },
    {
      "cell_type": "code",
      "source": [
        "a = 1\n",
        "b = 0\n",
        "c = a & b\n",
        "d = a | b\n",
        "e = a ^ b\n",
        "\n",
        "print(c,d,e)\n",
        "#print(c + d + e)\n",
        "\n"
      ],
      "metadata": {
        "colab": {
          "base_uri": "https://localhost:8080/"
        },
        "id": "aXga9dfvnCGH",
        "outputId": "54d1075b-2e3a-4b9a-cace-e4b9c7f74078"
      },
      "execution_count": 40,
      "outputs": [
        {
          "output_type": "stream",
          "name": "stdout",
          "text": [
            "0 1 1\n"
          ]
        }
      ]
    },
    {
      "cell_type": "code",
      "source": [
        "try:\n",
        "    print(7 / 0)\n",
        "except (TypeError, ValueError, ZeroDivisionError):\n",
        "    print(\"That is not allowed!\")\n"
      ],
      "metadata": {
        "colab": {
          "base_uri": "https://localhost:8080/"
        },
        "id": "skiPbHvjou6j",
        "outputId": "c273febe-f2cb-44f1-d722-5b5967ec6faf"
      },
      "execution_count": 41,
      "outputs": [
        {
          "output_type": "stream",
          "name": "stdout",
          "text": [
            "That is not allowed!\n"
          ]
        }
      ]
    },
    {
      "cell_type": "code",
      "source": [
        "w = 3\n",
        "z = True\n",
        "a = w/z\n",
        "print(a)"
      ],
      "metadata": {
        "colab": {
          "base_uri": "https://localhost:8080/"
        },
        "id": "n1I92OvQutoJ",
        "outputId": "1a8ee7d7-3834-452a-c4a8-3e3d6a54a58c"
      },
      "execution_count": 43,
      "outputs": [
        {
          "output_type": "stream",
          "name": "stdout",
          "text": [
            "3.0\n"
          ]
        }
      ]
    },
    {
      "cell_type": "code",
      "source": [
        "    data = {'name': 'Peter', 'age': 30}\n",
        "    person = data.copy()\n",
        "    print(id(data) == id(person))  # False\n",
        "\n",
        "    print(id(data))\n",
        "    print(id(person))\n",
        "\n",
        "    person = data\n",
        "    print(id(data) == id(person))  # True"
      ],
      "metadata": {
        "colab": {
          "base_uri": "https://localhost:8080/"
        },
        "id": "FFpQL8kfc1mb",
        "outputId": "d0cf9a37-f85e-4e7b-f4b3-f898d2b20909"
      },
      "execution_count": 4,
      "outputs": [
        {
          "output_type": "stream",
          "name": "stdout",
          "text": [
            "False\n",
            "135849221639808\n",
            "135849221389440\n",
            "True\n"
          ]
        }
      ]
    },
    {
      "cell_type": "code",
      "source": [
        "    x = '\\\\\\\\'\n",
        "    print(len(x))"
      ],
      "metadata": {
        "colab": {
          "base_uri": "https://localhost:8080/"
        },
        "id": "YkxYgdfZnBIM",
        "outputId": "0e7a39a5-1844-4dbc-b4d2-113bc4d338f2"
      },
      "execution_count": 2,
      "outputs": [
        {
          "output_type": "stream",
          "name": "stdout",
          "text": [
            "2\n"
          ]
        }
      ]
    },
    {
      "cell_type": "code",
      "source": [
        "marks = [80, 70, 90, 90, 80, 100]\n",
        "\n",
        "print(sum(marks))\n",
        "\n",
        "print(len(marks))\n",
        "\n",
        "average = sum(marks) // len(marks)\n"
      ],
      "metadata": {
        "colab": {
          "base_uri": "https://localhost:8080/"
        },
        "id": "9hoQA_YVS4si",
        "outputId": "fa5f901f-43f9-44cb-8fa9-35a561e67207"
      },
      "execution_count": 2,
      "outputs": [
        {
          "output_type": "stream",
          "name": "stdout",
          "text": [
            "510\n",
            "6\n"
          ]
        }
      ]
    },
    {
      "cell_type": "code",
      "source": [
        "str1 = 'Peter'\n",
        "str2 = str1[:]\n",
        "# str2 = str1        # The same thing\n",
        "\n",
        "print(id(str1))  # e.g. 140539652049216\n",
        "print(id(str2))  # e.g. 140539652049216 (the same number than str1)\n"
      ],
      "metadata": {
        "colab": {
          "base_uri": "https://localhost:8080/"
        },
        "id": "9pPGg4Iig1Au",
        "outputId": "9c6a0906-6321-4ac0-9376-43122658dc70"
      },
      "execution_count": 5,
      "outputs": [
        {
          "output_type": "stream",
          "name": "stdout",
          "text": [
            "135849221724640\n",
            "135849221724640\n"
          ]
        }
      ]
    },
    {
      "cell_type": "code",
      "source": [
        "def func(x):\n",
        "    if x % 2 == 0:\n",
        "        return 1\n",
        "    else:\n",
        "        return\n",
        "\n",
        "\n",
        "print(func(func(2)) + 1)\n"
      ],
      "metadata": {
        "colab": {
          "base_uri": "https://localhost:8080/",
          "height": 182
        },
        "id": "g8MDYhS4hV8n",
        "outputId": "d8f89c39-f672-4c26-daa3-c09fa6739fd9"
      },
      "execution_count": 6,
      "outputs": [
        {
          "output_type": "error",
          "ename": "TypeError",
          "evalue": "unsupported operand type(s) for +: 'NoneType' and 'int'",
          "traceback": [
            "\u001b[0;31m---------------------------------------------------------------------------\u001b[0m",
            "\u001b[0;31mTypeError\u001b[0m                                 Traceback (most recent call last)",
            "\u001b[0;32m/tmp/ipython-input-4020881661.py\u001b[0m in \u001b[0;36m<cell line: 0>\u001b[0;34m()\u001b[0m\n\u001b[1;32m      6\u001b[0m \u001b[0;34m\u001b[0m\u001b[0m\n\u001b[1;32m      7\u001b[0m \u001b[0;34m\u001b[0m\u001b[0m\n\u001b[0;32m----> 8\u001b[0;31m \u001b[0mprint\u001b[0m\u001b[0;34m(\u001b[0m\u001b[0mfunc\u001b[0m\u001b[0;34m(\u001b[0m\u001b[0mfunc\u001b[0m\u001b[0;34m(\u001b[0m\u001b[0;36m2\u001b[0m\u001b[0;34m)\u001b[0m\u001b[0;34m)\u001b[0m \u001b[0;34m+\u001b[0m \u001b[0;36m1\u001b[0m\u001b[0;34m)\u001b[0m\u001b[0;34m\u001b[0m\u001b[0;34m\u001b[0m\u001b[0m\n\u001b[0m",
            "\u001b[0;31mTypeError\u001b[0m: unsupported operand type(s) for +: 'NoneType' and 'int'"
          ]
        }
      ]
    },
    {
      "cell_type": "code",
      "source": [
        "    data = {'Peter': 30, 'Paul': 31}\n",
        "    print(list(data.keys()))\n",
        ""
      ],
      "metadata": {
        "colab": {
          "base_uri": "https://localhost:8080/"
        },
        "id": "0DAGjPJ5maAH",
        "outputId": "2d2e6aea-f6eb-41d8-a0e2-88308933980c"
      },
      "execution_count": 7,
      "outputs": [
        {
          "output_type": "stream",
          "name": "stdout",
          "text": [
            "['Peter', 'Paul']\n"
          ]
        }
      ]
    },
    {
      "cell_type": "code",
      "source": [
        "    def func(n):\n",
        "        s = ''\n",
        "        for i in range(n):\n",
        "            s += '*'\n",
        "            yield s\n",
        "\n",
        "\n",
        "    for x in func(3):\n",
        "        print(x, end='')"
      ],
      "metadata": {
        "colab": {
          "base_uri": "https://localhost:8080/"
        },
        "id": "PiXgWa-hmqBj",
        "outputId": "c31c2c02-5e91-4e8b-e3fe-6bc94d87f79a"
      },
      "execution_count": 8,
      "outputs": [
        {
          "output_type": "stream",
          "name": "stdout",
          "text": [
            "******"
          ]
        }
      ]
    },
    {
      "cell_type": "code",
      "source": [
        "    data = {'name': 'Peter', 'age': 30}\n",
        "    person = data.copy()\n",
        "    print(id(data) == id(person))\n",
        ""
      ],
      "metadata": {
        "colab": {
          "base_uri": "https://localhost:8080/"
        },
        "id": "W96hnQWTm0TP",
        "outputId": "d370ec26-8ed6-4d59-8474-72826afd23c8"
      },
      "execution_count": 9,
      "outputs": [
        {
          "output_type": "stream",
          "name": "stdout",
          "text": [
            "False\n"
          ]
        }
      ]
    },
    {
      "cell_type": "code",
      "source": [
        "    data = {'name': 'Peter', 'age': 30}\n",
        "    person = data.copy()\n",
        "    print(id(data) == id(person))  # False\n",
        "\n",
        "    person = data\n",
        "    print(id(data) == id(person))  # True"
      ],
      "metadata": {
        "colab": {
          "base_uri": "https://localhost:8080/"
        },
        "id": "47ykZjzRm_eA",
        "outputId": "bfade1d6-bc90-4137-ad95-7eddd4eb8b8b"
      },
      "execution_count": 10,
      "outputs": [
        {
          "output_type": "stream",
          "name": "stdout",
          "text": [
            "False\n",
            "True\n"
          ]
        }
      ]
    },
    {
      "cell_type": "code",
      "source": [
        "    data = (1, 2, 4, 8)\n",
        "    data = data[-2:-1]\n",
        "    data = data[-1]\n",
        "    print(data)"
      ],
      "metadata": {
        "colab": {
          "base_uri": "https://localhost:8080/"
        },
        "id": "5NNY9avanIs6",
        "outputId": "3174b3e6-0ba4-4630-e6e3-e7da3713404f"
      },
      "execution_count": 11,
      "outputs": [
        {
          "output_type": "stream",
          "name": "stdout",
          "text": [
            "4\n"
          ]
        }
      ]
    },
    {
      "cell_type": "code",
      "source": [
        "    try:\n",
        "        raise Exception\n",
        "    except BaseException:\n",
        "        print('1')\n",
        "    except Exception:\n",
        "        print('2')\n",
        "    except:\n",
        "        print('3')"
      ],
      "metadata": {
        "colab": {
          "base_uri": "https://localhost:8080/"
        },
        "id": "INcBF_Gdnp_x",
        "outputId": "d0468a59-2281-4f26-efec-9b149c316f35"
      },
      "execution_count": 12,
      "outputs": [
        {
          "output_type": "stream",
          "name": "stdout",
          "text": [
            "1\n"
          ]
        }
      ]
    },
    {
      "cell_type": "code",
      "source": [
        "    my_list = [1, 2]\n",
        "\n",
        "    for v in range(2):\n",
        "        my_list.insert(-1, my_list[v])\n",
        "\n",
        "    print(my_list)"
      ],
      "metadata": {
        "colab": {
          "base_uri": "https://localhost:8080/"
        },
        "id": "Xtv6ziZenrym",
        "outputId": "97da02b4-9050-4f0a-b213-e7adcce8c932"
      },
      "execution_count": 13,
      "outputs": [
        {
          "output_type": "stream",
          "name": "stdout",
          "text": [
            "[1, 1, 1, 2]\n"
          ]
        }
      ]
    },
    {
      "cell_type": "code",
      "source": [
        "    str1 = 'Peter'\n",
        "    str2 = str1[:]\n",
        "\n",
        "    print(id(str1))\n",
        "    print(id(str2))"
      ],
      "metadata": {
        "colab": {
          "base_uri": "https://localhost:8080/"
        },
        "id": "lBPZxZ90n2kX",
        "outputId": "3eabf17c-4a63-4522-b2a9-8c323c5c548e"
      },
      "execution_count": 16,
      "outputs": [
        {
          "output_type": "stream",
          "name": "stdout",
          "text": [
            "135849221724640\n",
            "135849221724640\n"
          ]
        }
      ]
    },
    {
      "cell_type": "code",
      "source": [
        "    def func(x):\n",
        "        if x % 2 == 0:\n",
        "            return 1\n",
        "        else:\n",
        "            return\n",
        "\n",
        "\n",
        "    print(func(func(2)) + 1)\n",
        ""
      ],
      "metadata": {
        "colab": {
          "base_uri": "https://localhost:8080/",
          "height": 200
        },
        "id": "PKveiOY9oW5E",
        "outputId": "e033a165-ef4c-4140-af56-029635875469"
      },
      "execution_count": 17,
      "outputs": [
        {
          "output_type": "error",
          "ename": "TypeError",
          "evalue": "unsupported operand type(s) for +: 'NoneType' and 'int'",
          "traceback": [
            "\u001b[0;31m---------------------------------------------------------------------------\u001b[0m",
            "\u001b[0;31mTypeError\u001b[0m                                 Traceback (most recent call last)",
            "\u001b[0;32m/tmp/ipython-input-2309644866.py\u001b[0m in \u001b[0;36m<cell line: 0>\u001b[0;34m()\u001b[0m\n\u001b[1;32m      6\u001b[0m \u001b[0;34m\u001b[0m\u001b[0m\n\u001b[1;32m      7\u001b[0m \u001b[0;34m\u001b[0m\u001b[0m\n\u001b[0;32m----> 8\u001b[0;31m \u001b[0mprint\u001b[0m\u001b[0;34m(\u001b[0m\u001b[0mfunc\u001b[0m\u001b[0;34m(\u001b[0m\u001b[0mfunc\u001b[0m\u001b[0;34m(\u001b[0m\u001b[0;36m2\u001b[0m\u001b[0;34m)\u001b[0m\u001b[0;34m)\u001b[0m \u001b[0;34m+\u001b[0m \u001b[0;36m1\u001b[0m\u001b[0;34m)\u001b[0m\u001b[0;34m\u001b[0m\u001b[0;34m\u001b[0m\u001b[0m\n\u001b[0m\u001b[1;32m      9\u001b[0m \u001b[0;34m\u001b[0m\u001b[0m\n",
            "\u001b[0;31mTypeError\u001b[0m: unsupported operand type(s) for +: 'NoneType' and 'int'"
          ]
        }
      ]
    },
    {
      "cell_type": "code",
      "source": [
        "def func(x):\n",
        "    if x % 2 == 0:\n",
        "        return 1\n",
        "    else:\n",
        "        return\n",
        "\n",
        "\n",
        "print(func(func(2)) + 1)\n"
      ],
      "metadata": {
        "colab": {
          "base_uri": "https://localhost:8080/",
          "height": 182
        },
        "id": "egvtqQAEoeJt",
        "outputId": "37894a16-7365-40c6-f49f-7b55ee672f9a"
      },
      "execution_count": 18,
      "outputs": [
        {
          "output_type": "error",
          "ename": "TypeError",
          "evalue": "unsupported operand type(s) for +: 'NoneType' and 'int'",
          "traceback": [
            "\u001b[0;31m---------------------------------------------------------------------------\u001b[0m",
            "\u001b[0;31mTypeError\u001b[0m                                 Traceback (most recent call last)",
            "\u001b[0;32m/tmp/ipython-input-4020881661.py\u001b[0m in \u001b[0;36m<cell line: 0>\u001b[0;34m()\u001b[0m\n\u001b[1;32m      6\u001b[0m \u001b[0;34m\u001b[0m\u001b[0m\n\u001b[1;32m      7\u001b[0m \u001b[0;34m\u001b[0m\u001b[0m\n\u001b[0;32m----> 8\u001b[0;31m \u001b[0mprint\u001b[0m\u001b[0;34m(\u001b[0m\u001b[0mfunc\u001b[0m\u001b[0;34m(\u001b[0m\u001b[0mfunc\u001b[0m\u001b[0;34m(\u001b[0m\u001b[0;36m2\u001b[0m\u001b[0;34m)\u001b[0m\u001b[0;34m)\u001b[0m \u001b[0;34m+\u001b[0m \u001b[0;36m1\u001b[0m\u001b[0;34m)\u001b[0m\u001b[0;34m\u001b[0m\u001b[0;34m\u001b[0m\u001b[0m\n\u001b[0m",
            "\u001b[0;31mTypeError\u001b[0m: unsupported operand type(s) for +: 'NoneType' and 'int'"
          ]
        }
      ]
    },
    {
      "cell_type": "code",
      "source": [
        "    def func(x=2, y=3):\n",
        "        return x * y\n",
        "\n",
        "\n",
        "    print(func(y=2))\n",
        ""
      ],
      "metadata": {
        "colab": {
          "base_uri": "https://localhost:8080/"
        },
        "id": "EJ2fdrn2owfY",
        "outputId": "ba7fea65-a94e-45e7-d1ef-566ca8aa23fa"
      },
      "execution_count": 19,
      "outputs": [
        {
          "output_type": "stream",
          "name": "stdout",
          "text": [
            "4\n"
          ]
        }
      ]
    },
    {
      "cell_type": "code",
      "source": [
        "    x, y, z = 3, 2, 1\n",
        "    z, y, x = x, y, z\n",
        "    print(x, y, z)"
      ],
      "metadata": {
        "colab": {
          "base_uri": "https://localhost:8080/"
        },
        "id": "Benm9680o254",
        "outputId": "e0ef5c2c-1140-4cb5-ee95-9c94084a5476"
      },
      "execution_count": 20,
      "outputs": [
        {
          "output_type": "stream",
          "name": "stdout",
          "text": [
            "1 2 3\n"
          ]
        }
      ]
    },
    {
      "cell_type": "code",
      "source": [
        "    data = ['abc', 'def', 'abcde', 'efg']\n",
        "    print(max(data))\n",
        ""
      ],
      "metadata": {
        "colab": {
          "base_uri": "https://localhost:8080/"
        },
        "id": "rDTTilhVpk5g",
        "outputId": "9d8bfce9-79a1-4112-e79c-98504626cf57"
      },
      "execution_count": 21,
      "outputs": [
        {
          "output_type": "stream",
          "name": "stdout",
          "text": [
            "efg\n"
          ]
        }
      ]
    },
    {
      "cell_type": "code",
      "source": [
        "    value = input(\"Enter a value: \")\n",
        "    print(int(value)/int(value))"
      ],
      "metadata": {
        "colab": {
          "base_uri": "https://localhost:8080/",
          "height": 182
        },
        "id": "Id_FyLvpqvik",
        "outputId": "3559782b-ce50-4468-8b18-ab7976f9ab62"
      },
      "execution_count": 22,
      "outputs": [
        {
          "name": "stdout",
          "output_type": "stream",
          "text": [
            "Enter a value: 0\n"
          ]
        },
        {
          "output_type": "error",
          "ename": "ZeroDivisionError",
          "evalue": "division by zero",
          "traceback": [
            "\u001b[0;31m---------------------------------------------------------------------------\u001b[0m",
            "\u001b[0;31mZeroDivisionError\u001b[0m                         Traceback (most recent call last)",
            "\u001b[0;32m/tmp/ipython-input-303741866.py\u001b[0m in \u001b[0;36m<cell line: 0>\u001b[0;34m()\u001b[0m\n\u001b[1;32m      1\u001b[0m \u001b[0mvalue\u001b[0m \u001b[0;34m=\u001b[0m \u001b[0minput\u001b[0m\u001b[0;34m(\u001b[0m\u001b[0;34m\"Enter a value: \"\u001b[0m\u001b[0;34m)\u001b[0m\u001b[0;34m\u001b[0m\u001b[0;34m\u001b[0m\u001b[0m\n\u001b[0;32m----> 2\u001b[0;31m \u001b[0mprint\u001b[0m\u001b[0;34m(\u001b[0m\u001b[0mint\u001b[0m\u001b[0;34m(\u001b[0m\u001b[0mvalue\u001b[0m\u001b[0;34m)\u001b[0m\u001b[0;34m/\u001b[0m\u001b[0mint\u001b[0m\u001b[0;34m(\u001b[0m\u001b[0mvalue\u001b[0m\u001b[0;34m)\u001b[0m\u001b[0;34m)\u001b[0m\u001b[0;34m\u001b[0m\u001b[0;34m\u001b[0m\u001b[0m\n\u001b[0m",
            "\u001b[0;31mZeroDivisionError\u001b[0m: division by zero"
          ]
        }
      ]
    },
    {
      "cell_type": "code",
      "source": [
        "    s = 'python'\n",
        "    for i in range(len(s)):\n",
        "        i = s[i].upper()\n",
        "        # s[i] = s[i].upper()  # TypeError: ...\n",
        "    print(s, end=\"\")           # python"
      ],
      "metadata": {
        "colab": {
          "base_uri": "https://localhost:8080/"
        },
        "id": "pe_Hqmg5rayS",
        "outputId": "c24e556b-4bfc-49c7-af02-55671fb5fc51"
      },
      "execution_count": 23,
      "outputs": [
        {
          "output_type": "stream",
          "name": "stdout",
          "text": [
            "python"
          ]
        }
      ]
    },
    {
      "cell_type": "code",
      "source": [
        "print(float(1, 3))\n"
      ],
      "metadata": {
        "colab": {
          "base_uri": "https://localhost:8080/",
          "height": 146
        },
        "id": "j9tT5xb3h0lT",
        "outputId": "8a9e2450-1522-45c8-ae37-b93f75f9d818"
      },
      "execution_count": 2,
      "outputs": [
        {
          "output_type": "error",
          "ename": "TypeError",
          "evalue": "float expected at most 1 argument, got 2",
          "traceback": [
            "\u001b[0;31m---------------------------------------------------------------------------\u001b[0m",
            "\u001b[0;31mTypeError\u001b[0m                                 Traceback (most recent call last)",
            "\u001b[0;32m/tmp/ipython-input-2825836508.py\u001b[0m in \u001b[0;36m<cell line: 0>\u001b[0;34m()\u001b[0m\n\u001b[0;32m----> 1\u001b[0;31m \u001b[0mprint\u001b[0m\u001b[0;34m(\u001b[0m\u001b[0mfloat\u001b[0m\u001b[0;34m(\u001b[0m\u001b[0;36m1\u001b[0m\u001b[0;34m,\u001b[0m \u001b[0;36m3\u001b[0m\u001b[0;34m)\u001b[0m\u001b[0;34m)\u001b[0m\u001b[0;34m\u001b[0m\u001b[0;34m\u001b[0m\u001b[0m\n\u001b[0m",
            "\u001b[0;31mTypeError\u001b[0m: float expected at most 1 argument, got 2"
          ]
        }
      ]
    },
    {
      "cell_type": "code",
      "source": [
        "    data = ((1, 2),) * 7\n",
        "    print(len(data[3:50]))\n",
        "\n"
      ],
      "metadata": {
        "colab": {
          "base_uri": "https://localhost:8080/"
        },
        "id": "mdZrreOTktav",
        "outputId": "0507d500-3171-4d49-d18e-98b5205f9810"
      },
      "execution_count": 4,
      "outputs": [
        {
          "output_type": "stream",
          "name": "stdout",
          "text": [
            "4\n"
          ]
        }
      ]
    },
    {
      "cell_type": "code",
      "source": [
        "    data = {'one': 'two', 'two': 'three', 'three': 'one'}\n",
        "    res = data['three']\n",
        "\n",
        "    for _ in range(len(data)):\n",
        "        res = data[res]\n",
        "\n",
        "    print(res)"
      ],
      "metadata": {
        "colab": {
          "base_uri": "https://localhost:8080/"
        },
        "id": "Hfg4BgyLmFiy",
        "outputId": "bb99f692-de8e-4cc8-afb5-5e5228b1ea06"
      },
      "execution_count": 5,
      "outputs": [
        {
          "output_type": "stream",
          "name": "stdout",
          "text": [
            "one\n"
          ]
        }
      ]
    },
    {
      "cell_type": "code",
      "source": [
        "    nums = []\n",
        "    vals = nums[:]\n",
        "    vals.append(1)\n",
        "    print(nums)  # []\n",
        "    print(vals)  # [1]\n",
        ""
      ],
      "metadata": {
        "colab": {
          "base_uri": "https://localhost:8080/"
        },
        "id": "EtUJSlbjoZFa",
        "outputId": "6c503e08-5807-424c-fb9f-fca63847aa4e"
      },
      "execution_count": 6,
      "outputs": [
        {
          "output_type": "stream",
          "name": "stdout",
          "text": [
            "[]\n",
            "[1]\n"
          ]
        }
      ]
    },
    {
      "cell_type": "code",
      "source": [
        "my_tuple = (1, 2, 3)\n",
        "my_tuple[1] = my_tuple[1] + my_tuple[0]\n"
      ],
      "metadata": {
        "colab": {
          "base_uri": "https://localhost:8080/",
          "height": 164
        },
        "id": "LSF6oiRltr0v",
        "outputId": "85348beb-8dd1-4776-804c-789a20144e00"
      },
      "execution_count": 7,
      "outputs": [
        {
          "output_type": "error",
          "ename": "TypeError",
          "evalue": "'tuple' object does not support item assignment",
          "traceback": [
            "\u001b[0;31m---------------------------------------------------------------------------\u001b[0m",
            "\u001b[0;31mTypeError\u001b[0m                                 Traceback (most recent call last)",
            "\u001b[0;32m/tmp/ipython-input-1505047860.py\u001b[0m in \u001b[0;36m<cell line: 0>\u001b[0;34m()\u001b[0m\n\u001b[1;32m      1\u001b[0m \u001b[0mmy_tuple\u001b[0m \u001b[0;34m=\u001b[0m \u001b[0;34m(\u001b[0m\u001b[0;36m1\u001b[0m\u001b[0;34m,\u001b[0m \u001b[0;36m2\u001b[0m\u001b[0;34m,\u001b[0m \u001b[0;36m3\u001b[0m\u001b[0;34m)\u001b[0m\u001b[0;34m\u001b[0m\u001b[0;34m\u001b[0m\u001b[0m\n\u001b[0;32m----> 2\u001b[0;31m \u001b[0mmy_tuple\u001b[0m\u001b[0;34m[\u001b[0m\u001b[0;36m1\u001b[0m\u001b[0;34m]\u001b[0m \u001b[0;34m=\u001b[0m \u001b[0mmy_tuple\u001b[0m\u001b[0;34m[\u001b[0m\u001b[0;36m1\u001b[0m\u001b[0;34m]\u001b[0m \u001b[0;34m+\u001b[0m \u001b[0mmy_tuple\u001b[0m\u001b[0;34m[\u001b[0m\u001b[0;36m0\u001b[0m\u001b[0;34m]\u001b[0m\u001b[0;34m\u001b[0m\u001b[0;34m\u001b[0m\u001b[0m\n\u001b[0m",
            "\u001b[0;31mTypeError\u001b[0m: 'tuple' object does not support item assignment"
          ]
        }
      ]
    },
    {
      "cell_type": "code",
      "source": [
        "    print('Enter Your Name: ')\n",
        "    name = input()\n",
        "    print(name)"
      ],
      "metadata": {
        "colab": {
          "base_uri": "https://localhost:8080/"
        },
        "id": "MjVlTKdevML-",
        "outputId": "264bf893-61fd-44df-eeeb-a5763e1eb5dd"
      },
      "execution_count": 8,
      "outputs": [
        {
          "output_type": "stream",
          "name": "stdout",
          "text": [
            "Enter Your Name: \n",
            "satya\n",
            "satya\n"
          ]
        }
      ]
    },
    {
      "cell_type": "code",
      "source": [
        "    rates = (1.2, 1.4, 1.0)\n",
        "    new = rates[3:]\n",
        "    for rate in rates[-2:]:\n",
        "        new += (rate,)\n",
        "    print(len(new))"
      ],
      "metadata": {
        "colab": {
          "base_uri": "https://localhost:8080/"
        },
        "id": "xFEaTZSp2O9I",
        "outputId": "4b231fa6-32b8-44c1-ab06-a626b609a583"
      },
      "execution_count": 9,
      "outputs": [
        {
          "output_type": "stream",
          "name": "stdout",
          "text": [
            "2\n"
          ]
        }
      ]
    },
    {
      "cell_type": "code",
      "source": [
        "print(list('hello'))"
      ],
      "metadata": {
        "colab": {
          "base_uri": "https://localhost:8080/"
        },
        "id": "V6hvhTAhPtVY",
        "outputId": "7cc7b703-dc4b-478a-b0bc-2082c31542ae"
      },
      "execution_count": 1,
      "outputs": [
        {
          "output_type": "stream",
          "name": "stdout",
          "text": [
            "['h', 'e', 'l', 'l', 'o']\n"
          ]
        }
      ]
    },
    {
      "cell_type": "code",
      "source": [
        "\n",
        "def func(x):\n",
        "    if x % 2 == 0:\n",
        "        return 1\n",
        "    else:\n",
        "        return\n",
        "\n",
        "#func(1+1)\n",
        "print(func(1 + 1))\n"
      ],
      "metadata": {
        "colab": {
          "base_uri": "https://localhost:8080/"
        },
        "id": "IGZq5AWEgmY9",
        "outputId": "9f42efc1-5e7d-4cb4-e00a-9156fc04009d"
      },
      "execution_count": 6,
      "outputs": [
        {
          "output_type": "stream",
          "name": "stdout",
          "text": [
            "1\n"
          ]
        }
      ]
    },
    {
      "cell_type": "code",
      "source": [
        "print(None + 1)"
      ],
      "metadata": {
        "colab": {
          "base_uri": "https://localhost:8080/",
          "height": 146
        },
        "id": "Vh1gLBxahBuW",
        "outputId": "7bc48c23-37e2-412a-a3cd-a2dd19c81812"
      },
      "execution_count": 7,
      "outputs": [
        {
          "output_type": "error",
          "ename": "TypeError",
          "evalue": "unsupported operand type(s) for +: 'NoneType' and 'int'",
          "traceback": [
            "\u001b[0;31m---------------------------------------------------------------------------\u001b[0m",
            "\u001b[0;31mTypeError\u001b[0m                                 Traceback (most recent call last)",
            "\u001b[0;32m/tmp/ipython-input-4091597920.py\u001b[0m in \u001b[0;36m<cell line: 0>\u001b[0;34m()\u001b[0m\n\u001b[0;32m----> 1\u001b[0;31m \u001b[0mprint\u001b[0m\u001b[0;34m(\u001b[0m\u001b[0;32mNone\u001b[0m \u001b[0;34m+\u001b[0m \u001b[0;36m1\u001b[0m\u001b[0;34m)\u001b[0m\u001b[0;34m\u001b[0m\u001b[0;34m\u001b[0m\u001b[0m\n\u001b[0m",
            "\u001b[0;31mTypeError\u001b[0m: unsupported operand type(s) for +: 'NoneType' and 'int'"
          ]
        }
      ]
    }
  ]
}