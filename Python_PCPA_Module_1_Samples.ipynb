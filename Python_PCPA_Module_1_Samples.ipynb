{
  "nbformat": 4,
  "nbformat_minor": 0,
  "metadata": {
    "colab": {
      "provenance": [],
      "authorship_tag": "ABX9TyM+xlgjHyNe5/j2eIPY35o9",
      "include_colab_link": true
    },
    "kernelspec": {
      "name": "python3",
      "display_name": "Python 3"
    },
    "language_info": {
      "name": "python"
    }
  },
  "cells": [
    {
      "cell_type": "markdown",
      "metadata": {
        "id": "view-in-github",
        "colab_type": "text"
      },
      "source": [
        "<a href=\"https://colab.research.google.com/github/satyazprakash/PythonPractise/blob/main/Python_PCPA_Module_1_Samples.ipynb\" target=\"_parent\"><img src=\"https://colab.research.google.com/assets/colab-badge.svg\" alt=\"Open In Colab\"/></a>"
      ]
    },
    {
      "cell_type": "code",
      "execution_count": 1,
      "metadata": {
        "colab": {
          "base_uri": "https://localhost:8080/"
        },
        "id": "V_beBtkywkgE",
        "outputId": "342ee356-5e45-4c64-dd75-443582baa495"
      },
      "outputs": [
        {
          "output_type": "stream",
          "name": "stdout",
          "text": [
            "0.8593398965431788\n",
            "0.9952941926377716\n",
            "0.6161036898051668\n",
            "0.8784447492368296\n",
            "0.7929578349592294\n"
          ]
        }
      ],
      "source": [
        "from random import random\n",
        "\n",
        "for i in range(5):\n",
        "    print(random())\n",
        ""
      ]
    }
  ]
}