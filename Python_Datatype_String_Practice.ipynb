{
  "nbformat": 4,
  "nbformat_minor": 0,
  "metadata": {
    "colab": {
      "provenance": [],
      "authorship_tag": "ABX9TyMXljNGmXwuCKd3/n0AU30J",
      "include_colab_link": true
    },
    "kernelspec": {
      "name": "python3",
      "display_name": "Python 3"
    },
    "language_info": {
      "name": "python"
    }
  },
  "cells": [
    {
      "cell_type": "markdown",
      "metadata": {
        "id": "view-in-github",
        "colab_type": "text"
      },
      "source": [
        "<a href=\"https://colab.research.google.com/github/satyazprakash/PythonPractise/blob/main/Python_Datatype_String_Practice.ipynb\" target=\"_parent\"><img src=\"https://colab.research.google.com/assets/colab-badge.svg\" alt=\"Open In Colab\"/></a>"
      ]
    },
    {
      "cell_type": "code",
      "execution_count": null,
      "metadata": {
        "colab": {
          "base_uri": "https://localhost:8080/"
        },
        "id": "IatuVN6-Q0Lo",
        "outputId": "af2b74dc-6b41-4a89-8f4e-378ae750a104"
      },
      "outputs": [
        {
          "output_type": "stream",
          "name": "stdout",
          "text": [
            "Hello\n",
            "Hello\n",
            "W\n",
            "Welcome\n",
            "c\n"
          ]
        }
      ],
      "source": [
        "# Strings\n",
        "# Strings in python are surrounded by either single quotation marks, or double quotation marks.\n",
        "# You can display a string literal with the print() function:\n",
        "\n",
        "print('Hello')\n",
        "print(\"Hello\")\n",
        "\n",
        "x = 'Welcome'\n",
        "print(x[0])\n",
        "print(x[:])\n",
        "print(x[3])\n"
      ]
    },
    {
      "cell_type": "code",
      "source": [
        "#Quotes Inside Quotes\n",
        "#You can use quotes inside a string, as long as they don't match the quotes surrounding the string:\n",
        "\n",
        "print(\"it's alright\")\n",
        "print(\"He is called 'Jonny'\")\n",
        "print('He is called \"Jonny\"')\n"
      ],
      "metadata": {
        "colab": {
          "base_uri": "https://localhost:8080/"
        },
        "id": "DuLBl67HRYu4",
        "outputId": "abe58970-7be7-47c9-b67d-cec7c08e37d9"
      },
      "execution_count": null,
      "outputs": [
        {
          "output_type": "stream",
          "name": "stdout",
          "text": [
            "it's alright\n",
            "He is called 'Jonny'\n",
            "He is called \"Jonny\"\n"
          ]
        }
      ]
    },
    {
      "cell_type": "code",
      "source": [
        "# Assigning a string to a variable is done with the variable name followed by an equal sign and the string:\n",
        "\n",
        "a='Hello'\n",
        "\n",
        "print(a)"
      ],
      "metadata": {
        "colab": {
          "base_uri": "https://localhost:8080/"
        },
        "id": "uNtXMoERR69O",
        "outputId": "509588ab-d76c-4b4f-8328-3b6de2125534"
      },
      "execution_count": null,
      "outputs": [
        {
          "output_type": "stream",
          "name": "stdout",
          "text": [
            "Hello\n"
          ]
        }
      ]
    },
    {
      "cell_type": "code",
      "source": [
        "# You can assign a multiline string to a variable by using three quotes:\n",
        "\n",
        "# Using Single quotes\n",
        "a = ''' This is a sample multi line variable\n",
        "the name assigned to it is Ram\n",
        "Ram ji is called by Hanuman '''\n",
        "\n",
        "print(a)\n",
        "\n",
        "# Using Double quotes\n",
        "a = \"\"\" This is a sample multi line variable\n",
        "the name assigned to it is Ram\n",
        "Ram ji is called by Hanuman as Jai Siya Ram \"\"\"\n",
        "\n",
        "print(a)"
      ],
      "metadata": {
        "colab": {
          "base_uri": "https://localhost:8080/"
        },
        "id": "ng1VPNgfSRff",
        "outputId": "a1697b1d-b6a5-452b-da7d-76b3f08166ef"
      },
      "execution_count": null,
      "outputs": [
        {
          "output_type": "stream",
          "name": "stdout",
          "text": [
            " This is a sample multi line variable\n",
            "the name assigned to it is Ram\n",
            "Ram ji is called by Hanuman \n",
            " This is a sample multi line variable\n",
            "the name assigned to it is Ram\n",
            "Ram ji is called by Hanuman as Jai Siya Ram \n"
          ]
        }
      ]
    },
    {
      "cell_type": "code",
      "source": [
        "\n",
        "#Strings are Arrays\n",
        "# Like many other popular programming languages, strings in Python are arrays of unicode characters.\n",
        "\n",
        "# However, Python does not have a character data type, a single character is simply a string with a length of 1.\n",
        "\n",
        "# Square brackets can be used to access elements of the string.\n",
        "\n",
        "# Get the character at position 1 (remember that the first character has the position 0):\n",
        "\n",
        "a=\"Hello World String\"\n",
        "print(a[1])   # Printing the second Character\n"
      ],
      "metadata": {
        "colab": {
          "base_uri": "https://localhost:8080/"
        },
        "id": "IbMwwcdkTNMm",
        "outputId": "5a757739-f37b-4ccf-8300-162129521339"
      },
      "execution_count": null,
      "outputs": [
        {
          "output_type": "stream",
          "name": "stdout",
          "text": [
            "e\n"
          ]
        }
      ]
    },
    {
      "cell_type": "code",
      "source": [
        "# Looping Through a String\n",
        "# Since strings are arrays, we can loop through the characters in a string, with a for loop.\n",
        "\n",
        "for x in \"hello world!\":\n",
        "  print(x)\n",
        "  print(x,end=\"\")"
      ],
      "metadata": {
        "colab": {
          "base_uri": "https://localhost:8080/"
        },
        "id": "Ao6g4UwgT8DX",
        "outputId": "41d857ae-162c-4cd1-f120-8a239486426a"
      },
      "execution_count": null,
      "outputs": [
        {
          "output_type": "stream",
          "name": "stdout",
          "text": [
            "h\n",
            "he\n",
            "el\n",
            "ll\n",
            "lo\n",
            "o \n",
            " w\n",
            "wo\n",
            "or\n",
            "rl\n",
            "ld\n",
            "d!\n",
            "!"
          ]
        }
      ]
    },
    {
      "cell_type": "code",
      "source": [
        "# String Length\n",
        "# To get the length of a string, use the len() function.\n",
        "\n",
        "x = \"This is a new string for which we want to check length\"\n",
        "y=len(x)   # length inputted in Y variable\n",
        "\n",
        "print(y)  # Print value present in Y variable\n",
        "print(len(x))   # Print the lenght of String x\n",
        "loop_count=0\n",
        "\n",
        "for _ in x:\n",
        "  print(_)    # prints the value of character for which the loop is running\n",
        "  loop_count = loop_count+1   # incrementing the counter to check how many times the loop is executing\n",
        "\n",
        "print(x)   # Printing the string\n",
        "print(loop_count)  # Printing the length of the string extracted by printing the loop counter"
      ],
      "metadata": {
        "colab": {
          "base_uri": "https://localhost:8080/"
        },
        "id": "s2ON9XdTVBkU",
        "outputId": "7f7c9fca-2212-404f-e03d-6359ae0480ff"
      },
      "execution_count": null,
      "outputs": [
        {
          "output_type": "stream",
          "name": "stdout",
          "text": [
            "54\n",
            "54\n",
            "T\n",
            "h\n",
            "i\n",
            "s\n",
            " \n",
            "i\n",
            "s\n",
            " \n",
            "a\n",
            " \n",
            "n\n",
            "e\n",
            "w\n",
            " \n",
            "s\n",
            "t\n",
            "r\n",
            "i\n",
            "n\n",
            "g\n",
            " \n",
            "f\n",
            "o\n",
            "r\n",
            " \n",
            "w\n",
            "h\n",
            "i\n",
            "c\n",
            "h\n",
            " \n",
            "w\n",
            "e\n",
            " \n",
            "w\n",
            "a\n",
            "n\n",
            "t\n",
            " \n",
            "t\n",
            "o\n",
            " \n",
            "c\n",
            "h\n",
            "e\n",
            "c\n",
            "k\n",
            " \n",
            "l\n",
            "e\n",
            "n\n",
            "g\n",
            "t\n",
            "h\n",
            "This is a new string for which we want to check length\n",
            "54\n"
          ]
        }
      ]
    },
    {
      "cell_type": "code",
      "source": [
        "# Check String\n",
        "# To check if a certain phrase or character is present in a string, we can use the keyword in.\n",
        "\n",
        "# Check if \"free\" is present in the following text:\n",
        "\n",
        "txt = \"The best things in life are free!\"\n",
        "print(\"free\" in txt)\n",
        "\n",
        "# use and if statement for consitional logic\n",
        "\n",
        "txt = \"The best things in life are free!\"\n",
        "\n",
        "if \"free\" in txt:\n",
        "  print(\"Yes, 'free' is present in the string held by txt string\")"
      ],
      "metadata": {
        "colab": {
          "base_uri": "https://localhost:8080/"
        },
        "id": "lcSVMYSBXwXN",
        "outputId": "2eb0d03b-3ff6-4184-b9df-89fb7bc665c7"
      },
      "execution_count": null,
      "outputs": [
        {
          "output_type": "stream",
          "name": "stdout",
          "text": [
            "True\n",
            "Yes, 'free' is present in the string held by txt string\n"
          ]
        }
      ]
    },
    {
      "cell_type": "code",
      "source": [
        "# Check if NOT\n",
        "# To check if a certain phrase or character is NOT present in a string, we can use the keyword not in.\n",
        "\n",
        "\n",
        "txt = \"The best things in life are free!\"\n",
        "print(\"satya\" not in txt)\n",
        "\n",
        "# Use it in an if statement:\n",
        "# print only if \"satya\" is NOT present:\n",
        "\n",
        "txt = \"The best things in life are free!\"\n",
        "if \"satya\" not in txt:\n",
        "  print(\"No, 'satya' is NOT present in the string txt\")"
      ],
      "metadata": {
        "colab": {
          "base_uri": "https://localhost:8080/"
        },
        "id": "5tu6UuntZk8S",
        "outputId": "56893f74-b249-4be9-e96e-f9937e541fb1"
      },
      "execution_count": null,
      "outputs": [
        {
          "output_type": "stream",
          "name": "stdout",
          "text": [
            "True\n",
            "No, 'satya' is NOT present in the string txt\n"
          ]
        }
      ]
    },
    {
      "cell_type": "markdown",
      "source": [
        "### **# Python - Slicing Strings**"
      ],
      "metadata": {
        "id": "syBrD6fo8601"
      }
    },
    {
      "cell_type": "code",
      "source": [
        "# Python - Slicing Strings\n",
        "# You can return a range of characters by using the slice syntax.\n",
        "\n",
        "# Specify the start index and the end index, separated by a colon, to return a part of the string.\n",
        "\n",
        "\n",
        "# Get the characters from position 2 to position 5 (not included): Note: The first character has index 0.\n",
        "\n",
        "b = \"Hello, World!\"\n",
        "print(b[2:5])"
      ],
      "metadata": {
        "colab": {
          "base_uri": "https://localhost:8080/"
        },
        "id": "fEqSl1wz5oA3",
        "outputId": "0e17c6f4-a6cd-4562-e9df-9790f877d4f5"
      },
      "execution_count": null,
      "outputs": [
        {
          "output_type": "stream",
          "name": "stdout",
          "text": [
            "llo\n"
          ]
        }
      ]
    },
    {
      "cell_type": "code",
      "source": [
        "#Slice From the Start\n",
        "#By leaving out the start index, the range will start at the first character:\n",
        "\n",
        "# Get the characters from the start to position 5 (not included):\n",
        "\n",
        "b = \"Hello, World!\"\n",
        "print(b[:5])"
      ],
      "metadata": {
        "colab": {
          "base_uri": "https://localhost:8080/"
        },
        "id": "5GLO0-oi6ZtX",
        "outputId": "388c500b-cf3e-45fc-a5ac-f7ece5bfbbe6"
      },
      "execution_count": null,
      "outputs": [
        {
          "output_type": "stream",
          "name": "stdout",
          "text": [
            "Hello\n"
          ]
        }
      ]
    },
    {
      "cell_type": "code",
      "source": [
        "#Slice To the End\n",
        "#By leaving out the end index, the range will go to the end:\n",
        "\n",
        "# Get the characters from position 2, and all the way to the end:\n",
        "\n",
        "b = \"Hello, World!\"\n",
        "\n",
        "print(b[2:])"
      ],
      "metadata": {
        "colab": {
          "base_uri": "https://localhost:8080/"
        },
        "id": "iCoee29e6v6Y",
        "outputId": "ba263862-b58a-4a72-c775-5d141e25b97b"
      },
      "execution_count": null,
      "outputs": [
        {
          "output_type": "stream",
          "name": "stdout",
          "text": [
            "llo, World!\n"
          ]
        }
      ]
    },
    {
      "cell_type": "code",
      "source": [
        "# Negative Indexing\n",
        "# Use negative indexes to start the slice from the end of the string:\n",
        "\n",
        "#Get the characters: From: \"o\" in \"World!\" (position -5)\n",
        "#To, but not included: \"d\" in \"World!\" (position -2):\n",
        "\n",
        "b = \"Hello, World!\"\n",
        "\n",
        "print(b[-5:-2])"
      ],
      "metadata": {
        "colab": {
          "base_uri": "https://localhost:8080/"
        },
        "id": "AxIN5XYI7D1B",
        "outputId": "422403ed-ebf1-4f44-e937-b4db9dfaff82"
      },
      "execution_count": null,
      "outputs": [
        {
          "output_type": "stream",
          "name": "stdout",
          "text": [
            "orl\n"
          ]
        }
      ]
    },
    {
      "cell_type": "markdown",
      "source": [
        "# **Python - Modify Strings**\n",
        "Python has a set of built-in methods that you can use on strings."
      ],
      "metadata": {
        "id": "m-_KnG0Q9Cy0"
      }
    },
    {
      "cell_type": "code",
      "source": [
        "# Upper Case\n",
        "# The upper() method returns the string in upper case:\n",
        "\n",
        "a = \"Hello, World!\"\n",
        "print(a.upper())"
      ],
      "metadata": {
        "colab": {
          "base_uri": "https://localhost:8080/"
        },
        "id": "wHdXpiP29Qv5",
        "outputId": "7a363fdc-7805-4c22-9e3f-091e3cfec296"
      },
      "execution_count": null,
      "outputs": [
        {
          "output_type": "stream",
          "name": "stdout",
          "text": [
            "HELLO, WORLD!\n"
          ]
        }
      ]
    },
    {
      "cell_type": "code",
      "source": [
        "# Lower Case\n",
        "# The lower() method returns the string in lower case:\n",
        "\n",
        "a = \"Hello, World!\"\n",
        "print(a.lower())\n",
        "b = a.lower()\n",
        "print(b)"
      ],
      "metadata": {
        "colab": {
          "base_uri": "https://localhost:8080/"
        },
        "id": "v5EmfUKF9jR4",
        "outputId": "08cea3b8-1451-45fa-9a8f-ec78b338e77a"
      },
      "execution_count": null,
      "outputs": [
        {
          "output_type": "stream",
          "name": "stdout",
          "text": [
            "hello, world!\n",
            "hello, world!\n"
          ]
        }
      ]
    },
    {
      "cell_type": "code",
      "source": [
        "# Remove Whitespace\n",
        "# Whitespace is the space before and/or after the actual text, and very often you want to remove this space.\n",
        "\n",
        "\n",
        "# The strip() method removes any whitespace from the beginning or the end:\n",
        "\n",
        "a = \" Hello,    World!   \"\n",
        "print(a.strip())\n",
        "\n",
        "b=a.strip()\n",
        "print(b)"
      ],
      "metadata": {
        "colab": {
          "base_uri": "https://localhost:8080/"
        },
        "id": "wmZOa_Vk9zkH",
        "outputId": "01300236-d768-4b16-8021-c5e435dc474a"
      },
      "execution_count": null,
      "outputs": [
        {
          "output_type": "stream",
          "name": "stdout",
          "text": [
            "Hello,    World!\n",
            "Hello,    World!\n"
          ]
        }
      ]
    },
    {
      "cell_type": "code",
      "source": [
        "# Replace String\n",
        "# The replace() method replaces a string with another string:\n",
        "\n",
        "a = \"Hello, World!\"\n",
        "b = a.replace(\"H\",\"J\")\n",
        "\n",
        "print(a.replace(\"H\",\"J\"))\n",
        "\n",
        "print(b)\n"
      ],
      "metadata": {
        "colab": {
          "base_uri": "https://localhost:8080/"
        },
        "id": "hjofDLxx-gi4",
        "outputId": "fe4632f4-b206-41b3-e820-fe29f58ef0d5"
      },
      "execution_count": null,
      "outputs": [
        {
          "output_type": "stream",
          "name": "stdout",
          "text": [
            "Jello, World!\n",
            "Jello, World!\n"
          ]
        }
      ]
    },
    {
      "cell_type": "code",
      "source": [
        "# Split String\n",
        "# The split() method returns a list where the text between the specified separator becomes the list items.\n",
        "\n",
        "# The split() method splits the string into substrings if it finds instances of the separator:\n",
        "\n",
        "a = \"Hello, World!\"\n",
        "b = a.split(\",\")\n",
        "c,d = a.split(\",\")\n",
        "\n",
        "print(a.split(\",\"))\n",
        "print(b)\n",
        "print(c)\n",
        "print(d)"
      ],
      "metadata": {
        "colab": {
          "base_uri": "https://localhost:8080/"
        },
        "id": "ExC5HA0j_ARK",
        "outputId": "b2f85a5f-6289-4243-91e2-3e65b9c2d682"
      },
      "execution_count": null,
      "outputs": [
        {
          "output_type": "stream",
          "name": "stdout",
          "text": [
            "['Hello', ' World!']\n",
            "['Hello', ' World!']\n",
            "Hello\n",
            " World!\n"
          ]
        }
      ]
    },
    {
      "cell_type": "markdown",
      "source": [
        "# **Python String Methods**"
      ],
      "metadata": {
        "id": "Nyx12y2nvePc"
      }
    },
    {
      "cell_type": "code",
      "source": [
        "## Python has a set of built-in methods that you can use on strings.\n",
        "# Note: All string methods returns new values. They do not change the original string.\n",
        "\n",
        "a = \"hello, world!\"\n",
        "print(a.capitalize(), \" # captialize() Converts the first character to upper case \")\n",
        "\n",
        "a=\"HELLO WORLD!\"\n",
        "print(a.casefold(),   \" # Casefold() Converts string into lower case \")\n",
        "\n",
        "print(a.encode(),   \" # encode()  Returns an encoded version of the string \")\n",
        "\n",
        "a=\"Hello World123\"\n",
        "print(a.isalnum(), \"\t# isalnum() Returns True if all characters in the string are alphanumeric \")\n",
        "\n",
        "a=\"Hello World\"\n",
        "print(a.isalpha(), \" # isalpha() returns True if all characters in the string are in the alphabet \")\n",
        "print(a.isascii(), \" # isascii() returns True if all characters in the string are ascii characters \")\n",
        "\n",
        "a=\"12345.0\"\n",
        "print(\"12345.0\".isdecimal(),\t\" isdecimal()  returns True if all characters in the string are decimals \")\n",
        "\n",
        "a=\"123456\"\n",
        "print(a.isdigit(), \"# isdigit returns True if all characters in the string are digits \")\n",
        "print(a.isidentifier(), \" isidentified() returns True if the string is an identifier\")\n",
        "\n",
        "a=\"string in lower case \"\n",
        "print(a.islower(), \" # islower()returns True if all characters in the string are lower case \")\n",
        "\n",
        "a=\"123456\"\n",
        "print(a.isnumeric(), \" isnumeric() returns True if all characters in the string are numeric \")\n",
        "print(a.isprintable(), \" isprintable returns True if all characters in the string are printable \")\n",
        "\n",
        "a=\"          \"\n",
        "print(a.isspace(), \" isspace() returns True if all characters in the string are whitespaces \")\n",
        "\n",
        "a=\"My Name is Satya Prakash\"\n",
        "print(a.istitle(), \" istitle() returns() True if the string follows the rules of a title \")\n",
        "\n",
        "a=\"THIS STRING IS IN UPPERCASE\"\n",
        "print(a.isupper(), \" isupper() returns True if all characters in the string are upper case \")\n",
        "print(a.lower(), \" lower() Converts a string into lower case \")\n",
        "\n",
        "a=\"                 String with left padded Spaces\"\n",
        "print(a.lstrip(), \"lstrip()\treturns a left trim version of the string \")\n",
        "\n",
        "a=\" String with Right Padded Spaces              \"\n",
        "print(a.strip(), \" strip() a trimmed version of the string \")\n",
        "print(a.swapcase(), \" swapcase()  Swaps cases, lower case becomes upper case and vice versa \")\n",
        "\n",
        "a=\"wANT tO cONVERT to tITLE cASE\"\n",
        "print(a.title(), \"title()  Converts the first character of each word to upper case \")\n",
        "\n",
        "a=\" this is an entire lower sting text which i am trying to convert to uppercase \"\n",
        "print(a.upper(), \"upper()  Converts a string into upper case\")\n",
        "\n",
        "a= \" THis is a string with added spaces on both sides, check if rstripworked          \"\n",
        "print(a.rstrip(), \" rstrip() returns a right trim version of the string \")\n",
        "\n",
        "a= \"L This String starts with letter L check if starts with is able to check correctly    world!      \"\n",
        "print(a.startswith(\"L\"), \" startswith1() returns true if the string starts with the specified value \")\n",
        "\n",
        "a= \"L This String starts with letter L check if starts with is able to check correctly    world!      \"\n",
        "print(a.split(\" \"),\" split(), it Splits the string at the specified separator, and  returns a list \")\n",
        "\n",
        "a= \"L This String, starts with letter L, check if starts, with is able, to check, correctly    world! ,   ,  \"\n",
        "print(a.rsplit(\",\"),\t\" rsplit() Splits the string at the specified separator, and Returns a list \")\n",
        "\n",
        "a= \"L This String, starts with letter L, check if starts, with is able, to check, correctly    world! ,   ,  \"\n",
        "print(a.splitlines(),\t\"splitlines() Splits the string at line breaks and Returns a list\")\n",
        "\n",
        "a= \"L This String, starts with letter L, check if starts, with is able, to check, correctly    world! ,   ,  \"\n",
        "print(a.index(\"world!\"), \"  # Searches the string for a specified value and returns the position of where it was found\")\n",
        "\n",
        "a= \"L This String, starts with letter L, check if starts, with is able, to check, correctly    world! ,   ,  \"\n",
        "print(a.rindex(\"world!\"),\t\" rindex() Searches the string for a specified value and Returns the last position of where it was found\")\n",
        "\n",
        "a= \"L This String, starts with letter L, check if starts, with is able, to check, correctly    world! ,   ,  \"\n",
        "print(a.find(\"world!\"), \" find() Searches the string for a specified value and returns the position of where it was found\")\n",
        "\n",
        "a= \"L This String, starts with letter L, check if starts, with is able, to check, correctly    world! ,   ,  \"\n",
        "print(a.endswith(\",\"), \"endswith() Returns true if the string ends with the specified value\")\n",
        "\n",
        "print(a.rfind(\"c\"), \"  # rfind() Searches the string for a specified value and Returns the last position of where it was found\")\n",
        "\n",
        "a= \"L This String, is right Justified   \"\n",
        "print(a.rjust(100, \" \"), \" rjust() returns a right justified version of the string \")\n",
        "\n",
        "a= \"L This String, is CENTRE Justified   \"\n",
        "print(a.center(100, \" \"), \" center()  Returns a centered string  ERROR \")\n",
        "\n",
        "print(a.ljust(100, \" \"), \" ljust() returns a left justified version of the string\")\n",
        "\n",
        "a=\"wANT tO cONVERT to tITLE cASE\"\n",
        "print(a.count(\"O\"), \"  count()\tReturns the number of times a specified value occurs in a string\")\n",
        "print(a.endswith(\"E\"), \"\tendswith()  Returns true if the string ends with the specified value\")\n",
        "\n",
        "a=\"Testing this String for hte purpose of zfill() function \"\n",
        "print(a.zfill(150), \"  zfill()  Fills the string with a specified number of 0 values at the beginning\")\n",
        "\n",
        "a=\"wANT tO cONVERT to tITLE cASE for the purpose to validae replace function to\"\n",
        "print(a.replace(\"to\",\"satya\"),\"  replace()  Returns a string where a specified value is replaced with a specified value\")\n",
        "\n",
        "a=\"wANT tO cONVERT to tITLE cASE for the purpose to validae replace function to\"\n",
        "print(a.index(\"o\"), \" index() Searches the string for a specified value and returns the position of where it was found\")\n",
        "\n",
        "a=\"wANT tO cONVERT to tITLE cASE for the purpose to validae replace function to\"\n",
        "print(a.partition(\"to\"),\" partition() returns a tuple where the string is parted into three parts\")\n",
        "\n",
        "a=\"wANT tO cONVERT to tITLE cASE for the purpose to validae replace function to\"\n",
        "print(a.rpartition(\"to\"),\" rpartition() returns a tuple where the string is parted into three parts \")\n",
        "\n",
        "a=\"wANT tO cONVERT to tITLE cASE for the purpose to validae replace function to\"\n",
        "print(a.expandtabs(4),\"expandtabs() returns Sets the tab size of the string\")\n",
        "\n",
        "print()\n",
        "print()\n",
        "print()\n",
        "print()\n",
        "'''\n",
        "\n",
        "\n",
        "\n",
        " format()\t# Formats specified values in a string\n",
        " format_map()  #\tFormats specified values from a dictionary in a string\n",
        "join()\t              # Converts the elements of an iterable into a string\n",
        "maketrans()\t      # a translation table to be used in translations\n",
        "translate()\t      # a translated string\n",
        "'''"
      ],
      "metadata": {
        "colab": {
          "base_uri": "https://localhost:8080/",
          "height": 909
        },
        "id": "Oldp4KoJvayC",
        "outputId": "bc68ec17-7c59-4304-d764-a62b22531a2d"
      },
      "execution_count": null,
      "outputs": [
        {
          "output_type": "stream",
          "name": "stdout",
          "text": [
            "Hello, world!  # captialize() Converts the first character to upper case \n",
            "hello world!  # Casefold() Converts string into lower case \n",
            "b'HELLO WORLD!'  # encode()  Returns an encoded version of the string \n",
            "False \t# isalnum() Returns True if all characters in the string are alphanumeric \n",
            "False  # isalpha() returns True if all characters in the string are in the alphabet \n",
            "True  # isascii() returns True if all characters in the string are ascii characters \n",
            "False  isdecimal()  returns True if all characters in the string are decimals \n",
            "True # isdigit returns True if all characters in the string are digits \n",
            "False  isidentified() returns True if the string is an identifier\n",
            "True  # islower()returns True if all characters in the string are lower case \n",
            "True  isnumeric() returns True if all characters in the string are numeric \n",
            "True  isprintable returns True if all characters in the string are printable \n",
            "True  isspace() returns True if all characters in the string are whitespaces \n",
            "False  istitle() returns() True if the string follows the rules of a title \n",
            "True  isupper() returns True if all characters in the string are upper case \n",
            "this string is in uppercase  lower() Converts a string into lower case \n",
            "String with left padded Spaces lstrip()\treturns a left trim version of the string \n",
            "String with Right Padded Spaces  strip() a trimmed version of the string \n",
            " sTRING WITH rIGHT pADDED sPACES                swapcase()  Swaps cases, lower case becomes upper case and vice versa \n",
            "Want To Convert To Title Case title()  Converts the first character of each word to upper case \n",
            " THIS IS AN ENTIRE LOWER STING TEXT WHICH I AM TRYING TO CONVERT TO UPPERCASE  upper()  Converts a string into upper case\n",
            " THis is a string with added spaces on both sides, check if rstripworked  rstrip() returns a right trim version of the string \n",
            "True  startswith1() returns true if the string starts with the specified value \n",
            "['L', 'This', 'String', 'starts', 'with', 'letter', 'L', 'check', 'if', 'starts', 'with', 'is', 'able', 'to', 'check', 'correctly', '', '', '', 'world!', '', '', '', '', '', '']  split(), it Splits the string at the specified separator, and  returns a list \n",
            "['L This String', ' starts with letter L', ' check if starts', ' with is able', ' to check', ' correctly    world! ', '   ', '  ']  rsplit() Splits the string at the specified separator, and Returns a list \n",
            "['L This String, starts with letter L, check if starts, with is able, to check, correctly    world! ,   ,  '] splitlines() Splits the string at line breaks and Returns a list\n",
            "91   # Searches the string for a specified value and returns the position of where it was found\n",
            "91  rindex() Searches the string for a specified value and Returns the last position of where it was found\n",
            "91  find() Searches the string for a specified value and returns the position of where it was found\n",
            "False endswith() Returns true if the string ends with the specified value\n",
            "83   # rfind() Searches the string for a specified value and Returns the last position of where it was found\n",
            "                                                                L This String, is right Justified     rjust() returns a right justified version of the string \n",
            "                               L This String, is CENTRE Justified                                     center()  Returns a centered string  ERROR \n",
            "L This String, is CENTRE Justified                                                                    ljust() returns a left justified version of the string\n",
            "2   count()\tReturns the number of times a specified value occurs in a string\n",
            "True \tendswith()  Returns true if the string ends with the specified value\n",
            "0000000000000000000000000000000000000000000000000000000000000000000000000000000000000000000000Testing this String for hte purpose of zfill() function    zfill()  Fills the string with a specified number of 0 values at the beginning\n",
            "wANT tO cONVERT satya tITLE cASE for the purpose satya validae replace function satya   replace()  Returns a string where a specified value is replaced with a specified value\n",
            "17  index() Searches the string for a specified value and returns the position of where it was found\n",
            "('wANT tO cONVERT ', 'to', ' tITLE cASE for the purpose to validae replace function to')  partition() returns a tuple where the string is parted into three parts\n",
            "('wANT tO cONVERT to tITLE cASE for the purpose to validae replace function ', 'to', '')  rpartition() returns a tuple where the string is parted into three parts \n",
            "wANT tO cONVERT to tITLE cASE for the purpose to validae replace function to expandtabs() returns Sets the tab size of the string\n",
            "\n",
            "\n",
            "\n",
            "\n"
          ]
        },
        {
          "output_type": "execute_result",
          "data": {
            "text/plain": [
              "'\\n\\n\\n\\n format()\\t# Formats specified values in a string\\n format_map()  #\\tFormats specified values from a dictionary in a string\\njoin()\\t              # Converts the elements of an iterable into a string\\nmaketrans()\\t      # a translation table to be used in translations\\ntranslate()\\t      # a translated string\\n'"
            ],
            "application/vnd.google.colaboratory.intrinsic+json": {
              "type": "string"
            }
          },
          "metadata": {},
          "execution_count": 67
        }
      ]
    },
    {
      "cell_type": "markdown",
      "source": [
        "# **Python - String Concatenation**"
      ],
      "metadata": {
        "id": "4cdzFzUrhMgg"
      }
    },
    {
      "cell_type": "code",
      "source": [
        "# To concatenate, or combine, two strings you can use the + operator.\n",
        "\n",
        "# Merge variable a with variable b into variable c:\n",
        "\n",
        "a = \"Hello\"\n",
        "b=\"world\"\n",
        "c=a+b\n",
        "print(c)"
      ],
      "metadata": {
        "colab": {
          "base_uri": "https://localhost:8080/"
        },
        "id": "FW0kC37yhSBT",
        "outputId": "e2e8361d-9716-498e-e783-589d82c3f548"
      },
      "execution_count": null,
      "outputs": [
        {
          "output_type": "stream",
          "name": "stdout",
          "text": [
            "Hello world\n"
          ]
        }
      ]
    },
    {
      "cell_type": "code",
      "source": [
        "# To add a space between them, add a \" \":\n",
        "\n",
        "a = \"Hello\"\n",
        "b=\"world\"\n",
        "c= a + \" \" + b\n",
        "\n",
        "print(c)\n",
        "\n"
      ],
      "metadata": {
        "colab": {
          "base_uri": "https://localhost:8080/"
        },
        "id": "jta5FQR5htNd",
        "outputId": "a6375e58-5c65-4a79-aa42-29c2dc6bb6e8"
      },
      "execution_count": null,
      "outputs": [
        {
          "output_type": "stream",
          "name": "stdout",
          "text": [
            "Hello world\n"
          ]
        }
      ]
    },
    {
      "cell_type": "markdown",
      "source": [
        "# **Python - Format - Strings**"
      ],
      "metadata": {
        "id": "jhZj8CW0iJaz"
      }
    },
    {
      "cell_type": "code",
      "source": [
        "#String Format\n",
        "# As we learned in the Python Variables , we cannot combine strings and numbers like this:\n",
        "\n",
        "age = 36\n",
        "#This will produce an error:\n",
        "txt = \"My name is John, I am \" + age\n",
        "\n",
        "print(txt)"
      ],
      "metadata": {
        "colab": {
          "base_uri": "https://localhost:8080/",
          "height": 219
        },
        "id": "GtrKx-WKiMFU",
        "outputId": "1e148a92-2562-4b6f-f61e-5e82cfec212f"
      },
      "execution_count": null,
      "outputs": [
        {
          "output_type": "error",
          "ename": "TypeError",
          "evalue": "can only concatenate str (not \"int\") to str",
          "traceback": [
            "\u001b[0;31m---------------------------------------------------------------------------\u001b[0m",
            "\u001b[0;31mTypeError\u001b[0m                                 Traceback (most recent call last)",
            "\u001b[0;32m/tmp/ipython-input-132615495.py\u001b[0m in \u001b[0;36m<cell line: 0>\u001b[0;34m()\u001b[0m\n\u001b[1;32m      4\u001b[0m \u001b[0mage\u001b[0m \u001b[0;34m=\u001b[0m \u001b[0;36m36\u001b[0m\u001b[0;34m\u001b[0m\u001b[0;34m\u001b[0m\u001b[0m\n\u001b[1;32m      5\u001b[0m \u001b[0;31m#This will produce an error:\u001b[0m\u001b[0;34m\u001b[0m\u001b[0;34m\u001b[0m\u001b[0m\n\u001b[0;32m----> 6\u001b[0;31m \u001b[0mtxt\u001b[0m \u001b[0;34m=\u001b[0m \u001b[0;34m\"My name is John, I am \"\u001b[0m \u001b[0;34m+\u001b[0m \u001b[0mage\u001b[0m\u001b[0;34m\u001b[0m\u001b[0;34m\u001b[0m\u001b[0m\n\u001b[0m\u001b[1;32m      7\u001b[0m \u001b[0;34m\u001b[0m\u001b[0m\n\u001b[1;32m      8\u001b[0m \u001b[0mprint\u001b[0m\u001b[0;34m(\u001b[0m\u001b[0mtxt\u001b[0m\u001b[0;34m)\u001b[0m\u001b[0;34m\u001b[0m\u001b[0;34m\u001b[0m\u001b[0m\n",
            "\u001b[0;31mTypeError\u001b[0m: can only concatenate str (not \"int\") to str"
          ]
        }
      ]
    },
    {
      "cell_type": "markdown",
      "source": [
        "### **But we can combine strings and numbers by using f-strings or the format() method!**\n",
        "\n"
      ],
      "metadata": {
        "id": "WZLQSdkrikO7"
      }
    },
    {
      "cell_type": "code",
      "source": [
        "# But we can combine strings and numbers by using f-strings or the format() method!\n",
        "\n",
        "#F-Strings\n",
        "#F-String was introduced in Python 3.6, and is now the preferred way of formatting strings.\n",
        "\n",
        "# To specify a string as an f-string, simply put an f in front of the string literal, and add curly brackets {} as placeholders for variables and other operations.\n",
        "\n",
        "# Example Create an f-string:\n",
        "\n",
        "age = 40\n",
        "txt = f\"My name is Satya, I am {age}\"\n",
        "print(txt)"
      ],
      "metadata": {
        "colab": {
          "base_uri": "https://localhost:8080/"
        },
        "id": "b168kkF2idmv",
        "outputId": "fce28ad6-db04-49a2-d8c2-f5522d32e708"
      },
      "execution_count": null,
      "outputs": [
        {
          "output_type": "stream",
          "name": "stdout",
          "text": [
            "My name is Satya, I am 40\n"
          ]
        }
      ]
    },
    {
      "cell_type": "markdown",
      "source": [
        "##Placeholders and Modifiers\n",
        "###A placeholder can contain variables, operations, functions, and modifiers to format the value."
      ],
      "metadata": {
        "id": "MHg2u4KLjRhD"
      }
    },
    {
      "cell_type": "code",
      "source": [
        "# Example Add a placeholder for the price variable:\n",
        "\n",
        "price = 59\n",
        "txt = f\"The price is {price} dollars.\"\n",
        "print(txt)\n",
        "\n",
        "# A placeholder can contain Python code, like math operations: Perform a math operation in the placeholder, and return the result:\n",
        "txt = f\"Twice the price is {price + price} dollars.\"\n",
        "print(txt)\n",
        "\n",
        "# A placeholder can include a modifier to format the value.\n",
        "# A modifier is included by adding a colon : followed by a legal formatting type, like .2f which means fixed point number with 2 decimals:\n",
        "\n",
        "price = 59\n",
        "txt = f\"The price is {price:.2f} dollars\"\n",
        "print(txt)"
      ],
      "metadata": {
        "colab": {
          "base_uri": "https://localhost:8080/"
        },
        "id": "zm9Bi_NZjXeP",
        "outputId": "a3eeea21-99f6-4532-eed6-50c827bd5f83"
      },
      "execution_count": null,
      "outputs": [
        {
          "output_type": "stream",
          "name": "stdout",
          "text": [
            "The price is 59 dollars.\n",
            "Twice the price is 118 dollars.\n",
            "The price is 59.00 dollars\n"
          ]
        }
      ]
    },
    {
      "cell_type": "markdown",
      "source": [
        "#** Escape Characters **"
      ],
      "metadata": {
        "id": "X1peJBnTlNPM"
      }
    },
    {
      "cell_type": "code",
      "source": [
        "# Escape Character\n",
        "# To insert characters that are illegal in a string, use an escape character.\n",
        "# An escape character is a backslash \\ followed by the character you want to insert.\n",
        "# An example of an illegal character is a double quote inside a string that is surrounded by double quotes:\n",
        "\n",
        "# Example: You will get an error if you use double quotes inside a string that is surrounded by double quotes:\n",
        "\n",
        "txt = \"We are the so-called \"Vikings\" from the north.\"\n",
        "print(txt)\n",
        "\n"
      ],
      "metadata": {
        "colab": {
          "base_uri": "https://localhost:8080/",
          "height": 110
        },
        "id": "tMsUu1AelS3o",
        "outputId": "0aa4a476-a57d-49ff-e85b-5bc8d2af4cef"
      },
      "execution_count": null,
      "outputs": [
        {
          "output_type": "error",
          "ename": "SyntaxError",
          "evalue": "invalid syntax (ipython-input-2166598672.py, line 8)",
          "traceback": [
            "\u001b[0;36m  File \u001b[0;32m\"/tmp/ipython-input-2166598672.py\"\u001b[0;36m, line \u001b[0;32m8\u001b[0m\n\u001b[0;31m    txt = \"We are the so-called \"Vikings\" from the north.\"\u001b[0m\n\u001b[0m                                 ^\u001b[0m\n\u001b[0;31mSyntaxError\u001b[0m\u001b[0;31m:\u001b[0m invalid syntax\n"
          ]
        }
      ]
    },
    {
      "cell_type": "code",
      "source": [
        "# To fix this problem, use the escape character \\\": The escape character allows you to use double quotes when you normally would not be allowed:\n",
        "\n",
        "txt = \"We are the so-called \\\"Vikings\\\" from the north.\"\n",
        "print(txt)\n",
        "\n"
      ],
      "metadata": {
        "colab": {
          "base_uri": "https://localhost:8080/"
        },
        "id": "0JNSHUwpl0Oo",
        "outputId": "028685ee-0ef2-4d12-89c1-cd49c4a9d889"
      },
      "execution_count": null,
      "outputs": [
        {
          "output_type": "stream",
          "name": "stdout",
          "text": [
            "We are the so-called \"Vikings\" from the north.\n"
          ]
        }
      ]
    },
    {
      "cell_type": "code",
      "source": [
        "# Other Escape Characters:\n",
        "\n",
        "txt = 'It\\'s alright.'\n",
        "print(txt)\n",
        "\n",
        "txt = \"This will insert one \\\\ (backslash).\"\n",
        "print(txt)\n",
        "\n",
        "txt = \"Hello \\n World\"\n",
        "print(txt)\n",
        "\n",
        "txt = \"Hello \\r World\"\n",
        "print(txt)\n",
        "\n",
        "\n",
        "txt = \"Hello \\t \\t \\t World\"\n",
        "print(txt)\n",
        "\n",
        "#This example erases one character (backspace):\n",
        "txt = \"Hello \\bWorld\"\n",
        "print(txt)\n",
        "\n",
        "\n",
        "txt = \"Hello \\f World\"\n",
        "print(txt)\n",
        "\n",
        "#A backslash followed by three integers will result in a octal value:\n",
        "txt = \"\\110\\145\\154\\154\\157\"\n",
        "print(txt)\n",
        "\n",
        "#A backslash followed by an 'x' and a hex number represents a hex value:\n",
        "txt = \"\\x48\\x65\\x6c\\x6c\\x6f\"\n",
        "print(txt)"
      ],
      "metadata": {
        "colab": {
          "base_uri": "https://localhost:8080/"
        },
        "id": "xHPaW6H6mJcZ",
        "outputId": "5156412b-3a0c-48a4-9371-10968f81ea12"
      },
      "execution_count": null,
      "outputs": [
        {
          "output_type": "stream",
          "name": "stdout",
          "text": [
            "It's alright.\n",
            "This will insert one \\ (backslash).\n",
            "Hello \n",
            " World\n",
            "Hello \r World\n",
            "Hello \t \t \t World\n",
            "Hello \bWorld\n",
            "Hello \f World\n",
            "Hello\n",
            "Hello\n"
          ]
        }
      ]
    }
  ]
}